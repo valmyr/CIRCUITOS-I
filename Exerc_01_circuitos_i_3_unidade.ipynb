{
  "cells": [
    {
      "cell_type": "markdown",
      "metadata": {
        "id": "view-in-github",
        "colab_type": "text"
      },
      "source": [
        "<a href=\"https://colab.research.google.com/github/valmyr/CIRCUITOS-I/blob/main/Exerc_01_circuitos_i_3_unidade.ipynb\" target=\"_parent\"><img src=\"https://colab.research.google.com/assets/colab-badge.svg\" alt=\"Open In Colab\"/></a>"
      ]
    },
    {
      "cell_type": "code",
      "execution_count": null,
      "metadata": {
        "colab": {
          "base_uri": "https://localhost:8080/"
        },
        "id": "Tpt8kHxZOrai",
        "outputId": "7ff245c0-998e-4f10-f0a6-f4c49c5c766b"
      },
      "outputs": [
        {
          "name": "stdout",
          "output_type": "stream",
          "text": [
            "fatal: destination path 'ElectricCircuits' already exists and is not an empty directory.\n"
          ]
        }
      ],
      "source": [
        "#https://tinyurl.com/26pzqby7\n",
        "import sys\n",
        "!git clone https://github.com/edsonportosilva/ElectricCircuits.git\n",
        "sys.path.insert(0, '/content/ElectricCircuits/Jupyter notebooks/')"
      ]
    },
    {
      "cell_type": "code",
      "execution_count": null,
      "metadata": {
        "id": "HIJeyJRHrIcy"
      },
      "outputs": [],
      "source": [
        "import sympy as sp\n",
        "import numpy as np\n",
        "from matplotlib.pyplot import plot as plt\n",
        "from utils import round_expr, symdisp, symplot\n",
        "from sympy.polys.partfrac import apart"
      ]
    },
    {
      "cell_type": "code",
      "execution_count": null,
      "metadata": {
        "id": "L4r7GLOJs2xk"
      },
      "outputs": [],
      "source": [
        "sp.init_printing()\n",
        "# transformada de Laplace\n",
        "def L(f,t,s):\n",
        "    return sp.laplace_transform(f, t, s, noconds=True)\n",
        "\n",
        "# transformada inversa de Laplace\n",
        "def invL(F,s,t):\n",
        "    return sp.re(sp.inverse_laplace_transform(F, s, t, noconds=True))\n",
        "\n",
        "# funções para auxílio na expansão em frações parciais\n",
        "def adjustCoeff(expr):    \n",
        "    coeff = expr.as_numer_denom()\n",
        "    c0 = sp.poly(coeff[1].cancel()).coeffs()[0]\n",
        "    \n",
        "    return (coeff[0].cancel()/c0)/(coeff[1].cancel()/c0)\n",
        "\n",
        "def partFrac(expr, Ndigits):\n",
        "    expr = expr.cancel()\n",
        "    expr = apart(adjustCoeff(expr), s, full=True).doit()\n",
        "    \n",
        "    return sp.N(expr, Ndigits)"
      ]
    },
    {
      "cell_type": "code",
      "execution_count": null,
      "metadata": {
        "colab": {
          "base_uri": "https://localhost:8080/"
        },
        "id": "52TA8-9uOqQV",
        "outputId": "8b720bfa-5e4c-43a6-e8c4-9d8e3fb2a8a0"
      },
      "outputs": [
        {
          "name": "stdout",
          "output_type": "stream",
          "text": [
            "5 3 1\n"
          ]
        }
      ],
      "source": [
        "matricula = [4,2,0]\n",
        "R1 = matricula[0]+1\n",
        "R2 = matricula[1]+1\n",
        "R3 = matricula[2]+1\n",
        "print(R1,R2,R3)"
      ]
    },
    {
      "cell_type": "code",
      "execution_count": null,
      "metadata": {
        "id": "gwysDJBggbyN"
      },
      "outputs": [],
      "source": [
        "#Definição das variáveis do tipo símbolicas para o método das tensões de nó\n",
        "#Item C\n",
        "X,Y,Z,VC,s,t = sp.symbols('X,Y,Z,Vc,s,t')\n",
        "I1,I2,I3,IC,IL1,IL2 = sp.symbols('I_1,I_2,I_3,I_C,I_L1,I_L2')"
      ]
    },
    {
      "cell_type": "code",
      "execution_count": null,
      "metadata": {
        "id": "wfuJ6Iss8Ycz"
      },
      "outputs": [],
      "source": [
        "I1  = -(X-100/s)/(2*R2)\n",
        "I2  =  (X-Y)/(2*R1)\n",
        "I3  =  Y/R1\n",
        "IL1 =  (Y-Z)/(0.4*s) \n",
        "IL2 =  (Z+1)/(s+2*R3)\n",
        "IC = (X-Z-10/s)/(4000/s)\n",
        "Eq1 = sp.Eq(I1,I2+IC).simplify()    #Equação nó X\n",
        "Eq2 = sp.Eq(I2,I3+IL1).simplify()   #Equação nó Y\n",
        "Eq3 = sp.Eq(IL2,IC+IL1).simplify()  #Equação nó Z"
      ]
    },
    {
      "cell_type": "code",
      "execution_count": null,
      "metadata": {
        "colab": {
          "base_uri": "https://localhost:8080/",
          "height": 53
        },
        "id": "7zNWK9dm9AZb",
        "outputId": "5c099073-e69f-4096-840c-7ea9f2399f47"
      },
      "outputs": [
        {
          "data": {
            "image/png": "[encoded data removed]",
            "text/latex": "$\\displaystyle \\frac{- X s + 100}{6 s} = \\frac{X}{10} - \\frac{Y}{10} + \\frac{s \\left(X - Z\\right)}{4000} - \\frac{1}{400}$",
            "text/plain": [
              "-X⋅s + 100   X    Y    s⋅(X - Z)    1 \n",
              "────────── = ── - ── + ───────── - ───\n",
              "   6⋅s       10   10      4000     400"
            ]
          },
          "execution_count": 217,
          "metadata": {},
          "output_type": "execute_result"
        }
      ],
      "source": [
        "Eq1"
      ]
    },
    {
      "cell_type": "code",
      "source": [
        ""
      ],
      "metadata": {
        "id": "84JVdl0Bb4xY"
      },
      "execution_count": null,
      "outputs": []
    },
    {
      "cell_type": "code",
      "execution_count": null,
      "metadata": {
        "colab": {
          "base_uri": "https://localhost:8080/",
          "height": 52
        },
        "id": "YrJS6NsM6ojJ",
        "outputId": "9dfb7967-269c-4e13-87fd-2d0325772562"
      },
      "outputs": [
        {
          "data": {
            "image/png": "[encoded data removed]",
            "text/latex": "$\\displaystyle \\frac{X}{10} - \\frac{Y}{10} = \\frac{Y s + 12.5 Y - 12.5 Z}{5 s}$",
            "text/plain": [
              "X    Y    Y⋅s + 12.5⋅Y - 12.5⋅Z\n",
              "── - ── = ─────────────────────\n",
              "10   10            5⋅s         "
            ]
          },
          "execution_count": 218,
          "metadata": {},
          "output_type": "execute_result"
        }
      ],
      "source": [
        "Eq2"
      ]
    },
    {
      "cell_type": "code",
      "execution_count": null,
      "metadata": {
        "colab": {
          "base_uri": "https://localhost:8080/",
          "height": 54
        },
        "id": "xhLy0CcJ9pNw",
        "outputId": "3c9f2200-c2fa-43b8-dfd4-f066c37c43b5"
      },
      "outputs": [
        {
          "data": {
            "image/png": "[encoded data removed]",
            "text/latex": "$\\displaystyle \\frac{Z + 1}{s + 2} = \\frac{10000.0 Y - 10000.0 Z - s \\left(s \\left(- X + Z\\right) + 10\\right)}{4000 s}$",
            "text/plain": [
              "Z + 1   10000.0⋅Y - 10000.0⋅Z - s⋅(s⋅(-X + Z) + 10)\n",
              "───── = ───────────────────────────────────────────\n",
              "s + 2                      4000⋅s                  "
            ]
          },
          "execution_count": 219,
          "metadata": {},
          "output_type": "execute_result"
        }
      ],
      "source": [
        "Eq3"
      ]
    },
    {
      "cell_type": "code",
      "execution_count": null,
      "metadata": {
        "id": "uL24iWnPjpSa"
      },
      "outputs": [],
      "source": [
        "sol = sp.solve([Eq1,Eq2,Eq3],[X,Y,Z],dict= True)[0] # resolução do sistema linear"
      ]
    },
    {
      "cell_type": "code",
      "execution_count": null,
      "metadata": {
        "colab": {
          "base_uri": "https://localhost:8080/",
          "height": 41
        },
        "id": "d1wBNZFvzEQ8",
        "outputId": "c0ad0c41-f5f2-4fb8-b2f5-e559470a68f3"
      },
      "outputs": [
        {
          "data": {
            "text/latex": "$$X(s) = \\frac{1410.0 s^{3} + 17150.0 s^{2} + 20735500.0 s + 80000000.0}{21.0 s^{4} + 407.0 s^{3} + 295300.0 s^{2} + 1220000.0 s}\\;Vs$$",
            "text/plain": [
              "<IPython.core.display.Math object>"
            ]
          },
          "metadata": {},
          "output_type": "display_data"
        }
      ],
      "source": [
        "symdisp('X(s) = ',sol[X],'Vs') #Valor de tensão do nó X no domínio da frequência"
      ]
    },
    {
      "cell_type": "code",
      "execution_count": null,
      "metadata": {
        "colab": {
          "base_uri": "https://localhost:8080/",
          "height": 41
        },
        "id": "SVSIZSE6zEWv",
        "outputId": "a2f2aa93-7558-4746-f329-a31895912f20"
      },
      "outputs": [
        {
          "data": {
            "text/latex": "$$Y(s) = \\frac{470.0 s^{3} + 11800.0 s^{2} + 6222500.0 s + 10000000.0}{21.0 s^{4} + 407.0 s^{3} + 295300.0 s^{2} + 1220000.0 s}\\;Vs$$",
            "text/plain": [
              "<IPython.core.display.Math object>"
            ]
          },
          "metadata": {},
          "output_type": "display_data"
        }
      ],
      "source": [
        "symdisp('Y(s) = ',sol[Y],'Vs') #Valor de tensão do nó Y no domínio da frequência"
      ]
    },
    {
      "cell_type": "code",
      "execution_count": null,
      "metadata": {
        "colab": {
          "base_uri": "https://localhost:8080/",
          "height": 41
        },
        "id": "5-VOyd5XzEcC",
        "outputId": "f6009a6d-8d51-4ae6-ccf6-3aac3a9f1dbb"
      },
      "outputs": [
        {
          "data": {
            "text/latex": "$$Z(s) = \\frac{1200.0 s^{3} - 70920.0 s^{2} + 4222500.0 s + 10000000.0}{21.0 s^{4} + 407.0 s^{3} + 295300.0 s^{2} + 1220000.0 s}\\;Vs$$",
            "text/plain": [
              "<IPython.core.display.Math object>"
            ]
          },
          "metadata": {},
          "output_type": "display_data"
        }
      ],
      "source": [
        "symdisp('Z(s) = ',sol[Z],'Vs') #Valor de tensão do nó Z no domínio da frequência"
      ]
    },
    {
      "cell_type": "code",
      "execution_count": null,
      "metadata": {
        "id": "aAsoxOir__hn"
      },
      "outputs": [],
      "source": [
        "\n",
        "IL1 = IL1.subs({X:sol[X],Y:sol[Y],Z:sol[Z]}).simplify()# Corrente no indutor L1 = 0,4H pelo método das tensões de nó\n",
        "IL2 = IL2.subs({X:sol[X],Y:sol[Y],Z:sol[Z]}).simplify()# Corrente no indutor L2 = 1H pelo método das tensões de nó\n",
        "VC = (sol[X]-sol[Z]).simplify()# Tensão no capacitor C = 250uF pelo método das tensões de nó"
      ]
    },
    {
      "cell_type": "code",
      "execution_count": null,
      "metadata": {
        "colab": {
          "base_uri": "https://localhost:8080/",
          "height": 58
        },
        "id": "1EBEL0avAKxy",
        "outputId": "c9fdd8ae-6fb4-4618-cfac-d8f99aa728be"
      },
      "outputs": [
        {
          "data": {
            "image/png": "[encoded data removed]",
            "text/latex": "$\\displaystyle \\frac{21.0 s^{3} + 1565.0 s^{2} + 221250.0 s + 5000000.0}{s \\left(21.0 s^{3} + 407.0 s^{2} + 295300.0 s + 1220000.0\\right)}$",
            "text/plain": [
              "        3           2                          \n",
              "  21.0⋅s  + 1565.0⋅s  + 221250.0⋅s + 5000000.0 \n",
              "───────────────────────────────────────────────\n",
              "  ⎛      3          2                         ⎞\n",
              "s⋅⎝21.0⋅s  + 407.0⋅s  + 295300.0⋅s + 1220000.0⎠"
            ]
          },
          "execution_count": 225,
          "metadata": {},
          "output_type": "execute_result"
        }
      ],
      "source": [
        "IL2.subs(Z,sol[Z])\n",
        "\n"
      ]
    },
    {
      "cell_type": "code",
      "execution_count": null,
      "metadata": {
        "colab": {
          "base_uri": "https://localhost:8080/",
          "height": 166
        },
        "id": "hTQbMTFImX6T",
        "outputId": "93005f7e-362c-4d38-f2f1-1e6ffb50922f"
      },
      "outputs": [
        {
          "data": {
            "text/latex": "$$V_c(0^+) = 10.0\\;V$$",
            "text/plain": [
              "<IPython.core.display.Math object>"
            ]
          },
          "metadata": {},
          "output_type": "display_data"
        },
        {
          "data": {
            "text/latex": "$$I_{L1}(0^+) = 0\\;A$$",
            "text/plain": [
              "<IPython.core.display.Math object>"
            ]
          },
          "metadata": {},
          "output_type": "display_data"
        },
        {
          "data": {
            "text/latex": "$$I_{L2}(0^+) = 1.0\\;A$$",
            "text/plain": [
              "<IPython.core.display.Math object>"
            ]
          },
          "metadata": {},
          "output_type": "display_data"
        },
        {
          "name": "stdout",
          "output_type": "stream",
          "text": [
            "\n"
          ]
        },
        {
          "data": {
            "text/latex": "$$V_c(+\\infty) = 57.3770491803279\\;V$$",
            "text/plain": [
              "<IPython.core.display.Math object>"
            ]
          },
          "metadata": {},
          "output_type": "display_data"
        },
        {
          "data": {
            "text/latex": "$$I_{L1}(+\\infty) = 4.0983606557377\\;A$$",
            "text/plain": [
              "<IPython.core.display.Math object>"
            ]
          },
          "metadata": {},
          "output_type": "display_data"
        },
        {
          "data": {
            "text/latex": "$$I_{L2}(+\\infty) = 4.0983606557377\\;A$$",
            "text/plain": [
              "<IPython.core.display.Math object>"
            ]
          },
          "metadata": {},
          "output_type": "display_data"
        }
      ],
      "source": [
        "symdisp('V_c(0^+) = ',sp.limit(s*VC,s,sp.oo),'V')\n",
        "symdisp('I_{L1}(0^+) = ',sp.limit(s*IL1,s,sp.oo),'A')\n",
        "symdisp('I_{L2}(0^+) = ',sp.limit(s*IL2,s,sp.oo),'A')\n",
        "print()\n",
        "symdisp('V_c(+\\infty) = ',sp.limit(s*VC,s,0),'V')\n",
        "symdisp('I_{L1}(+\\infty) = ',sp.limit(s*IL1,s,0),'A')\n",
        "symdisp('I_{L2}(+\\infty) = ',sp.limit(s*IL2,s,0),'A')\n",
        "\n"
      ]
    },
    {
      "cell_type": "code",
      "execution_count": null,
      "metadata": {
        "colab": {
          "base_uri": "https://localhost:8080/",
          "height": 43
        },
        "id": "NLEydlFkGlx1",
        "outputId": "f59d3eb8-4ab5-4064-97a6-195eb18bcf51"
      },
      "outputs": [
        {
          "data": {
            "text/latex": "$$V_c(s) = \\frac{210.0 s^{3} + 88070.0 s^{2} + 16513000.0 s + 70000000.0}{s \\left(21.0 s^{3} + 407.0 s^{2} + 295300.0 s + 1220000.0\\right)}\\;Vs$$",
            "text/plain": [
              "<IPython.core.display.Math object>"
            ]
          },
          "metadata": {},
          "output_type": "display_data"
        }
      ],
      "source": [
        "symdisp('V_c(s) = ', VC, 'Vs')"
      ]
    },
    {
      "cell_type": "code",
      "execution_count": null,
      "metadata": {
        "colab": {
          "base_uri": "https://localhost:8080/",
          "height": 43
        },
        "id": "uMh7gsKcGoKs",
        "outputId": "25c2f4c5-fb2e-434c-a4e4-6570b2ecf39b"
      },
      "outputs": [
        {
          "data": {
            "text/latex": "$$I_{L1}(s) = \\frac{- 1825.0 s^{2} + 206800.0 s + 5000000.0}{s \\left(21.0 s^{3} + 407.0 s^{2} + 295300.0 s + 1220000.0\\right)}\\;As$$",
            "text/plain": [
              "<IPython.core.display.Math object>"
            ]
          },
          "metadata": {},
          "output_type": "display_data"
        }
      ],
      "source": [
        "symdisp('I_{L1}(s) = ', IL1, 'As')"
      ]
    },
    {
      "cell_type": "code",
      "execution_count": null,
      "metadata": {
        "colab": {
          "base_uri": "https://localhost:8080/",
          "height": 43
        },
        "id": "J9DvxOjWGprp",
        "outputId": "f323d9cd-964b-4a80-8989-82ad55acfd10"
      },
      "outputs": [
        {
          "data": {
            "text/latex": "$$I_{L2}(s) = \\frac{21.0 s^{3} + 1565.0 s^{2} + 221250.0 s + 5000000.0}{s \\left(21.0 s^{3} + 407.0 s^{2} + 295300.0 s + 1220000.0\\right)}\\;As$$",
            "text/plain": [
              "<IPython.core.display.Math object>"
            ]
          },
          "metadata": {},
          "output_type": "display_data"
        }
      ],
      "source": [
        "symdisp('I_{L2}(s) = ', IL2, 'As')"
      ]
    },
    {
      "cell_type": "code",
      "execution_count": null,
      "metadata": {
        "id": "g_V011GJYfAi"
      },
      "outputs": [],
      "source": [
        "#Definição das variáveis do tipo símbolicas para o método das correntes de malha\n",
        "#Item D\n",
        "Ia,Ib,Ic = sp.symbols('I_a,I_b,I_c')\n",
        "\n",
        "Eq1 = sp.Eq(2*R2*Ia-(100/s)+2*R1*(Ia-Ib)+R1*(Ia-Ic), 0).simplify()\n",
        "Eq2 = sp.Eq(-R1*(Ia-Ic)+(0.4*s)*(Ic-Ib)+s*Ic-1+2*R3*Ic,0).simplify()\n",
        "Eq3 = sp.Eq((4000/s)*Ib+10/s-0.4*s*(Ic-Ib)-2*R1*(Ia-Ib),0).simplify()"
      ]
    },
    {
      "cell_type": "code",
      "execution_count": null,
      "metadata": {
        "colab": {
          "base_uri": "https://localhost:8080/",
          "height": 51
        },
        "id": "Ey7RfTKSZpmQ",
        "outputId": "5466ee3d-fb1b-45fe-94e1-67560ed857aa"
      },
      "outputs": [
        {
          "data": {
            "image/png": "[encoded data removed]",
            "text/latex": "$\\displaystyle - 21 I_{a} + 10 I_{b} + 5 I_{c} + \\frac{100}{s} = 0$",
            "text/plain": [
              "                          100    \n",
              "-21⋅Iₐ + 10⋅I_b + 5⋅I_c + ─── = 0\n",
              "                           s     "
            ]
          },
          "execution_count": 231,
          "metadata": {},
          "output_type": "execute_result"
        }
      ],
      "source": [
        "Eq1"
      ]
    },
    {
      "cell_type": "code",
      "execution_count": null,
      "metadata": {
        "colab": {
          "base_uri": "https://localhost:8080/",
          "height": 39
        },
        "id": "_zIW7Fh5aDFq",
        "outputId": "a3bd6033-48db-42e9-a6b5-ed1c9257925e"
      },
      "outputs": [
        {
          "data": {
            "image/png": "[encoded data removed]",
            "text/latex": "$\\displaystyle 5 I_{a} - I_{c} s - 7 I_{c} + 0.4 s \\left(I_{b} - I_{c}\\right) + 1 = 0$",
            "text/plain": [
              "5⋅Iₐ - I_c⋅s - 7⋅I_c + 0.4⋅s⋅(I_b - I_c) + 1 = 0"
            ]
          },
          "execution_count": 232,
          "metadata": {},
          "output_type": "execute_result"
        }
      ],
      "source": [
        "Eq2"
      ]
    },
    {
      "cell_type": "code",
      "execution_count": null,
      "metadata": {
        "colab": {
          "base_uri": "https://localhost:8080/",
          "height": 53
        },
        "id": "ge07JDouahAf",
        "outputId": "7bc63c13-c9b8-4b61-9604-960687d735f1"
      },
      "outputs": [
        {
          "data": {
            "image/png": "[encoded data removed]",
            "text/latex": "$\\displaystyle \\frac{4000 I_{b} + s \\left(- 10 I_{a} + 10 I_{b} + 0.4 s \\left(I_{b} - I_{c}\\right)\\right) + 10}{s} = 0$",
            "text/plain": [
              "4000⋅I_b + s⋅(-10⋅Iₐ + 10⋅I_b + 0.4⋅s⋅(I_b - I_c)) + 10    \n",
              "─────────────────────────────────────────────────────── = 0\n",
              "                           s                               "
            ]
          },
          "execution_count": 233,
          "metadata": {},
          "output_type": "execute_result"
        }
      ],
      "source": [
        "Eq3"
      ]
    },
    {
      "cell_type": "code",
      "execution_count": null,
      "metadata": {
        "id": "9MgU9ByWaq9p"
      },
      "outputs": [],
      "source": [
        "sol_malha = sp.solve([Eq1,Eq2,Eq3],[Ia,Ib,Ic],dict= True)[0]"
      ]
    },
    {
      "cell_type": "code",
      "execution_count": null,
      "metadata": {
        "colab": {
          "background_save": true,
          "base_uri": "https://localhost:8080/",
          "height": 55
        },
        "id": "6zpwYi6Iaw3N",
        "outputId": "5355104a-a98e-4969-ba17-b0f94a1b5f90"
      },
      "outputs": [
        {
          "data": {
            "image/png": "[encoded data removed]",
            "text/latex": "$\\displaystyle \\frac{53.0 s^{3} + 830.0 s^{2} + 711800.0 s + 2000000.0}{5.0 s^{4} + 52.0 s^{3} + 70100.0 s^{2} + 180000.0 s}$",
            "text/plain": [
              "      3          2                         \n",
              "53.0⋅s  + 830.0⋅s  + 711800.0⋅s + 2000000.0\n",
              "───────────────────────────────────────────\n",
              "      4         3            2             \n",
              " 5.0⋅s  + 52.0⋅s  + 70100.0⋅s  + 180000.0⋅s"
            ]
          },
          "execution_count": 269,
          "metadata": {},
          "output_type": "execute_result"
        }
      ],
      "source": [
        "sol_malha[Ia] #Valor de corrente na malha 1 no domínio da frequência"
      ]
    },
    {
      "cell_type": "code",
      "execution_count": null,
      "metadata": {
        "colab": {
          "background_save": true,
          "base_uri": "https://localhost:8080/",
          "height": 55
        },
        "id": "Q9IRrqvEa7D1",
        "outputId": "5b352f68-8830-4e54-b587-1ebf0e68238b"
      },
      "outputs": [
        {
          "data": {
            "image/png": "[encoded data removed]",
            "text/latex": "$\\displaystyle \\frac{5.0 s^{2} + 635.0 s + 1550.0}{5.0 s^{3} + 52.0 s^{2} + 70100.0 s + 180000.0}$",
            "text/plain": [
              "            2                          \n",
              "       5.0⋅s  + 635.0⋅s + 1550.0       \n",
              "───────────────────────────────────────\n",
              "     3         2                       \n",
              "5.0⋅s  + 52.0⋅s  + 70100.0⋅s + 180000.0"
            ]
          },
          "execution_count": 270,
          "metadata": {},
          "output_type": "execute_result"
        }
      ],
      "source": [
        "sol_malha[Ib]#Valor de corrente na malha 2 no domínio da frequência"
      ]
    },
    {
      "cell_type": "code",
      "execution_count": null,
      "metadata": {
        "colab": {
          "background_save": true,
          "base_uri": "https://localhost:8080/",
          "height": 55
        },
        "id": "YSQGKvAWa9o5",
        "outputId": "b6a32819-894e-4ec7-8d16-28e8cb6d0543"
      },
      "outputs": [
        {
          "data": {
            "image/png": "[encoded data removed]",
            "text/latex": "$\\displaystyle \\frac{5.0 s^{3} + 280.0 s^{2} + 50900.0 s + 1000000.0}{5.0 s^{4} + 52.0 s^{3} + 70100.0 s^{2} + 180000.0 s}$",
            "text/plain": [
              "     3          2                         \n",
              "5.0⋅s  + 280.0⋅s  + 50900.0⋅s + 1000000.0 \n",
              "──────────────────────────────────────────\n",
              "     4         3            2             \n",
              "5.0⋅s  + 52.0⋅s  + 70100.0⋅s  + 180000.0⋅s"
            ]
          },
          "execution_count": 271,
          "metadata": {},
          "output_type": "execute_result"
        }
      ],
      "source": [
        "sol_malha[Ic]#Valor de corrente na malha 3 no domínio da frequência"
      ]
    },
    {
      "cell_type": "code",
      "execution_count": null,
      "metadata": {
        "colab": {
          "background_save": true
        },
        "id": "GL-4tdkVbe7D"
      },
      "outputs": [],
      "source": [
        "VC_malha = ((4000/s)*sol_malha[Ib]+10/s).simplify() #Corrente no indutor L1 = 0,4H pelo método das correntes de malha\n",
        "IL1_malha = (sol_malha[Ic]-sol_malha[Ib]).simplify()# #Corrente no indutor L1 = 0,4H pelo método das correntes de malha\n",
        "IL2_malha  = sol_malha[Ic].simplify()#Tensão no capacitor C = 250uF pelo método das tensões de nó"
      ]
    },
    {
      "cell_type": "code",
      "execution_count": null,
      "metadata": {
        "colab": {
          "background_save": true,
          "base_uri": "https://localhost:8080/",
          "height": 58
        },
        "id": "2d38-0ErYSwY",
        "outputId": "ec8fba11-644f-47f9-84c5-5f0354841d62"
      },
      "outputs": [
        {
          "data": {
            "image/png": "[encoded data removed]",
            "text/latex": "$\\displaystyle \\frac{- 355.0 s^{2} + 49350.0 s + 1000000.0}{s \\left(5.0 s^{3} + 52.0 s^{2} + 70100.0 s + 180000.0\\right)}$",
            "text/plain": [
              "              2                            \n",
              "     - 355.0⋅s  + 49350.0⋅s + 1000000.0    \n",
              "───────────────────────────────────────────\n",
              "  ⎛     3         2                       ⎞\n",
              "s⋅⎝5.0⋅s  + 52.0⋅s  + 70100.0⋅s + 180000.0⎠"
            ]
          },
          "execution_count": 273,
          "metadata": {},
          "output_type": "execute_result"
        }
      ],
      "source": [
        "IL1_malha"
      ]
    },
    {
      "cell_type": "code",
      "execution_count": null,
      "metadata": {
        "colab": {
          "background_save": true,
          "base_uri": "https://localhost:8080/",
          "height": 113
        },
        "id": "47X_GsL-b0-u",
        "outputId": "f703dc32-87fa-4350-ac92-f929eff16ddf"
      },
      "outputs": [
        {
          "data": {
            "text/latex": "$$V_c(s) = \\frac{50.0 s^{3} + 20520.0 s^{2} + 3241000.0 s + 8000000.0}{s \\left(5.0 s^{3} + 52.0 s^{2} + 70100.0 s + 180000.0\\right)}\\;Vs$$",
            "text/plain": [
              "<IPython.core.display.Math object>"
            ]
          },
          "metadata": {},
          "output_type": "display_data"
        },
        {
          "data": {
            "text/latex": "$$I_{L1}(s) = \\frac{- 355.0 s^{2} + 49350.0 s + 1000000.0}{s \\left(5.0 s^{3} + 52.0 s^{2} + 70100.0 s + 180000.0\\right)}\\;As$$",
            "text/plain": [
              "<IPython.core.display.Math object>"
            ]
          },
          "metadata": {},
          "output_type": "display_data"
        },
        {
          "data": {
            "text/latex": "$$I_{L2}(s) = \\frac{5.0 s^{3} + 280.0 s^{2} + 50900.0 s + 1000000.0}{s \\left(5.0 s^{3} + 52.0 s^{2} + 70100.0 s + 180000.0\\right)}\\;As$$",
            "text/plain": [
              "<IPython.core.display.Math object>"
            ]
          },
          "metadata": {},
          "output_type": "display_data"
        },
        {
          "name": "stdout",
          "output_type": "stream",
          "text": [
            "Resultado consistênte\n"
          ]
        }
      ],
      "source": [
        "symdisp('V_c(s) = ', VC, 'Vs')\n",
        "symdisp('I_{L1}(s) = ', IL1, 'As')\n",
        "symdisp('I_{L2}(s) = ', IL2, 'As')\n",
        "\n",
        "if(VC_malha == VC and IL1 == IL1_malha and IL2 == IL2_malha):\n",
        "    print(\"Resultado consistênte\")\n",
        "else:\n",
        "    print(\"Resultado Inconsistênte\")"
      ]
    },
    {
      "cell_type": "code",
      "execution_count": null,
      "metadata": {
        "colab": {
          "background_save": true,
          "base_uri": "https://localhost:8080/",
          "height": 83
        },
        "id": "MjhdD3oQ1h39",
        "outputId": "6af2681b-86be-4023-f4dd-3fd9de6c37ef"
      },
      "outputs": [
        {
          "data": {
            "text/latex": "$$V_C(s) = \\left[ \\frac{-18.0 + 14.0 i}{s + 3.9 + 1.2 \\cdot 10^{2} i}, \\  \\frac{-18.0 - 14.0 i}{s + 3.9 - 1.2 \\cdot 10^{2} i}, \\  \\frac{1.1}{s + 2.6}, \\  \\frac{44.0}{s}\\right]\\;Vs$$",
            "text/plain": [
              "<IPython.core.display.Math object>"
            ]
          },
          "metadata": {},
          "output_type": "display_data"
        },
        {
          "data": {
            "text/latex": "$$I_{L1}(s) = \\left[ \\frac{-0.25 - 0.5 i}{s + 3.9 + 1.2 \\cdot 10^{2} i}, \\  \\frac{-0.25 + 0.5 i}{s + 3.9 - 1.2 \\cdot 10^{2} i}, \\  - \\frac{4.8}{s + 2.6}, \\  \\frac{5.6}{s}\\right]\\;As$$",
            "text/plain": [
              "<IPython.core.display.Math object>"
            ]
          },
          "metadata": {},
          "output_type": "display_data"
        },
        {
          "data": {
            "text/latex": "$$I_{L2}(s) = \\left[ \\frac{0.13 - 0.5 i}{s + 3.9 + 1.2 \\cdot 10^{2} i}, \\  \\frac{0.13 + 0.5 i}{s + 3.9 - 1.2 \\cdot 10^{2} i}, \\  - \\frac{4.8}{s + 2.6}, \\  \\frac{5.6}{s}\\right]\\;As$$",
            "text/plain": [
              "<IPython.core.display.Math object>"
            ]
          },
          "metadata": {},
          "output_type": "display_data"
        }
      ],
      "source": [
        "VC_ = partFrac(VC,2).as_ordered_terms()\n",
        "IL1_ = partFrac(IL1,2).as_ordered_terms()\n",
        "IL2_ = partFrac(IL2,2).as_ordered_terms()\n",
        "symdisp('V_C(s) = ',VC_, 'Vs')\n",
        "symdisp('I_{L1}(s) = ',IL1_, 'As')\n",
        "symdisp('I_{L2}(s) = ',IL2_, 'As')\n"
      ]
    },
    {
      "cell_type": "code",
      "execution_count": null,
      "metadata": {
        "colab": {
          "base_uri": "https://localhost:8080/",
          "height": 279
        },
        "id": "nj3ptdTMPeCz",
        "outputId": "8378f70f-81bd-472c-9d51-12eaf7862451"
      },
      "outputs": [
        {
          "data": {
            "image/png": "[encoded data removed]",
            "text/plain": [
              "<Figure size 432x288 with 1 Axes>"
            ]
          },
          "execution_count": 242,
          "metadata": {},
          "output_type": "execute_result"
        }
      ],
      "source": [
        "vc = 0\n",
        "for i in range(len(VC_)):\n",
        "    vc += invL(VC_[i],s,t)\n",
        "vc = vc.simplify()\n",
        "symplot(t,vc,np.arange(0,1,.0001),'VC(t)')"
      ]
    },
    {
      "cell_type": "code",
      "execution_count": null,
      "metadata": {
        "colab": {
          "base_uri": "https://localhost:8080/",
          "height": 279
        },
        "id": "jDkDk8km7sAE",
        "outputId": "4be203f5-9ac9-4451-bc86-1822b6b1a49a"
      },
      "outputs": [
        {
          "data": {
            "image/png": "[encoded data removed]",
            "text/plain": [
              "<Figure size 432x288 with 1 Axes>"
            ]
          },
          "execution_count": 243,
          "metadata": {},
          "output_type": "execute_result"
        }
      ],
      "source": [
        "iL1 = 0\n",
        "for i in range(len(IL1_)):\n",
        "    iL1 += invL(IL1_[i],s,t)\n",
        "iL1 = iL1.simplify()\n",
        "symplot(t,iL1,np.arange(0,1,.0001),'iL1(t)')"
      ]
    },
    {
      "cell_type": "code",
      "execution_count": null,
      "metadata": {
        "colab": {
          "base_uri": "https://localhost:8080/",
          "height": 279
        },
        "id": "7s8-UB7jvYcO",
        "outputId": "8d5381ab-bf54-4cfd-d76c-0852c33d22c6"
      },
      "outputs": [
        {
          "data": {
            "image/png": "[encoded data removed]",
            "text/plain": [
              "<Figure size 432x288 with 1 Axes>"
            ]
          },
          "execution_count": 244,
          "metadata": {},
          "output_type": "execute_result"
        }
      ],
      "source": [
        "iL2 = 0\n",
        "for i in range(len(IL2_)):\n",
        "    iL2 += invL(IL2_[i],s,t)\n",
        "iL2 = iL2.simplify()\n",
        "symplot(t,iL2,np.arange(0,1,.0001),'iL1(t)')"
      ]
    }
  ],
  "metadata": {
    "colab": {
      "collapsed_sections": [],
      "name": "Exerc_01_circuitos_i_3_unidade.ipynb",
      "provenance": [],
      "authorship_tag": "ABX9TyMLGa6HN44Xx4SPnlmIRSVy",
      "include_colab_link": true
    },
    "kernelspec": {
      "display_name": "Python 3",
      "name": "python3"
    },
    "language_info": {
      "name": "python"
    }
  },
  "nbformat": 4,
  "nbformat_minor": 0
}