{
  "cells": [
    {
      "cell_type": "markdown",
      "metadata": {
        "id": "view-in-github",
        "colab_type": "text"
      },
      "source": [
        "<a href=\"https://colab.research.google.com/github/valmyr/CIRCUITOS-I/blob/main/Exerc_01_circuitos_i_3_unidade.ipynb\" target=\"_parent\"><img src=\"https://colab.research.google.com/assets/colab-badge.svg\" alt=\"Open In Colab\"/></a>"
      ]
    },
    {
      "cell_type": "code",
      "execution_count": 365,
      "metadata": {
        "colab": {
          "base_uri": "https://localhost:8080/"
        },
        "id": "Tpt8kHxZOrai",
        "outputId": "741252ba-f6f2-4646-fe10-01ef341360e4"
      },
      "outputs": [
        {
          "output_type": "stream",
          "name": "stdout",
          "text": [
            "fatal: destination path 'ElectricCircuits' already exists and is not an empty directory.\n"
          ]
        }
      ],
      "source": [
        "#https://tinyurl.com/26pzqby7\n",
        "import sys\n",
        "!git clone https://github.com/edsonportosilva/ElectricCircuits.git\n",
        "sys.path.insert(0, '/content/ElectricCircuits/Jupyter notebooks/')"
      ]
    },
    {
      "cell_type": "code",
      "execution_count": 366,
      "metadata": {
        "id": "HIJeyJRHrIcy"
      },
      "outputs": [],
      "source": [
        "import sympy as sp\n",
        "import numpy as np\n",
        "from matplotlib.pyplot import plot as plt\n",
        "from utils import round_expr, symdisp, symplot\n",
        "from sympy.polys.partfrac import apart"
      ]
    },
    {
      "cell_type": "code",
      "execution_count": 367,
      "metadata": {
        "id": "L4r7GLOJs2xk"
      },
      "outputs": [],
      "source": [
        "sp.init_printing()\n",
        "# transformada de Laplace\n",
        "def L(f,t,s):\n",
        "    return sp.laplace_transform(f, t, s, noconds=True)\n",
        "\n",
        "# transformada inversa de Laplace\n",
        "def invL(F,s,t):\n",
        "    return sp.re(sp.inverse_laplace_transform(F, s, t, noconds=True))\n",
        "\n",
        "# funções para auxílio na expansão em frações parciais\n",
        "def adjustCoeff(expr):    \n",
        "    coeff = expr.as_numer_denom()\n",
        "    c0 = sp.poly(coeff[1].cancel()).coeffs()[0]\n",
        "    \n",
        "    return (coeff[0].cancel()/c0)/(coeff[1].cancel()/c0)\n",
        "\n",
        "def partFrac(expr, Ndigits):\n",
        "    expr = expr.cancel()\n",
        "    expr = apart(adjustCoeff(expr), s, full=True).doit()\n",
        "    \n",
        "    return sp.N(expr, Ndigits)"
      ]
    },
    {
      "cell_type": "code",
      "execution_count": 368,
      "metadata": {
        "colab": {
          "base_uri": "https://localhost:8080/"
        },
        "id": "52TA8-9uOqQV",
        "outputId": "815fb3ea-ee9b-49e9-9989-e3b6f18890b9"
      },
      "outputs": [
        {
          "output_type": "stream",
          "name": "stdout",
          "text": [
            "2 2 1\n"
          ]
        }
      ],
      "source": [
        "matricula = [1,1,0]\n",
        "R1 = matricula[0]+1\n",
        "R2 = matricula[1]+1\n",
        "R3 = matricula[2]+1\n",
        "print(R1,R2,R3)"
      ]
    },
    {
      "cell_type": "code",
      "execution_count": 369,
      "metadata": {
        "id": "gwysDJBggbyN"
      },
      "outputs": [],
      "source": [
        "#Definição das variáveis do tipo símbolicas para o método das tensões de nó\n",
        "#Item C\n",
        "X,Y,Z,VC,s,t = sp.symbols('X,Y,Z,Vc,s,t')\n",
        "I1,I2,I3,IC,IL1,IL2 = sp.symbols('I_1,I_2,I_3,I_C,I_L1,I_L2')"
      ]
    },
    {
      "cell_type": "code",
      "execution_count": 370,
      "metadata": {
        "id": "wfuJ6Iss8Ycz"
      },
      "outputs": [],
      "source": [
        "I1  = -(X-100/s)/(2*R2)\n",
        "I2  =  (X-Y)/(2*R1)\n",
        "I3  =  Y/R1\n",
        "IL1 =  (Y-Z)/(0.4*s) \n",
        "IL2 =  (Z+1)/(s+2*R3)\n",
        "IC = (X-Z-10/s)/(4000/s)\n",
        "Eq1 = sp.Eq(I1,I2+IC).simplify()    #Equação nó X\n",
        "Eq2 = sp.Eq(I2,I3+IL1).simplify()   #Equação nó Y\n",
        "Eq3 = sp.Eq(IL2,IC+IL1).simplify()  #Equação nó Z"
      ]
    },
    {
      "cell_type": "code",
      "execution_count": 371,
      "metadata": {
        "colab": {
          "base_uri": "https://localhost:8080/",
          "height": 53
        },
        "id": "7zNWK9dm9AZb",
        "outputId": "e8affcc5-5ce4-4886-c99a-1e3b7f62466f"
      },
      "outputs": [
        {
          "output_type": "execute_result",
          "data": {
            "text/plain": [
              "X   25     X   Y   s⋅(X - Z)    1 \n",
              "─ - ── = - ─ + ─ - ───────── + ───\n",
              "4   s      4   4      4000     400"
            ],
            "image/png": "[encoded data removed]",
            "text/latex": "$\\displaystyle \\frac{X}{4} - \\frac{25}{s} = - \\frac{X}{4} + \\frac{Y}{4} - \\frac{s \\left(X - Z\\right)}{4000} + \\frac{1}{400}$"
          },
          "metadata": {},
          "execution_count": 371
        }
      ],
      "source": [
        "Eq1"
      ]
    },
    {
      "cell_type": "code",
      "source": [
        ""
      ],
      "metadata": {
        "id": "84JVdl0Bb4xY"
      },
      "execution_count": 371,
      "outputs": []
    },
    {
      "cell_type": "code",
      "execution_count": 372,
      "metadata": {
        "colab": {
          "base_uri": "https://localhost:8080/",
          "height": 52
        },
        "id": "YrJS6NsM6ojJ",
        "outputId": "797ea740-ef4d-4a84-bed1-d2eb116d7f68"
      },
      "outputs": [
        {
          "output_type": "execute_result",
          "data": {
            "text/plain": [
              "X   Y   Y⋅s + 5.0⋅Y - 5.0⋅Z\n",
              "─ - ─ = ───────────────────\n",
              "4   4           2⋅s        "
            ],
            "image/png": "[encoded data removed]",
            "text/latex": "$\\displaystyle \\frac{X}{4} - \\frac{Y}{4} = \\frac{Y s + 5.0 Y - 5.0 Z}{2 s}$"
          },
          "metadata": {},
          "execution_count": 372
        }
      ],
      "source": [
        "Eq2"
      ]
    },
    {
      "cell_type": "code",
      "execution_count": 373,
      "metadata": {
        "colab": {
          "base_uri": "https://localhost:8080/",
          "height": 54
        },
        "id": "xhLy0CcJ9pNw",
        "outputId": "476802bd-8545-4c88-e277-c6d9c38f8eda"
      },
      "outputs": [
        {
          "output_type": "execute_result",
          "data": {
            "text/plain": [
              "Z + 1   10000.0⋅Y - 10000.0⋅Z - s⋅(s⋅(-X + Z) + 10)\n",
              "───── = ───────────────────────────────────────────\n",
              "s + 2                      4000⋅s                  "
            ],
            "image/png": "[encoded data removed]",
            "text/latex": "$\\displaystyle \\frac{Z + 1}{s + 2} = \\frac{10000.0 Y - 10000.0 Z - s \\left(s \\left(- X + Z\\right) + 10\\right)}{4000 s}$"
          },
          "metadata": {},
          "execution_count": 373
        }
      ],
      "source": [
        "Eq3"
      ]
    },
    {
      "cell_type": "code",
      "execution_count": 374,
      "metadata": {
        "id": "uL24iWnPjpSa"
      },
      "outputs": [],
      "source": [
        "sol = sp.solve([Eq1,Eq2,Eq3],[X,Y,Z],dict= True)[0] # resolução do sistema linear"
      ]
    },
    {
      "cell_type": "code",
      "execution_count": 375,
      "metadata": {
        "colab": {
          "base_uri": "https://localhost:8080/",
          "height": 41
        },
        "id": "d1wBNZFvzEQ8",
        "outputId": "1ee9b4d8-dc94-48ea-c54f-743c9ba88bfc"
      },
      "outputs": [
        {
          "output_type": "display_data",
          "data": {
            "text/plain": [
              "<IPython.core.display.Math object>"
            ],
            "text/latex": "$$X(s) = \\frac{288.0 s^{3} + 1880.0 s^{2} + 4162800.0 s + 10000000.0}{5.0 s^{4} + 52.0 s^{3} + 70100.0 s^{2} + 180000.0 s}\\;Vs$$"
          },
          "metadata": {}
        }
      ],
      "source": [
        "symdisp('X(s) = ',sol[X],'Vs') #Valor de tensão do nó X no domínio da frequência"
      ]
    },
    {
      "cell_type": "code",
      "execution_count": 376,
      "metadata": {
        "colab": {
          "base_uri": "https://localhost:8080/",
          "height": 41
        },
        "id": "SVSIZSE6zEWv",
        "outputId": "0d008c1b-318e-47c5-dba8-c4dfdb577eb6"
      },
      "outputs": [
        {
          "output_type": "display_data",
          "data": {
            "text/plain": [
              "<IPython.core.display.Math object>"
            ],
            "text/latex": "$$Y(s) = \\frac{96.0 s^{3} + 1100.0 s^{2} + 1321800.0 s + 2000000.0}{5.0 s^{4} + 52.0 s^{3} + 70100.0 s^{2} + 180000.0 s}\\;Vs$$"
          },
          "metadata": {}
        }
      ],
      "source": [
        "symdisp('Y(s) = ',sol[Y],'Vs') #Valor de tensão do nó Y no domínio da frequência"
      ]
    },
    {
      "cell_type": "code",
      "execution_count": 377,
      "metadata": {
        "colab": {
          "base_uri": "https://localhost:8080/",
          "height": 41
        },
        "id": "5-VOyd5XzEcC",
        "outputId": "f1f1e1cb-ca8c-4f39-812c-aaa4f73db418"
      },
      "outputs": [
        {
          "output_type": "display_data",
          "data": {
            "text/plain": [
              "<IPython.core.display.Math object>"
            ],
            "text/latex": "$$Z(s) = \\frac{238.0 s^{3} - 18640.0 s^{2} + 921800.0 s + 2000000.0}{5.0 s^{4} + 52.0 s^{3} + 70100.0 s^{2} + 180000.0 s}\\;Vs$$"
          },
          "metadata": {}
        }
      ],
      "source": [
        "symdisp('Z(s) = ',sol[Z],'Vs') #Valor de tensão do nó Z no domínio da frequência"
      ]
    },
    {
      "cell_type": "code",
      "execution_count": 378,
      "metadata": {
        "id": "aAsoxOir__hn"
      },
      "outputs": [],
      "source": [
        "\n",
        "IL1 = IL1.subs({X:sol[X],Y:sol[Y],Z:sol[Z]}).simplify()# Corrente no indutor L1 = 0,4H pelo método das tensões de nó\n",
        "IL2 = IL2.subs({X:sol[X],Y:sol[Y],Z:sol[Z]}).simplify()# Corrente no indutor L2 = 1H pelo método das tensões de nó\n",
        "VC = (sol[X]-sol[Z]).simplify()# Tensão no capacitor C = 250uF pelo método das tensões de nó"
      ]
    },
    {
      "cell_type": "code",
      "execution_count": 379,
      "metadata": {
        "colab": {
          "base_uri": "https://localhost:8080/",
          "height": 58
        },
        "id": "1EBEL0avAKxy",
        "outputId": "d00fdd55-3064-4d86-a43f-34c1b46fab2d"
      },
      "outputs": [
        {
          "output_type": "execute_result",
          "data": {
            "text/plain": [
              "      3          2                         \n",
              " 5.0⋅s  + 280.0⋅s  + 50900.0⋅s + 1000000.0 \n",
              "───────────────────────────────────────────\n",
              "  ⎛     3         2                       ⎞\n",
              "s⋅⎝5.0⋅s  + 52.0⋅s  + 70100.0⋅s + 180000.0⎠"
            ],
            "image/png": "[encoded data removed]",
            "text/latex": "$\\displaystyle \\frac{5.0 s^{3} + 280.0 s^{2} + 50900.0 s + 1000000.0}{s \\left(5.0 s^{3} + 52.0 s^{2} + 70100.0 s + 180000.0\\right)}$"
          },
          "metadata": {},
          "execution_count": 379
        }
      ],
      "source": [
        "IL2.subs(Z,sol[Z])\n",
        "\n"
      ]
    },
    {
      "cell_type": "code",
      "execution_count": 380,
      "metadata": {
        "colab": {
          "base_uri": "https://localhost:8080/",
          "height": 165
        },
        "id": "hTQbMTFImX6T",
        "outputId": "4d370d2b-de70-4485-87d2-518950109531"
      },
      "outputs": [
        {
          "output_type": "display_data",
          "data": {
            "text/plain": [
              "<IPython.core.display.Math object>"
            ],
            "text/latex": "$$V_c(0^+) = 10.0\\;V$$"
          },
          "metadata": {}
        },
        {
          "output_type": "display_data",
          "data": {
            "text/plain": [
              "<IPython.core.display.Math object>"
            ],
            "text/latex": "$$I_{L1}(0^+) = 0\\;A$$"
          },
          "metadata": {}
        },
        {
          "output_type": "display_data",
          "data": {
            "text/plain": [
              "<IPython.core.display.Math object>"
            ],
            "text/latex": "$$I_{L2}(0^+) = 1.0\\;A$$"
          },
          "metadata": {}
        },
        {
          "output_type": "stream",
          "name": "stdout",
          "text": [
            "\n"
          ]
        },
        {
          "output_type": "display_data",
          "data": {
            "text/plain": [
              "<IPython.core.display.Math object>"
            ],
            "text/latex": "$$V_c(+\\infty) = 44.4444444444444\\;V$$"
          },
          "metadata": {}
        },
        {
          "output_type": "display_data",
          "data": {
            "text/plain": [
              "<IPython.core.display.Math object>"
            ],
            "text/latex": "$$I_{L1}(+\\infty) = 5.55555555555556\\;A$$"
          },
          "metadata": {}
        },
        {
          "output_type": "display_data",
          "data": {
            "text/plain": [
              "<IPython.core.display.Math object>"
            ],
            "text/latex": "$$I_{L2}(+\\infty) = 5.55555555555556\\;A$$"
          },
          "metadata": {}
        }
      ],
      "source": [
        "symdisp('V_c(0^+) = ',sp.limit(s*VC,s,sp.oo),'V')\n",
        "symdisp('I_{L1}(0^+) = ',sp.limit(s*IL1,s,sp.oo),'A')\n",
        "symdisp('I_{L2}(0^+) = ',sp.limit(s*IL2,s,sp.oo),'A')\n",
        "print()\n",
        "symdisp('V_c(+\\infty) = ',sp.limit(s*VC,s,0),'V')\n",
        "symdisp('I_{L1}(+\\infty) = ',sp.limit(s*IL1,s,0),'A')\n",
        "symdisp('I_{L2}(+\\infty) = ',sp.limit(s*IL2,s,0),'A')\n",
        "\n"
      ]
    },
    {
      "cell_type": "code",
      "execution_count": 381,
      "metadata": {
        "colab": {
          "base_uri": "https://localhost:8080/",
          "height": 43
        },
        "id": "NLEydlFkGlx1",
        "outputId": "4858258a-7efe-461f-acd0-dbcf8dd8861a"
      },
      "outputs": [
        {
          "output_type": "display_data",
          "data": {
            "text/plain": [
              "<IPython.core.display.Math object>"
            ],
            "text/latex": "$$V_c(s) = \\frac{50.0 s^{3} + 20520.0 s^{2} + 3241000.0 s + 8000000.0}{s \\left(5.0 s^{3} + 52.0 s^{2} + 70100.0 s + 180000.0\\right)}\\;Vs$$"
          },
          "metadata": {}
        }
      ],
      "source": [
        "symdisp('V_c(s) = ', VC, 'Vs')"
      ]
    },
    {
      "cell_type": "code",
      "execution_count": 382,
      "metadata": {
        "colab": {
          "base_uri": "https://localhost:8080/",
          "height": 43
        },
        "id": "uMh7gsKcGoKs",
        "outputId": "5ade7cdc-737e-4694-a7b2-df63705d0181"
      },
      "outputs": [
        {
          "output_type": "display_data",
          "data": {
            "text/plain": [
              "<IPython.core.display.Math object>"
            ],
            "text/latex": "$$I_{L1}(s) = \\frac{- 355.0 s^{2} + 49350.0 s + 1000000.0}{s \\left(5.0 s^{3} + 52.0 s^{2} + 70100.0 s + 180000.0\\right)}\\;As$$"
          },
          "metadata": {}
        }
      ],
      "source": [
        "symdisp('I_{L1}(s) = ', IL1, 'As')"
      ]
    },
    {
      "cell_type": "code",
      "execution_count": 383,
      "metadata": {
        "colab": {
          "base_uri": "https://localhost:8080/",
          "height": 43
        },
        "id": "J9DvxOjWGprp",
        "outputId": "d7bc396f-fffa-4664-ebfc-0b4eec200913"
      },
      "outputs": [
        {
          "output_type": "display_data",
          "data": {
            "text/plain": [
              "<IPython.core.display.Math object>"
            ],
            "text/latex": "$$I_{L2}(s) = \\frac{5.0 s^{3} + 280.0 s^{2} + 50900.0 s + 1000000.0}{s \\left(5.0 s^{3} + 52.0 s^{2} + 70100.0 s + 180000.0\\right)}\\;As$$"
          },
          "metadata": {}
        }
      ],
      "source": [
        "symdisp('I_{L2}(s) = ', IL2, 'As')"
      ]
    },
    {
      "cell_type": "code",
      "execution_count": 384,
      "metadata": {
        "id": "g_V011GJYfAi"
      },
      "outputs": [],
      "source": [
        "#Definição das variáveis do tipo símbolicas para o método das correntes de malha\n",
        "#Item D\n",
        "Ia,Ib,Ic = sp.symbols('I_a,I_b,I_c')\n",
        "\n",
        "Eq1 = sp.Eq(2*R2*Ia-(100/s)+2*R1*(Ia-Ib)+R1*(Ia-Ic), 0).simplify()\n",
        "Eq2 = sp.Eq(-R1*(Ia-Ic)+(0.4*s)*(Ic-Ib)+s*Ic-1+2*R3*Ic,0).simplify()\n",
        "Eq3 = sp.Eq((4000/s)*Ib+10/s-0.4*s*(Ic-Ib)-2*R1*(Ia-Ib),0).simplify()"
      ]
    },
    {
      "cell_type": "code",
      "execution_count": 385,
      "metadata": {
        "colab": {
          "base_uri": "https://localhost:8080/",
          "height": 51
        },
        "id": "Ey7RfTKSZpmQ",
        "outputId": "e1fc6ea6-574d-4fe5-ef58-510dbafeb78d"
      },
      "outputs": [
        {
          "output_type": "execute_result",
          "data": {
            "text/plain": [
              "                         100    \n",
              "-10⋅Iₐ + 4⋅I_b + 2⋅I_c + ─── = 0\n",
              "                          s     "
            ],
            "image/png": "[encoded data removed]",
            "text/latex": "$\\displaystyle - 10 I_{a} + 4 I_{b} + 2 I_{c} + \\frac{100}{s} = 0$"
          },
          "metadata": {},
          "execution_count": 385
        }
      ],
      "source": [
        "Eq1"
      ]
    },
    {
      "cell_type": "code",
      "execution_count": 386,
      "metadata": {
        "colab": {
          "base_uri": "https://localhost:8080/",
          "height": 39
        },
        "id": "_zIW7Fh5aDFq",
        "outputId": "3ad0074f-a084-4377-edc2-c2c169e52b5d"
      },
      "outputs": [
        {
          "output_type": "execute_result",
          "data": {
            "text/plain": [
              "2⋅Iₐ - I_c⋅s - 4⋅I_c + 0.4⋅s⋅(I_b - I_c) + 1 = 0"
            ],
            "image/png": "[encoded data removed]",
            "text/latex": "$\\displaystyle 2 I_{a} - I_{c} s - 4 I_{c} + 0.4 s \\left(I_{b} - I_{c}\\right) + 1 = 0$"
          },
          "metadata": {},
          "execution_count": 386
        }
      ],
      "source": [
        "Eq2"
      ]
    },
    {
      "cell_type": "code",
      "execution_count": 387,
      "metadata": {
        "colab": {
          "base_uri": "https://localhost:8080/",
          "height": 53
        },
        "id": "ge07JDouahAf",
        "outputId": "ec70c015-a6d6-43c4-859f-0fdf4257655e"
      },
      "outputs": [
        {
          "output_type": "execute_result",
          "data": {
            "text/plain": [
              "4000⋅I_b + s⋅(-4⋅Iₐ + 4⋅I_b + 0.4⋅s⋅(I_b - I_c)) + 10    \n",
              "───────────────────────────────────────────────────── = 0\n",
              "                          s                              "
            ],
            "image/png": "[encoded data removed]",
            "text/latex": "$\\displaystyle \\frac{4000 I_{b} + s \\left(- 4 I_{a} + 4 I_{b} + 0.4 s \\left(I_{b} - I_{c}\\right)\\right) + 10}{s} = 0$"
          },
          "metadata": {},
          "execution_count": 387
        }
      ],
      "source": [
        "Eq3"
      ]
    },
    {
      "cell_type": "code",
      "execution_count": 388,
      "metadata": {
        "id": "9MgU9ByWaq9p"
      },
      "outputs": [],
      "source": [
        "sol_malha = sp.solve([Eq1,Eq2,Eq3],[Ia,Ib,Ic],dict= True)[0]"
      ]
    },
    {
      "cell_type": "code",
      "execution_count": 389,
      "metadata": {
        "colab": {
          "base_uri": "https://localhost:8080/",
          "height": 55
        },
        "id": "6zpwYi6Iaw3N",
        "outputId": "33d63b44-d791-42f9-a5a6-0efd09e29ede"
      },
      "outputs": [
        {
          "output_type": "execute_result",
          "data": {
            "text/plain": [
              "      3          2                         \n",
              "53.0⋅s  + 830.0⋅s  + 711800.0⋅s + 2000000.0\n",
              "───────────────────────────────────────────\n",
              "      4         3            2             \n",
              " 5.0⋅s  + 52.0⋅s  + 70100.0⋅s  + 180000.0⋅s"
            ],
            "image/png": "[encoded data removed]",
            "text/latex": "$\\displaystyle \\frac{53.0 s^{3} + 830.0 s^{2} + 711800.0 s + 2000000.0}{5.0 s^{4} + 52.0 s^{3} + 70100.0 s^{2} + 180000.0 s}$"
          },
          "metadata": {},
          "execution_count": 389
        }
      ],
      "source": [
        "sol_malha[Ia] #Valor de corrente na malha 1 no domínio da frequência"
      ]
    },
    {
      "cell_type": "code",
      "execution_count": 390,
      "metadata": {
        "colab": {
          "base_uri": "https://localhost:8080/",
          "height": 55
        },
        "id": "Q9IRrqvEa7D1",
        "outputId": "eeed94db-e13f-4c7d-e331-5669228a2f7c"
      },
      "outputs": [
        {
          "output_type": "execute_result",
          "data": {
            "text/plain": [
              "            2                          \n",
              "       5.0⋅s  + 635.0⋅s + 1550.0       \n",
              "───────────────────────────────────────\n",
              "     3         2                       \n",
              "5.0⋅s  + 52.0⋅s  + 70100.0⋅s + 180000.0"
            ],
            "image/png": "[encoded data removed]",
            "text/latex": "$\\displaystyle \\frac{5.0 s^{2} + 635.0 s + 1550.0}{5.0 s^{3} + 52.0 s^{2} + 70100.0 s + 180000.0}$"
          },
          "metadata": {},
          "execution_count": 390
        }
      ],
      "source": [
        "sol_malha[Ib]#Valor de corrente na malha 2 no domínio da frequência"
      ]
    },
    {
      "cell_type": "code",
      "execution_count": 391,
      "metadata": {
        "colab": {
          "base_uri": "https://localhost:8080/",
          "height": 55
        },
        "id": "YSQGKvAWa9o5",
        "outputId": "1093b813-d12b-4097-9a0e-c11cbd908140"
      },
      "outputs": [
        {
          "output_type": "execute_result",
          "data": {
            "text/plain": [
              "     3          2                         \n",
              "5.0⋅s  + 280.0⋅s  + 50900.0⋅s + 1000000.0 \n",
              "──────────────────────────────────────────\n",
              "     4         3            2             \n",
              "5.0⋅s  + 52.0⋅s  + 70100.0⋅s  + 180000.0⋅s"
            ],
            "image/png": "[encoded data removed]",
            "text/latex": "$\\displaystyle \\frac{5.0 s^{3} + 280.0 s^{2} + 50900.0 s + 1000000.0}{5.0 s^{4} + 52.0 s^{3} + 70100.0 s^{2} + 180000.0 s}$"
          },
          "metadata": {},
          "execution_count": 391
        }
      ],
      "source": [
        "sol_malha[Ic]#Valor de corrente na malha 3 no domínio da frequência"
      ]
    },
    {
      "cell_type": "code",
      "execution_count": 392,
      "metadata": {
        "id": "GL-4tdkVbe7D"
      },
      "outputs": [],
      "source": [
        "VC_malha = ((4000/s)*sol_malha[Ib]+10/s).simplify() #Corrente no indutor L1 = 0,4H pelo método das correntes de malha\n",
        "IL1_malha = (sol_malha[Ic]-sol_malha[Ib]).simplify()# #Corrente no indutor L1 = 0,4H pelo método das correntes de malha\n",
        "IL2_malha  = sol_malha[Ic].simplify()#Tensão no capacitor C = 250uF pelo método das tensões de nó"
      ]
    },
    {
      "cell_type": "code",
      "execution_count": 393,
      "metadata": {
        "colab": {
          "base_uri": "https://localhost:8080/",
          "height": 58
        },
        "id": "2d38-0ErYSwY",
        "outputId": "253f7030-9aff-4826-d3b4-9d0caf4844b1"
      },
      "outputs": [
        {
          "output_type": "execute_result",
          "data": {
            "text/plain": [
              "              2                            \n",
              "     - 355.0⋅s  + 49350.0⋅s + 1000000.0    \n",
              "───────────────────────────────────────────\n",
              "  ⎛     3         2                       ⎞\n",
              "s⋅⎝5.0⋅s  + 52.0⋅s  + 70100.0⋅s + 180000.0⎠"
            ],
            "image/png": "[encoded data removed]",
            "text/latex": "$\\displaystyle \\frac{- 355.0 s^{2} + 49350.0 s + 1000000.0}{s \\left(5.0 s^{3} + 52.0 s^{2} + 70100.0 s + 180000.0\\right)}$"
          },
          "metadata": {},
          "execution_count": 393
        }
      ],
      "source": [
        "IL1_malha"
      ]
    },
    {
      "cell_type": "code",
      "execution_count": 394,
      "metadata": {
        "colab": {
          "base_uri": "https://localhost:8080/",
          "height": 113
        },
        "id": "47X_GsL-b0-u",
        "outputId": "f6ce5051-53e1-4264-e90f-65de610504b4"
      },
      "outputs": [
        {
          "output_type": "display_data",
          "data": {
            "text/plain": [
              "<IPython.core.display.Math object>"
            ],
            "text/latex": "$$V_c(s) = \\frac{50.0 s^{3} + 20520.0 s^{2} + 3241000.0 s + 8000000.0}{s \\left(5.0 s^{3} + 52.0 s^{2} + 70100.0 s + 180000.0\\right)}\\;Vs$$"
          },
          "metadata": {}
        },
        {
          "output_type": "display_data",
          "data": {
            "text/plain": [
              "<IPython.core.display.Math object>"
            ],
            "text/latex": "$$I_{L1}(s) = \\frac{- 355.0 s^{2} + 49350.0 s + 1000000.0}{s \\left(5.0 s^{3} + 52.0 s^{2} + 70100.0 s + 180000.0\\right)}\\;As$$"
          },
          "metadata": {}
        },
        {
          "output_type": "display_data",
          "data": {
            "text/plain": [
              "<IPython.core.display.Math object>"
            ],
            "text/latex": "$$I_{L2}(s) = \\frac{5.0 s^{3} + 280.0 s^{2} + 50900.0 s + 1000000.0}{s \\left(5.0 s^{3} + 52.0 s^{2} + 70100.0 s + 180000.0\\right)}\\;As$$"
          },
          "metadata": {}
        },
        {
          "output_type": "stream",
          "name": "stdout",
          "text": [
            "Resultado consistênte\n"
          ]
        }
      ],
      "source": [
        "symdisp('V_c(s) = ', VC, 'Vs')\n",
        "symdisp('I_{L1}(s) = ', IL1, 'As')\n",
        "symdisp('I_{L2}(s) = ', IL2, 'As')\n",
        "\n",
        "if(VC_malha == VC and IL1 == IL1_malha and IL2 == IL2_malha):\n",
        "    print(\"Resultado consistênte\")\n",
        "else:\n",
        "    print(\"Resultado Inconsistênte\")"
      ]
    },
    {
      "cell_type": "code",
      "execution_count": 395,
      "metadata": {
        "colab": {
          "base_uri": "https://localhost:8080/",
          "height": 83
        },
        "id": "MjhdD3oQ1h39",
        "outputId": "5180a82e-0997-4fbe-a9d7-aaa915f0e78c"
      },
      "outputs": [
        {
          "output_type": "display_data",
          "data": {
            "text/plain": [
              "<IPython.core.display.Math object>"
            ],
            "text/latex": "$$V_C(s) = \\left[ \\frac{-18.0 + 14.0 i}{s + 3.9 + 1.2 \\cdot 10^{2} i}, \\  \\frac{-18.0 - 14.0 i}{s + 3.9 - 1.2 \\cdot 10^{2} i}, \\  \\frac{1.1}{s + 2.6}, \\  \\frac{44.0}{s}\\right]\\;Vs$$"
          },
          "metadata": {}
        },
        {
          "output_type": "display_data",
          "data": {
            "text/plain": [
              "<IPython.core.display.Math object>"
            ],
            "text/latex": "$$I_{L1}(s) = \\left[ \\frac{-0.25 - 0.5 i}{s + 3.9 + 1.2 \\cdot 10^{2} i}, \\  \\frac{-0.25 + 0.5 i}{s + 3.9 - 1.2 \\cdot 10^{2} i}, \\  - \\frac{4.8}{s + 2.6}, \\  \\frac{5.6}{s}\\right]\\;As$$"
          },
          "metadata": {}
        },
        {
          "output_type": "display_data",
          "data": {
            "text/plain": [
              "<IPython.core.display.Math object>"
            ],
            "text/latex": "$$I_{L2}(s) = \\left[ \\frac{0.13 - 0.5 i}{s + 3.9 + 1.2 \\cdot 10^{2} i}, \\  \\frac{0.13 + 0.5 i}{s + 3.9 - 1.2 \\cdot 10^{2} i}, \\  - \\frac{4.8}{s + 2.6}, \\  \\frac{5.6}{s}\\right]\\;As$$"
          },
          "metadata": {}
        }
      ],
      "source": [
        "VC_ = partFrac(VC,2).as_ordered_terms()\n",
        "IL1_ = partFrac(IL1,2).as_ordered_terms()\n",
        "IL2_ = partFrac(IL2,2).as_ordered_terms()\n",
        "symdisp('V_C(s) = ',VC_, 'Vs')\n",
        "symdisp('I_{L1}(s) = ',IL1_, 'As')\n",
        "symdisp('I_{L2}(s) = ',IL2_, 'As')\n"
      ]
    },
    {
      "cell_type": "code",
      "execution_count": 362,
      "metadata": {
        "colab": {
          "base_uri": "https://localhost:8080/",
          "height": 279
        },
        "id": "nj3ptdTMPeCz",
        "outputId": "1b2bd5bf-e170-4c6c-97ea-a0c3d0f81a68"
      },
      "outputs": [
        {
          "output_type": "execute_result",
          "data": {
            "text/plain": [
              "<Figure size 432x288 with 1 Axes>"
            ],
            "image/png": "[encoded data removed]"
          },
          "metadata": {},
          "execution_count": 362
        }
      ],
      "source": [
        "vc = 0\n",
        "for i in range(len(VC_)):\n",
        "    vc += invL(VC_[i],s,t)\n",
        "vc = vc.simplify()\n",
        "symplot(t,vc,np.arange(0,1,.0001),'VC(t)')"
      ]
    },
    {
      "cell_type": "code",
      "execution_count": 363,
      "metadata": {
        "colab": {
          "base_uri": "https://localhost:8080/",
          "height": 279
        },
        "id": "jDkDk8km7sAE",
        "outputId": "c2b9208d-fc4e-4806-cf2a-a23c7013de81"
      },
      "outputs": [
        {
          "output_type": "execute_result",
          "data": {
            "text/plain": [
              "<Figure size 432x288 with 1 Axes>"
            ],
            "image/png": "[encoded data removed]"
          },
          "metadata": {},
          "execution_count": 363
        }
      ],
      "source": [
        "iL1 = 0\n",
        "for i in range(len(IL1_)):\n",
        "    iL1 += invL(IL1_[i],s,t)\n",
        "iL1 = iL1.simplify()\n",
        "symplot(t,iL1,np.arange(0,1,.0001),'iL1(t)')"
      ]
    },
    {
      "cell_type": "code",
      "execution_count": 364,
      "metadata": {
        "colab": {
          "base_uri": "https://localhost:8080/",
          "height": 279
        },
        "id": "7s8-UB7jvYcO",
        "outputId": "af2326cb-3a6c-43e4-f7f8-68a67002252b"
      },
      "outputs": [
        {
          "output_type": "execute_result",
          "data": {
            "text/plain": [
              "<Figure size 432x288 with 1 Axes>"
            ],
            "image/png": "[encoded data removed]"
          },
          "metadata": {},
          "execution_count": 364
        }
      ],
      "source": [
        "iL2 = 0\n",
        "for i in range(len(IL2_)):\n",
        "    iL2 += invL(IL2_[i],s,t)\n",
        "iL2 = iL2.simplify()\n",
        "symplot(t,iL2,np.arange(0,1,.0001),'iL1(t)')"
      ]
    }
  ],
  "metadata": {
    "colab": {
      "collapsed_sections": [],
      "name": "Exerc_01_circuitos_i_3_unidade.ipynb",
      "provenance": [],
      "authorship_tag": "ABX9TyP/2M8n0sS7VO9IBMQ9EY4W",
      "include_colab_link": true
    },
    "kernelspec": {
      "display_name": "Python 3",
      "name": "python3"
    },
    "language_info": {
      "name": "python"
    }
  },
  "nbformat": 4,
  "nbformat_minor": 0
}