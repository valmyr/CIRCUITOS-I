{
  "cells": [
    {
      "cell_type": "markdown",
      "metadata": {
        "id": "view-in-github",
        "colab_type": "text"
      },
      "source": [
        "<a href=\"https://colab.research.google.com/github/valmyr/CIRCUITOS-I/blob/main/C%C3%B3pia_de_Exerc_01_circuitos_i_3_unidade.ipynb\" target=\"_parent\"><img src=\"https://colab.research.google.com/assets/colab-badge.svg\" alt=\"Open In Colab\"/></a>"
      ]
    },
    {
      "cell_type": "code",
      "execution_count": 54,
      "metadata": {
        "id": "Tpt8kHxZOrai"
      },
      "outputs": [],
      "source": [
        "#https://tinyurl.com/26pzqby7\n",
        "import sys\n",
        "import os\n",
        "\n",
        "if(os.path.isdir(r'/content/ElectricCircuits/Jupyter notebooks/') == False):\n",
        "    sys.path.insert(0, '/content/ElectricCircuits/Jupyter notebooks/')\n",
        "    !git clone https://github.com/edsonportosilva/ElectricCircuits.git"
      ]
    },
    {
      "cell_type": "code",
      "execution_count": 55,
      "metadata": {
        "id": "HIJeyJRHrIcy"
      },
      "outputs": [],
      "source": [
        "import sympy as sp\n",
        "import numpy as np\n",
        "from matplotlib.pyplot import plot as plt\n",
        "from utils import round_expr, symdisp, symplot\n",
        "from sympy.polys.partfrac import apart\n",
        "bt = np.arange(-0.1,1,(10**-3)/10)"
      ]
    },
    {
      "cell_type": "code",
      "execution_count": 56,
      "metadata": {
        "id": "L4r7GLOJs2xk"
      },
      "outputs": [],
      "source": [
        "sp.init_printing()\n",
        "# transformada de Laplace\n",
        "def L(f,t,s):\n",
        "    return sp.laplace_transform(f, t, s, noconds=True)\n",
        "\n",
        "# transformada inversa de Laplace\n",
        "def invL(F,s,t):\n",
        "    return sp.re(sp.inverse_laplace_transform(F, s, t, noconds=True))\n",
        "\n",
        "# funções para auxílio na expansão em frações parciais\n",
        "def adjustCoeff(expr):    \n",
        "    coeff = expr.as_numer_denom()\n",
        "    c0 = sp.poly(coeff[1].cancel()).coeffs()[0]\n",
        "    \n",
        "    return (coeff[0].cancel()/c0)/(coeff[1].cancel()/c0)\n",
        "\n",
        "def partFrac(expr, Ndigits):\n",
        "    expr = expr.cancel()\n",
        "    expr = apart(adjustCoeff(expr), s, full=True).doit()\n",
        "    \n",
        "    return sp.N(expr, Ndigits)"
      ]
    },
    {
      "cell_type": "code",
      "execution_count": 57,
      "metadata": {
        "colab": {
          "base_uri": "https://localhost:8080/"
        },
        "id": "52TA8-9uOqQV",
        "outputId": "861ed1ec-aecb-4f60-8819-fc6998cdd141"
      },
      "outputs": [
        {
          "output_type": "stream",
          "name": "stdout",
          "text": [
            "R1 = 2 ohms.\n",
            "R2 = 2 ohms.\n",
            "R3 = 1 ohms.\n"
          ]
        }
      ],
      "source": [
        "matricula = [1,1,0]\n",
        "R1 = matricula[0]+1\n",
        "R2 = matricula[1]+1\n",
        "R3 = matricula[2]+1\n",
        "print(f'R1 = {R1} ohms.')\n",
        "print(f'R2 = {R2} ohms.')\n",
        "print(f'R3 = {R3} ohms.')"
      ]
    },
    {
      "cell_type": "code",
      "execution_count": 58,
      "metadata": {
        "id": "gwysDJBggbyN"
      },
      "outputs": [],
      "source": [
        "#Definição das variáveis do tipo símbolicas para o método das tensões de nó\n",
        "#Item C\n",
        "X,Y,Z,VC,s,t = sp.symbols('X,Y,Z,Vc,s,t')\n",
        "I1,I2,I3,IC,IL1,IL2 = sp.symbols('I_1,I_2,I_3,I_C,I_L1,I_L2')"
      ]
    },
    {
      "cell_type": "code",
      "execution_count": 59,
      "metadata": {
        "id": "wfuJ6Iss8Ycz"
      },
      "outputs": [],
      "source": [
        "I1  = -(X-100/s)/(2*R2)\n",
        "I2  =  (X-Y)/(2*R1)\n",
        "I3  =  Y/R1\n",
        "IL1 =  (Y-Z)/(0.4*s) \n",
        "IL2 =  (Z+1)/(s+2*R3)\n",
        "IC = (X-Z-10/s)/(4000/s)\n",
        "Eq1 = sp.Eq(I1,I2+IC).simplify()    #Equação nó X\n",
        "Eq2 = sp.Eq(I2,I3+IL1).simplify()   #Equação nó Y\n",
        "Eq3 = sp.Eq(IL2,IC+IL1).simplify()  #Equação nó Z"
      ]
    },
    {
      "cell_type": "code",
      "execution_count": 60,
      "metadata": {
        "colab": {
          "base_uri": "https://localhost:8080/",
          "height": 53
        },
        "id": "7zNWK9dm9AZb",
        "outputId": "4a6d749f-edf3-47fc-9b8d-eb9463786fad"
      },
      "outputs": [
        {
          "output_type": "execute_result",
          "data": {
            "text/plain": [
              "X   25     X   Y   s⋅(X - Z)    1 \n",
              "─ - ── = - ─ + ─ - ───────── + ───\n",
              "4   s      4   4      4000     400"
            ],
            "image/png": "[encoded data removed]",
            "text/latex": "$\\displaystyle \\frac{X}{4} - \\frac{25}{s} = - \\frac{X}{4} + \\frac{Y}{4} - \\frac{s \\left(X - Z\\right)}{4000} + \\frac{1}{400}$"
          },
          "metadata": {},
          "execution_count": 60
        }
      ],
      "source": [
        "Eq1"
      ]
    },
    {
      "cell_type": "code",
      "execution_count": 61,
      "metadata": {
        "colab": {
          "base_uri": "https://localhost:8080/",
          "height": 52
        },
        "id": "YrJS6NsM6ojJ",
        "outputId": "4aef1321-e4ab-42b7-e02c-7a057c51065b"
      },
      "outputs": [
        {
          "output_type": "execute_result",
          "data": {
            "text/plain": [
              "X   Y   Y⋅s + 5.0⋅Y - 5.0⋅Z\n",
              "─ - ─ = ───────────────────\n",
              "4   4           2⋅s        "
            ],
            "image/png": "[encoded data removed]",
            "text/latex": "$\\displaystyle \\frac{X}{4} - \\frac{Y}{4} = \\frac{Y s + 5.0 Y - 5.0 Z}{2 s}$"
          },
          "metadata": {},
          "execution_count": 61
        }
      ],
      "source": [
        "Eq2"
      ]
    },
    {
      "cell_type": "code",
      "execution_count": 62,
      "metadata": {
        "colab": {
          "base_uri": "https://localhost:8080/",
          "height": 54
        },
        "id": "xhLy0CcJ9pNw",
        "outputId": "deb2f11e-5dad-48a7-e138-4b80c4edb0c5"
      },
      "outputs": [
        {
          "output_type": "execute_result",
          "data": {
            "text/plain": [
              "Z + 1   10000.0⋅Y - 10000.0⋅Z - s⋅(s⋅(-X + Z) + 10)\n",
              "───── = ───────────────────────────────────────────\n",
              "s + 2                      4000⋅s                  "
            ],
            "image/png": "[encoded data removed]",
            "text/latex": "$\\displaystyle \\frac{Z + 1}{s + 2} = \\frac{10000.0 Y - 10000.0 Z - s \\left(s \\left(- X + Z\\right) + 10\\right)}{4000 s}$"
          },
          "metadata": {},
          "execution_count": 62
        }
      ],
      "source": [
        "Eq3"
      ]
    },
    {
      "cell_type": "code",
      "execution_count": 63,
      "metadata": {
        "id": "uL24iWnPjpSa"
      },
      "outputs": [],
      "source": [
        "sol = sp.solve([Eq1,Eq2,Eq3],[X,Y,Z],dict= True)[0] # resolução do sistema linear"
      ]
    },
    {
      "cell_type": "code",
      "execution_count": 64,
      "metadata": {
        "colab": {
          "base_uri": "https://localhost:8080/",
          "height": 55
        },
        "id": "d1wBNZFvzEQ8",
        "outputId": "7e171729-14fd-41b9-a6b4-6d91ca581e35"
      },
      "outputs": [
        {
          "output_type": "display_data",
          "data": {
            "text/plain": [
              "<IPython.core.display.Math object>"
            ],
            "text/latex": "$\\displaystyle X(s) = \\frac{288.0 s^{3} + 1880.0 s^{2} + 4162800.0 s + 10000000.0}{5.0 s^{4} + 52.0 s^{3} + 70100.0 s^{2} + 180000.0 s}\\;Vs$"
          },
          "metadata": {}
        }
      ],
      "source": [
        "symdisp('X(s) = ',sol[X],'Vs') #Valor de tensão do nó X no domínio da frequência"
      ]
    },
    {
      "cell_type": "code",
      "execution_count": 65,
      "metadata": {
        "colab": {
          "base_uri": "https://localhost:8080/",
          "height": 55
        },
        "id": "SVSIZSE6zEWv",
        "outputId": "3fe99184-8390-4b55-b854-780e1252db7b"
      },
      "outputs": [
        {
          "output_type": "display_data",
          "data": {
            "text/plain": [
              "<IPython.core.display.Math object>"
            ],
            "text/latex": "$\\displaystyle Y(s) = \\frac{96.0 s^{3} + 1100.0 s^{2} + 1321800.0 s + 2000000.0}{5.0 s^{4} + 52.0 s^{3} + 70100.0 s^{2} + 180000.0 s}\\;Vs$"
          },
          "metadata": {}
        }
      ],
      "source": [
        "symdisp('Y(s) = ',sol[Y],'Vs') #Valor de tensão do nó Y no domínio da frequência"
      ]
    },
    {
      "cell_type": "code",
      "execution_count": 66,
      "metadata": {
        "colab": {
          "base_uri": "https://localhost:8080/",
          "height": 55
        },
        "id": "5-VOyd5XzEcC",
        "outputId": "a7572e91-c44c-4884-88e3-1edbcd40eb02"
      },
      "outputs": [
        {
          "output_type": "display_data",
          "data": {
            "text/plain": [
              "<IPython.core.display.Math object>"
            ],
            "text/latex": "$\\displaystyle Z(s) = \\frac{238.0 s^{3} - 18640.0 s^{2} + 921800.0 s + 2000000.0}{5.0 s^{4} + 52.0 s^{3} + 70100.0 s^{2} + 180000.0 s}\\;Vs$"
          },
          "metadata": {}
        }
      ],
      "source": [
        "symdisp('Z(s) = ',sol[Z],'Vs') #Valor de tensão do nó Z no domínio da frequência"
      ]
    },
    {
      "cell_type": "code",
      "execution_count": 67,
      "metadata": {
        "id": "aAsoxOir__hn"
      },
      "outputs": [],
      "source": [
        "IL1 = IL1.subs({X:sol[X],Y:sol[Y],Z:sol[Z]}).simplify()# Corrente no indutor L1 = 0,4H pelo método das tensões de nó\n",
        "IL2 = IL2.subs({X:sol[X],Y:sol[Y],Z:sol[Z]}).simplify()# Corrente no indutor L2 = 1H pelo método das tensões de nó\n",
        "VC = (sol[X]-sol[Z]).simplify()# Tensão no capacitor C = 250uF pelo método das tensões de nó"
      ]
    },
    {
      "cell_type": "code",
      "execution_count": 68,
      "metadata": {
        "colab": {
          "base_uri": "https://localhost:8080/",
          "height": 163
        },
        "id": "hTQbMTFImX6T",
        "outputId": "44f67de0-b0e6-4b85-ff17-e4b3c34a127a"
      },
      "outputs": [
        {
          "output_type": "display_data",
          "data": {
            "text/plain": [
              "<IPython.core.display.Math object>"
            ],
            "text/latex": "$\\displaystyle V_c(0^+) = 10.0\\;V$"
          },
          "metadata": {}
        },
        {
          "output_type": "display_data",
          "data": {
            "text/plain": [
              "<IPython.core.display.Math object>"
            ],
            "text/latex": "$\\displaystyle I_{L1}(0^+) = 0\\;A$"
          },
          "metadata": {}
        },
        {
          "output_type": "display_data",
          "data": {
            "text/plain": [
              "<IPython.core.display.Math object>"
            ],
            "text/latex": "$\\displaystyle I_{L2}(0^+) = 1.0\\;A$"
          },
          "metadata": {}
        },
        {
          "output_type": "stream",
          "name": "stdout",
          "text": [
            "\n"
          ]
        },
        {
          "output_type": "display_data",
          "data": {
            "text/plain": [
              "<IPython.core.display.Math object>"
            ],
            "text/latex": "$\\displaystyle V_c(+\\infty) = 44.444\\;V$"
          },
          "metadata": {}
        },
        {
          "output_type": "display_data",
          "data": {
            "text/plain": [
              "<IPython.core.display.Math object>"
            ],
            "text/latex": "$\\displaystyle I_{L1}(+\\infty) = 5.556\\;A$"
          },
          "metadata": {}
        },
        {
          "output_type": "display_data",
          "data": {
            "text/plain": [
              "<IPython.core.display.Math object>"
            ],
            "text/latex": "$\\displaystyle I_{L2}(+\\infty) = 5.556\\;A$"
          },
          "metadata": {}
        }
      ],
      "source": [
        "symdisp('V_c(0^+) = ',sp.limit(s*VC,s,sp.oo),'V')\n",
        "symdisp('I_{L1}(0^+) = ',sp.limit(s*IL1,s,sp.oo),'A')\n",
        "symdisp('I_{L2}(0^+) = ',sp.limit(s*IL2,s,sp.oo),'A')\n",
        "print()\n",
        "symdisp('V_c(+\\infty) = ',round_expr(sp.limit(s*VC,s,0),3),'V')\n",
        "symdisp('I_{L1}(+\\infty) = ',round_expr(sp.limit(s*IL1,s,0),3),'A')\n",
        "symdisp('I_{L2}(+\\infty) = ',round_expr(sp.limit(s*IL2,s,0),3),'A')"
      ]
    },
    {
      "cell_type": "code",
      "execution_count": 69,
      "metadata": {
        "colab": {
          "base_uri": "https://localhost:8080/",
          "height": 58
        },
        "id": "NLEydlFkGlx1",
        "outputId": "a28ba60e-469f-4ce3-8f49-c82d4b899e8c"
      },
      "outputs": [
        {
          "output_type": "display_data",
          "data": {
            "text/plain": [
              "<IPython.core.display.Math object>"
            ],
            "text/latex": "$\\displaystyle V_c(s) = \\frac{50.0 s^{3} + 20520.0 s^{2} + 3241000.0 s + 8000000.0}{s \\left(5.0 s^{3} + 52.0 s^{2} + 70100.0 s + 180000.0\\right)}\\;Vs$"
          },
          "metadata": {}
        }
      ],
      "source": [
        "symdisp('V_c(s) = ', VC, 'Vs')"
      ]
    },
    {
      "cell_type": "code",
      "execution_count": 70,
      "metadata": {
        "colab": {
          "base_uri": "https://localhost:8080/",
          "height": 58
        },
        "id": "uMh7gsKcGoKs",
        "outputId": "8edc5a50-386d-40bf-943c-7e0728e5b6ce"
      },
      "outputs": [
        {
          "output_type": "display_data",
          "data": {
            "text/plain": [
              "<IPython.core.display.Math object>"
            ],
            "text/latex": "$\\displaystyle I_{L1}(s) = \\frac{- 355.0 s^{2} + 49350.0 s + 1000000.0}{s \\left(5.0 s^{3} + 52.0 s^{2} + 70100.0 s + 180000.0\\right)}\\;As$"
          },
          "metadata": {}
        }
      ],
      "source": [
        "symdisp('I_{L1}(s) = ', IL1, 'As')"
      ]
    },
    {
      "cell_type": "code",
      "execution_count": 71,
      "metadata": {
        "colab": {
          "base_uri": "https://localhost:8080/",
          "height": 58
        },
        "id": "J9DvxOjWGprp",
        "outputId": "473efa38-e5a1-42d9-967b-a4fc200dd3de"
      },
      "outputs": [
        {
          "output_type": "display_data",
          "data": {
            "text/plain": [
              "<IPython.core.display.Math object>"
            ],
            "text/latex": "$\\displaystyle I_{L2}(s) = \\frac{5.0 s^{3} + 280.0 s^{2} + 50900.0 s + 1000000.0}{s \\left(5.0 s^{3} + 52.0 s^{2} + 70100.0 s + 180000.0\\right)}\\;As$"
          },
          "metadata": {}
        }
      ],
      "source": [
        "symdisp('I_{L2}(s) = ', IL2, 'As')"
      ]
    },
    {
      "cell_type": "code",
      "execution_count": 72,
      "metadata": {
        "id": "g_V011GJYfAi"
      },
      "outputs": [],
      "source": [
        "#Definição das variáveis do tipo símbolicas para o método das correntes de malha\n",
        "#Item D\n",
        "Ia,Ib,Ic = sp.symbols('I_a,I_b,I_c')\n",
        "Eq1 = sp.Eq(2*R2*Ia-(100/s)+2*R1*(Ia-Ib)+R1*(Ia-Ic), 0).simplify()\n",
        "Eq2 = sp.Eq(-R1*(Ia-Ic)+(0.4*s)*(Ic-Ib)+s*Ic-1+2*R3*Ic,0).simplify()\n",
        "Eq3 = sp.Eq((4000/s)*Ib+10/s-0.4*s*(Ic-Ib)-2*R1*(Ia-Ib),0).simplify()"
      ]
    },
    {
      "cell_type": "code",
      "execution_count": 73,
      "metadata": {
        "colab": {
          "base_uri": "https://localhost:8080/",
          "height": 51
        },
        "id": "Ey7RfTKSZpmQ",
        "outputId": "e0afb30d-6caf-4b1d-96ed-d8779d9f18ce"
      },
      "outputs": [
        {
          "output_type": "execute_result",
          "data": {
            "text/plain": [
              "                         100    \n",
              "-10⋅Iₐ + 4⋅I_b + 2⋅I_c + ─── = 0\n",
              "                          s     "
            ],
            "image/png": "[encoded data removed]",
            "text/latex": "$\\displaystyle - 10 I_{a} + 4 I_{b} + 2 I_{c} + \\frac{100}{s} = 0$"
          },
          "metadata": {},
          "execution_count": 73
        }
      ],
      "source": [
        "Eq1"
      ]
    },
    {
      "cell_type": "code",
      "execution_count": 74,
      "metadata": {
        "colab": {
          "base_uri": "https://localhost:8080/",
          "height": 38
        },
        "id": "_zIW7Fh5aDFq",
        "outputId": "90f6da3f-a252-4c19-a4d8-d45a3b730960"
      },
      "outputs": [
        {
          "output_type": "execute_result",
          "data": {
            "text/plain": [
              "2⋅Iₐ - I_c⋅s - 4⋅I_c + 0.4⋅s⋅(I_b - I_c) + 1 = 0"
            ],
            "image/png": "[encoded data removed]",
            "text/latex": "$\\displaystyle 2 I_{a} - I_{c} s - 4 I_{c} + 0.4 s \\left(I_{b} - I_{c}\\right) + 1 = 0$"
          },
          "metadata": {},
          "execution_count": 74
        }
      ],
      "source": [
        "Eq2"
      ]
    },
    {
      "cell_type": "code",
      "execution_count": 75,
      "metadata": {
        "colab": {
          "base_uri": "https://localhost:8080/",
          "height": 53
        },
        "id": "ge07JDouahAf",
        "outputId": "b1b4dd5f-f63c-4f5b-f1fe-daaed9cd8a3c"
      },
      "outputs": [
        {
          "output_type": "execute_result",
          "data": {
            "text/plain": [
              "4000⋅I_b + s⋅(-4⋅Iₐ + 4⋅I_b + 0.4⋅s⋅(I_b - I_c)) + 10    \n",
              "───────────────────────────────────────────────────── = 0\n",
              "                          s                              "
            ],
            "image/png": "[encoded data removed]",
            "text/latex": "$\\displaystyle \\frac{4000 I_{b} + s \\left(- 4 I_{a} + 4 I_{b} + 0.4 s \\left(I_{b} - I_{c}\\right)\\right) + 10}{s} = 0$"
          },
          "metadata": {},
          "execution_count": 75
        }
      ],
      "source": [
        "Eq3"
      ]
    },
    {
      "cell_type": "code",
      "execution_count": 76,
      "metadata": {
        "id": "9MgU9ByWaq9p"
      },
      "outputs": [],
      "source": [
        "sol_malha = sp.solve([Eq1,Eq2,Eq3],[Ia,Ib,Ic],dict= True)[0]"
      ]
    },
    {
      "cell_type": "code",
      "execution_count": 77,
      "metadata": {
        "colab": {
          "base_uri": "https://localhost:8080/",
          "height": 55
        },
        "id": "6zpwYi6Iaw3N",
        "outputId": "774a30dd-ae23-4de8-e4a8-d7e9426d79be"
      },
      "outputs": [
        {
          "output_type": "execute_result",
          "data": {
            "text/plain": [
              "      3          2                         \n",
              "53.0⋅s  + 830.0⋅s  + 711800.0⋅s + 2000000.0\n",
              "───────────────────────────────────────────\n",
              "      4         3            2             \n",
              " 5.0⋅s  + 52.0⋅s  + 70100.0⋅s  + 180000.0⋅s"
            ],
            "image/png": "[encoded data removed]",
            "text/latex": "$\\displaystyle \\frac{53.0 s^{3} + 830.0 s^{2} + 711800.0 s + 2000000.0}{5.0 s^{4} + 52.0 s^{3} + 70100.0 s^{2} + 180000.0 s}$"
          },
          "metadata": {},
          "execution_count": 77
        }
      ],
      "source": [
        "sol_malha[Ia] #Valor de corrente na malha 1 no domínio da frequência"
      ]
    },
    {
      "cell_type": "code",
      "execution_count": 78,
      "metadata": {
        "colab": {
          "base_uri": "https://localhost:8080/",
          "height": 55
        },
        "id": "Q9IRrqvEa7D1",
        "outputId": "cb86b2d3-f6a4-46cb-be1c-f203758edd8a"
      },
      "outputs": [
        {
          "output_type": "execute_result",
          "data": {
            "text/plain": [
              "            2                          \n",
              "       5.0⋅s  + 635.0⋅s + 1550.0       \n",
              "───────────────────────────────────────\n",
              "     3         2                       \n",
              "5.0⋅s  + 52.0⋅s  + 70100.0⋅s + 180000.0"
            ],
            "image/png": "[encoded data removed]",
            "text/latex": "$\\displaystyle \\frac{5.0 s^{2} + 635.0 s + 1550.0}{5.0 s^{3} + 52.0 s^{2} + 70100.0 s + 180000.0}$"
          },
          "metadata": {},
          "execution_count": 78
        }
      ],
      "source": [
        "sol_malha[Ib]#Valor de corrente na malha 2 no domínio da frequência"
      ]
    },
    {
      "cell_type": "code",
      "execution_count": 79,
      "metadata": {
        "colab": {
          "base_uri": "https://localhost:8080/",
          "height": 55
        },
        "id": "YSQGKvAWa9o5",
        "outputId": "2a29ffa8-701e-4700-bc97-55b8dcd8c8c1"
      },
      "outputs": [
        {
          "output_type": "execute_result",
          "data": {
            "text/plain": [
              "     3          2                         \n",
              "5.0⋅s  + 280.0⋅s  + 50900.0⋅s + 1000000.0 \n",
              "──────────────────────────────────────────\n",
              "     4         3            2             \n",
              "5.0⋅s  + 52.0⋅s  + 70100.0⋅s  + 180000.0⋅s"
            ],
            "image/png": "[encoded data removed]",
            "text/latex": "$\\displaystyle \\frac{5.0 s^{3} + 280.0 s^{2} + 50900.0 s + 1000000.0}{5.0 s^{4} + 52.0 s^{3} + 70100.0 s^{2} + 180000.0 s}$"
          },
          "metadata": {},
          "execution_count": 79
        }
      ],
      "source": [
        "sol_malha[Ic]#Valor de corrente na malha 3 no domínio da frequência"
      ]
    },
    {
      "cell_type": "code",
      "execution_count": 80,
      "metadata": {
        "id": "GL-4tdkVbe7D"
      },
      "outputs": [],
      "source": [
        "VC_malha = ((4000/s)*sol_malha[Ib]+10/s).simplify() #Corrente no indutor L1 = 0,4H pelo método das correntes de malha\n",
        "IL1_malha = (sol_malha[Ic]-sol_malha[Ib]).simplify()# #Corrente no indutor L1 = 0,4H pelo método das correntes de malha\n",
        "IL2_malha  = sol_malha[Ic].simplify()#Tensão no capacitor C = 250uF pelo método das tensões de nó"
      ]
    },
    {
      "cell_type": "code",
      "execution_count": 81,
      "metadata": {
        "colab": {
          "base_uri": "https://localhost:8080/",
          "height": 177
        },
        "id": "47X_GsL-b0-u",
        "outputId": "506cb3a0-39f1-4c4b-ae22-4454e872f458"
      },
      "outputs": [
        {
          "output_type": "display_data",
          "data": {
            "text/plain": [
              "<IPython.core.display.Math object>"
            ],
            "text/latex": "$\\displaystyle V_c(s) = \\frac{50.0 s^{3} + 20520.0 s^{2} + 3241000.0 s + 8000000.0}{s \\left(5.0 s^{3} + 52.0 s^{2} + 70100.0 s + 180000.0\\right)}\\;Vs$"
          },
          "metadata": {}
        },
        {
          "output_type": "display_data",
          "data": {
            "text/plain": [
              "<IPython.core.display.Math object>"
            ],
            "text/latex": "$\\displaystyle I_{L1}(s) = \\frac{- 355.0 s^{2} + 49350.0 s + 1000000.0}{s \\left(5.0 s^{3} + 52.0 s^{2} + 70100.0 s + 180000.0\\right)}\\;As$"
          },
          "metadata": {}
        },
        {
          "output_type": "display_data",
          "data": {
            "text/plain": [
              "<IPython.core.display.Math object>"
            ],
            "text/latex": "$\\displaystyle I_{L2}(s) = \\frac{5.0 s^{3} + 280.0 s^{2} + 50900.0 s + 1000000.0}{s \\left(5.0 s^{3} + 52.0 s^{2} + 70100.0 s + 180000.0\\right)}\\;As$"
          },
          "metadata": {}
        },
        {
          "output_type": "stream",
          "name": "stdout",
          "text": [
            "\n",
            "Resultado consistênte\n"
          ]
        }
      ],
      "source": [
        "symdisp('V_c(s) = ', VC, 'Vs')\n",
        "symdisp('I_{L1}(s) = ', IL1, 'As')\n",
        "symdisp('I_{L2}(s) = ', IL2, 'As')\n",
        "print()\n",
        "if(VC_malha == VC and IL1 == IL1_malha and IL2 == IL2_malha):\n",
        "    print(\"Resultado consistênte\")\n",
        "else:\n",
        "    print(\"Resultado Inconsistênte\")"
      ]
    },
    {
      "cell_type": "code",
      "source": [
        "vc = (44.44+1.11*sp.exp(-2.57*t)+sp.exp(-3.91*t)*(-35.56*sp.cos(118.26*t)+23.68*sp.sin(118.26*t)))*sp.Heaviside(t)\n",
        "il1 = (5.56 - 4.84*sp.exp(-2.57*t)+sp.exp(-3.91*t)*(-0.71*sp.cos(118.26*t)-.73*sp.sin(118.26*t)))*sp.Heaviside(t)\n",
        "il2 = (5.56 - 4.84*sp.exp(-2.57*t)+sp.exp(-3.91*t)*(0.22*sp.cos(118.26*t)+.28*sp.sin(118.26*t)))*sp.Heaviside(t)\n",
        "symdisp('V_c(t) = ', vc, 'Vs')\n",
        "symdisp('I_{L1}(t) = ', il1, 'As')\n",
        "symdisp('I_{L2}(t) = ', il2, 'As')"
      ],
      "metadata": {
        "colab": {
          "base_uri": "https://localhost:8080/",
          "height": 83
        },
        "id": "3NF_ed6Z4muM",
        "outputId": "58112fb8-a149-4fb4-f4d0-4d610f5a9395"
      },
      "execution_count": 82,
      "outputs": [
        {
          "output_type": "display_data",
          "data": {
            "text/plain": [
              "<IPython.core.display.Math object>"
            ],
            "text/latex": "$\\displaystyle V_c(t) = \\left(\\left(23.68 \\sin{\\left(118.26 t \\right)} - 35.56 \\cos{\\left(118.26 t \\right)}\\right) e^{- 3.91 t} + 44.44 + 1.11 e^{- 2.57 t}\\right) \\theta\\left(t\\right)\\;Vs$"
          },
          "metadata": {}
        },
        {
          "output_type": "display_data",
          "data": {
            "text/plain": [
              "<IPython.core.display.Math object>"
            ],
            "text/latex": "$\\displaystyle I_{L1}(t) = \\left(\\left(- 0.73 \\sin{\\left(118.26 t \\right)} - 0.71 \\cos{\\left(118.26 t \\right)}\\right) e^{- 3.91 t} + 5.56 - 4.84 e^{- 2.57 t}\\right) \\theta\\left(t\\right)\\;As$"
          },
          "metadata": {}
        },
        {
          "output_type": "display_data",
          "data": {
            "text/plain": [
              "<IPython.core.display.Math object>"
            ],
            "text/latex": "$\\displaystyle I_{L2}(t) = \\left(\\left(0.28 \\sin{\\left(118.26 t \\right)} + 0.22 \\cos{\\left(118.26 t \\right)}\\right) e^{- 3.91 t} + 5.56 - 4.84 e^{- 2.57 t}\\right) \\theta\\left(t\\right)\\;As$"
          },
          "metadata": {}
        }
      ]
    },
    {
      "cell_type": "code",
      "source": [
        "symdisp('Vc(t) = ',vc,'Vs')\n",
        "symplot(t,vc,bt,'Vc(t)')"
      ],
      "metadata": {
        "colab": {
          "base_uri": "https://localhost:8080/",
          "height": 301
        },
        "id": "CRtACmOfel2F",
        "outputId": "7c3dceb8-3255-4ef1-e967-a0ec2b653797"
      },
      "execution_count": 83,
      "outputs": [
        {
          "output_type": "display_data",
          "data": {
            "text/plain": [
              "<IPython.core.display.Math object>"
            ],
            "text/latex": "$\\displaystyle Vc(t) = \\left(\\left(23.68 \\sin{\\left(118.26 t \\right)} - 35.56 \\cos{\\left(118.26 t \\right)}\\right) e^{- 3.91 t} + 44.44 + 1.11 e^{- 2.57 t}\\right) \\theta\\left(t\\right)\\;Vs$"
          },
          "metadata": {}
        },
        {
          "output_type": "execute_result",
          "data": {
            "text/plain": [
              "<Figure size 432x288 with 1 Axes>"
            ],
            "image/png": "[encoded data removed]"
          },
          "metadata": {},
          "execution_count": 83
        }
      ]
    },
    {
      "cell_type": "code",
      "source": [
        "symplot(t,il1,bt,'iL1(t)')"
      ],
      "metadata": {
        "colab": {
          "base_uri": "https://localhost:8080/",
          "height": 279
        },
        "id": "FRguAcXuVGLg",
        "outputId": "0da97387-090e-4710-9449-86458845916c"
      },
      "execution_count": 84,
      "outputs": [
        {
          "output_type": "execute_result",
          "data": {
            "text/plain": [
              "<Figure size 432x288 with 1 Axes>"
            ],
            "image/png": "[encoded data removed]"
          },
          "metadata": {},
          "execution_count": 84
        }
      ]
    },
    {
      "cell_type": "code",
      "source": [
        "symplot(t,il2,bt,'iL2(t)')"
      ],
      "metadata": {
        "colab": {
          "base_uri": "https://localhost:8080/",
          "height": 279
        },
        "id": "sScq9reIVIJX",
        "outputId": "fb5f0f03-f7ef-4bce-9de5-7923ce7489a2"
      },
      "execution_count": 85,
      "outputs": [
        {
          "output_type": "execute_result",
          "data": {
            "text/plain": [
              "<Figure size 432x288 with 1 Axes>"
            ],
            "image/png": "[encoded data removed]"
          },
          "metadata": {},
          "execution_count": 85
        }
      ]
    }
  ],
  "metadata": {
    "colab": {
      "collapsed_sections": [],
      "name": "Cópia de Exerc_01_circuitos_i_3_unidade.ipynb",
      "provenance": [],
      "include_colab_link": true
    },
    "kernelspec": {
      "display_name": "Python 3",
      "name": "python3"
    },
    "language_info": {
      "name": "python"
    }
  },
  "nbformat": 4,
  "nbformat_minor": 0
}