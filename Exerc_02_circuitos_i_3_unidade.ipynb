{
  "nbformat": 4,
  "nbformat_minor": 0,
  "metadata": {
    "colab": {
      "name": "Exerc_02_circuitos_i_3_unidade.ipynb",
      "provenance": [],
      "include_colab_link": true
    },
    "kernelspec": {
      "name": "python3",
      "display_name": "Python 3"
    },
    "language_info": {
      "name": "python"
    }
  },
  "cells": [
    {
      "cell_type": "markdown",
      "metadata": {
        "id": "view-in-github",
        "colab_type": "text"
      },
      "source": [
        "<a href=\"https://colab.research.google.com/github/valmyr/CIRCUITOS-I/blob/main/Exerc_02_circuitos_i_3_unidade.ipynb\" target=\"_parent\"><img src=\"https://colab.research.google.com/assets/colab-badge.svg\" alt=\"Open In Colab\"/></a>"
      ]
    },
    {
      "cell_type": "code",
      "execution_count": 55,
      "metadata": {
        "id": "xPRoov4eKAY9"
      },
      "outputs": [],
      "source": [
        "#https://tinyurl.com/2fx7kztl\n",
        "import sys\n",
        "import os\n",
        "if(os.path.isdir(r'/content/ElectricCircuits/Jupyter notebooks/') == False):\n",
        "    sys.path.insert(0, '/content/ElectricCircuits/Jupyter notebooks/')\n",
        "    !git clone https://github.com/edsonportosilva/ElectricCircuits.git"
      ]
    },
    {
      "cell_type": "code",
      "source": [
        "import sympy as sp\n",
        "import numpy as np\n",
        "from matplotlib.pyplot import plot as plt\n",
        "from utils import round_expr, symdisp, symplot\n",
        "from sympy.polys.partfrac import apart\n",
        "bt = np.arange(-0.1,1,(10**-3)/10)"
      ],
      "metadata": {
        "id": "aMDv6Q7D8giR"
      },
      "execution_count": 56,
      "outputs": []
    },
    {
      "cell_type": "code",
      "source": [
        "sp.init_printing()\n",
        "# transformada de Laplace\n",
        "def L(f,t,s):\n",
        "    return sp.laplace_transform(f, t, s, noconds=True)\n",
        "\n",
        "# transformada inversa de Laplace\n",
        "def invL(F,s,t):\n",
        "    return sp.re(sp.inverse_laplace_transform(F, s, t, noconds=True))\n",
        "\n",
        "# funções para auxílio na expansão em frações parciais\n",
        "def adjustCoeff(expr):    \n",
        "    coeff = expr.as_numer_denom()\n",
        "    c0 = sp.poly(coeff[1].cancel()).coeffs()[0]\n",
        "    \n",
        "    return (coeff[0].cancel()/c0)/(coeff[1].cancel()/c0)\n",
        "\n",
        "def partFrac(expr, Ndigits):\n",
        "    expr = expr.cancel()\n",
        "    expr = apart(adjustCoeff(expr), s, full=True).doit()\n",
        "    \n",
        "    return sp.N(expr, Ndigits)\n"
      ],
      "metadata": {
        "id": "j75wRfvpnpxH"
      },
      "execution_count": 57,
      "outputs": []
    },
    {
      "cell_type": "code",
      "source": [
        "matricula = [1,1,0]\n",
        "R1 = matricula[0]+1\n",
        "R2 = matricula[1]+1\n",
        "R3 = matricula[2]+1\n",
        "print(f'R1 = {R1} ohms.')\n",
        "print(f'R2 = {R2} ohms.')\n",
        "print(f'R3 = {R3} ohms.')"
      ],
      "metadata": {
        "id": "UHdHNDcMLQYS",
        "outputId": "6ad23072-0ec9-4742-f945-046bf1efc44e",
        "colab": {
          "base_uri": "https://localhost:8080/"
        }
      },
      "execution_count": 58,
      "outputs": [
        {
          "output_type": "stream",
          "name": "stdout",
          "text": [
            "R1 = 2 ohms.\n",
            "R2 = 2 ohms.\n",
            "R3 = 1 ohms.\n"
          ]
        }
      ]
    },
    {
      "cell_type": "code",
      "source": [
        "I1,IL,IC,Vx,Vx_,Vx__,Vc_,Vc__,V1,V2,s,t = sp.symbols('I_1,I_L,I_C,V_x,Vx_,V_x_,V_c_,V__c_,V_1,V_2,s,t')\n",
        "I1 = (V1 - s*Vx)/(0.5*(s**2))\n",
        "IL = Vx/(2*R1+0.5*s).simplify()\n",
        "IC = (s*Vx-V2)/4000"
      ],
      "metadata": {
        "id": "b8L01wHIKRxp"
      },
      "execution_count": 59,
      "outputs": []
    },
    {
      "cell_type": "code",
      "source": [
        "Eq = sp.Eq(I1,IL+IC)"
      ],
      "metadata": {
        "id": "O5x3o6m7j7AL"
      },
      "execution_count": 60,
      "outputs": []
    },
    {
      "cell_type": "code",
      "source": [
        "#Contribuição de V1\n",
        "sol = sp.solve(Eq.subs({V1:20,V2:0}),Vx,dict=True)[0]\n",
        "Vx_ = sol[Vx]\n",
        "IL_ = IL.subs({Vx:Vx_})\n",
        "Vc_ = (IC*(4000/s)).subs({Vx:Vx_,V1:20,V2:0}).simplify()"
      ],
      "metadata": {
        "id": "R7eNJbXakIes"
      },
      "execution_count": 61,
      "outputs": []
    },
    {
      "cell_type": "code",
      "source": [
        "Vc_"
      ],
      "metadata": {
        "colab": {
          "base_uri": "https://localhost:8080/",
          "height": 55
        },
        "id": "_fSNIwyUlcfm",
        "outputId": "165fe165-045d-45f7-acbd-ef3c5f1fc316"
      },
      "execution_count": 62,
      "outputs": [
        {
          "output_type": "execute_result",
          "data": {
            "text/plain": [
              "        160000.0⋅s + 1280000.0       \n",
              "─────────────────────────────────────\n",
              "  ⎛ 3        2                      ⎞\n",
              "s⋅⎝s  + 8.0⋅s  + 16000.0⋅s + 64000.0⎠"
            ],
            "image/png": "[encoded data removed]",
            "text/latex": "$\\displaystyle \\frac{160000.0 s + 1280000.0}{s \\left(s^{3} + 8.0 s^{2} + 16000.0 s + 64000.0\\right)}$"
          },
          "metadata": {},
          "execution_count": 62
        }
      ]
    },
    {
      "cell_type": "code",
      "source": [
        "IL_"
      ],
      "metadata": {
        "colab": {
          "base_uri": "https://localhost:8080/",
          "height": 57
        },
        "id": "KxAOv4nXVgRh",
        "outputId": "8ba7f9a6-60e1-48a5-9a2e-709a53c27930"
      },
      "execution_count": 63,
      "outputs": [
        {
          "output_type": "execute_result",
          "data": {
            "text/plain": [
              "                160000.0⋅(s + 8.0)               \n",
              "─────────────────────────────────────────────────\n",
              "              ⎛ 3        2                      ⎞\n",
              "s⋅(0.5⋅s + 4)⋅⎝s  + 8.0⋅s  + 16000.0⋅s + 64000.0⎠"
            ],
            "image/png": "[encoded data removed]",
            "text/latex": "$\\displaystyle \\frac{160000.0 \\left(s + 8.0\\right)}{s \\left(0.5 s + 4\\right) \\left(s^{3} + 8.0 s^{2} + 16000.0 s + 64000.0\\right)}$"
          },
          "metadata": {},
          "execution_count": 63
        }
      ]
    },
    {
      "cell_type": "code",
      "source": [
        "#Contribuição de V2\n",
        "sol = sp.solve(Eq.subs({V1:0,V2:10}),Vx,dict=True)[0]\n",
        "Vx__ = sol[Vx]\n",
        "IL__ = IL.subs({Vx:Vx__,V1:0,V2:10}).simplify()\n",
        "Vc__ = (IC*(4000/s)).subs({Vx:Vx__,V1:0,V2:10}).simplify()"
      ],
      "metadata": {
        "id": "MUiqmhI8TPJN"
      },
      "execution_count": 64,
      "outputs": []
    },
    {
      "cell_type": "code",
      "source": [
        "IL__\n"
      ],
      "metadata": {
        "colab": {
          "base_uri": "https://localhost:8080/",
          "height": 52
        },
        "id": "SigZAohwToIe",
        "outputId": "fb871d03-4798-499b-e65a-628dc5c1b519"
      },
      "execution_count": 65,
      "outputs": [
        {
          "output_type": "execute_result",
          "data": {
            "text/plain": [
              "               10.0⋅s               \n",
              "────────────────────────────────────\n",
              "     3        2                     \n",
              "0.5⋅s  + 4.0⋅s  + 8000.0⋅s + 32000.0"
            ],
            "image/png": "[encoded data removed]",
            "text/latex": "$\\displaystyle \\frac{10.0 s}{0.5 s^{3} + 4.0 s^{2} + 8000.0 s + 32000.0}$"
          },
          "metadata": {},
          "execution_count": 65
        }
      ]
    },
    {
      "cell_type": "code",
      "source": [
        "Vc__"
      ],
      "metadata": {
        "colab": {
          "base_uri": "https://localhost:8080/",
          "height": 55
        },
        "id": "tintPn3CTs2m",
        "outputId": "ad1c6ebb-9642-4736-e380-d62f71c0f2e8"
      },
      "execution_count": 66,
      "outputs": [
        {
          "output_type": "execute_result",
          "data": {
            "text/plain": [
              "        -(160000.0⋅s + 640000.0)         \n",
              "─────────────────────────────────────────\n",
              "  ⎛     3        2                      ⎞\n",
              "s⋅⎝1.0⋅s  + 8.0⋅s  + 16000.0⋅s + 64000.0⎠"
            ],
            "image/png": "[encoded data removed]",
            "text/latex": "$\\displaystyle - \\frac{160000.0 s + 640000.0}{s \\left(1.0 s^{3} + 8.0 s^{2} + 16000.0 s + 64000.0\\right)}$"
          },
          "metadata": {},
          "execution_count": 66
        }
      ]
    },
    {
      "cell_type": "code",
      "source": [
        "symdisp(\"Vx_{'}(s) = \",Vx_,'Vs')\n",
        "symdisp(\"Vx_{''}(s) = \",Vx__,'Vs')\n",
        "symdisp('Vx(s) = ',(Vx__+Vx_).expand().simplify(),'Vs')"
      ],
      "metadata": {
        "id": "EYrlk6eY7FCd",
        "outputId": "ee46a0c1-92d7-4523-be20-f88690fda05c",
        "colab": {
          "base_uri": "https://localhost:8080/",
          "height": 135
        }
      },
      "execution_count": 67,
      "outputs": [
        {
          "output_type": "display_data",
          "data": {
            "text/plain": [
              "<IPython.core.display.Math object>"
            ],
            "text/latex": "$\\displaystyle Vx_{'}(s) = \\frac{160000.0 \\left(s + 8.0\\right)}{s \\left(s^{3} + 8.0 s^{2} + 16000.0 s + 64000.0\\right)}\\;Vs$"
          },
          "metadata": {}
        },
        {
          "output_type": "display_data",
          "data": {
            "text/plain": [
              "<IPython.core.display.Math object>"
            ],
            "text/latex": "$\\displaystyle Vx_{''}(s) = \\frac{10.0 s \\left(s + 8.0\\right)}{s^{3} + 8.0 s^{2} + 16000.0 s + 64000.0}\\;Vs$"
          },
          "metadata": {}
        },
        {
          "output_type": "display_data",
          "data": {
            "text/plain": [
              "<IPython.core.display.Math object>"
            ],
            "text/latex": "$\\displaystyle Vx(s) = \\frac{s^{2} \\left(10.0 s + 80.0\\right) + 160000.0 s + 1280000.0}{s \\left(s^{3} + 8.0 s^{2} + 16000.0 s + 64000.0\\right)}\\;Vs$"
          },
          "metadata": {}
        }
      ]
    },
    {
      "cell_type": "code",
      "source": [
        "#Assim, Vc = Vc_+Vc__ e IL = IL_+IL__.\n",
        "VC = (Vc_ + Vc__).simplify()\n",
        "IL = (IL_+IL__).simplify()"
      ],
      "metadata": {
        "id": "j2OvXjzPXDuk"
      },
      "execution_count": 68,
      "outputs": []
    },
    {
      "cell_type": "code",
      "source": [
        "VC"
      ],
      "metadata": {
        "colab": {
          "base_uri": "https://localhost:8080/",
          "height": 55
        },
        "id": "8kOSYD7fXVZv",
        "outputId": "990170dc-8d48-48d4-f171-c7f31ff24e33"
      },
      "execution_count": 69,
      "outputs": [
        {
          "output_type": "execute_result",
          "data": {
            "text/plain": [
              "                 640000.0                \n",
              "─────────────────────────────────────────\n",
              "  ⎛     3        2                      ⎞\n",
              "s⋅⎝1.0⋅s  + 8.0⋅s  + 16000.0⋅s + 64000.0⎠"
            ],
            "image/png": "[encoded data removed]",
            "text/latex": "$\\displaystyle \\frac{640000.0}{s \\left(1.0 s^{3} + 8.0 s^{2} + 16000.0 s + 64000.0\\right)}$"
          },
          "metadata": {},
          "execution_count": 69
        }
      ]
    },
    {
      "cell_type": "code",
      "source": [
        "IL"
      ],
      "metadata": {
        "colab": {
          "base_uri": "https://localhost:8080/",
          "height": 58
        },
        "id": "rpA0IpYWXWvN",
        "outputId": "5adc2406-35f9-4b01-d6c0-37c5150b8ac7"
      },
      "execution_count": 70,
      "outputs": [
        {
          "output_type": "execute_result",
          "data": {
            "text/plain": [
              "                  2                      \n",
              "             5.0⋅s  + 80000.0            \n",
              "─────────────────────────────────────────\n",
              "  ⎛      3        2                     ⎞\n",
              "s⋅⎝0.25⋅s  + 2.0⋅s  + 4000.0⋅s + 16000.0⎠"
            ],
            "image/png": "[encoded data removed]",
            "text/latex": "$\\displaystyle \\frac{5.0 s^{2} + 80000.0}{s \\left(0.25 s^{3} + 2.0 s^{2} + 4000.0 s + 16000.0\\right)}$"
          },
          "metadata": {},
          "execution_count": 70
        }
      ]
    },
    {
      "cell_type": "markdown",
      "source": [
        ""
      ],
      "metadata": {
        "id": "ksr4_HObPxx-"
      }
    },
    {
      "cell_type": "code",
      "source": [
        "vC = (10 - 10*sp.exp(-4*t) + sp.exp(-2*t)*(-2.006*10**-5*sp.cos(126.41*t) -.316*sp.sin(126.41*t)))*sp.Heaviside(t) \n",
        "iL = (5 -5*sp.exp(-4*t) + sp.exp(-2*t)*(0.004999*sp.cos(126.41*t) - 0.00023771*sp.sin(126.41*t)))*sp.Heaviside(t)\n"
      ],
      "metadata": {
        "id": "X1m7eVztFIAG"
      },
      "execution_count": 71,
      "outputs": []
    },
    {
      "cell_type": "code",
      "source": [
        "iL"
      ],
      "metadata": {
        "id": "irBOctFd2vji",
        "outputId": "55774124-6df0-409d-80e8-3f8eab83c57b",
        "colab": {
          "base_uri": "https://localhost:8080/",
          "height": 39
        }
      },
      "execution_count": 72,
      "outputs": [
        {
          "output_type": "execute_result",
          "data": {
            "text/plain": [
              "⎛                                                      -2⋅t          -4⋅t⎞    \n",
              "⎝(-0.00023771⋅sin(126.41⋅t) + 0.004999⋅cos(126.41⋅t))⋅ℯ     + 5 - 5⋅ℯ    ⎠⋅θ(t\n",
              "\n",
              " \n",
              ")"
            ],
            "image/png": "[encoded data removed]",
            "text/latex": "$\\displaystyle \\left(\\left(- 0.00023771 \\sin{\\left(126.41 t \\right)} + 0.004999 \\cos{\\left(126.41 t \\right)}\\right) e^{- 2 t} + 5 - 5 e^{- 4 t}\\right) \\theta\\left(t\\right)$"
          },
          "metadata": {},
          "execution_count": 72
        }
      ]
    },
    {
      "cell_type": "code",
      "source": [
        "vC"
      ],
      "metadata": {
        "id": "fUm6y-fF2xya",
        "outputId": "acbcc1bd-e86b-43fc-ab6c-ad6d50dbe7d2",
        "colab": {
          "base_uri": "https://localhost:8080/",
          "height": 39
        }
      },
      "execution_count": 73,
      "outputs": [
        {
          "output_type": "execute_result",
          "data": {
            "text/plain": [
              "⎛                                                 -2⋅t            -4⋅t⎞     \n",
              "⎝(-0.316⋅sin(126.41⋅t) - 2.006e-5⋅cos(126.41⋅t))⋅ℯ     + 10 - 10⋅ℯ    ⎠⋅θ(t)"
            ],
            "image/png": "[encoded data removed]",
            "text/latex": "$\\displaystyle \\left(\\left(- 0.316 \\sin{\\left(126.41 t \\right)} - 2.006 \\cdot 10^{-5} \\cos{\\left(126.41 t \\right)}\\right) e^{- 2 t} + 10 - 10 e^{- 4 t}\\right) \\theta\\left(t\\right)$"
          },
          "metadata": {},
          "execution_count": 73
        }
      ]
    },
    {
      "cell_type": "code",
      "source": [
        "symplot(t,vC,bt,'iL(t)')"
      ],
      "metadata": {
        "id": "g3-qxEAB257n",
        "outputId": "48171f1d-044c-46e5-f6f0-671e510b307f",
        "colab": {
          "base_uri": "https://localhost:8080/",
          "height": 279
        }
      },
      "execution_count": 74,
      "outputs": [
        {
          "output_type": "execute_result",
          "data": {
            "text/plain": [
              "<Figure size 432x288 with 1 Axes>"
            ],
            "image/png": "[encoded data removed]"
          },
          "metadata": {},
          "execution_count": 74
        }
      ]
    },
    {
      "cell_type": "code",
      "source": [
        "symplot(t,iL,bt,'iL(t)')"
      ],
      "metadata": {
        "colab": {
          "base_uri": "https://localhost:8080/",
          "height": 279
        },
        "id": "J_lKJ23QGBfP",
        "outputId": "ae622f52-bb6b-4745-dd85-a1a562c2650f"
      },
      "execution_count": 75,
      "outputs": [
        {
          "output_type": "execute_result",
          "data": {
            "text/plain": [
              "<Figure size 432x288 with 1 Axes>"
            ],
            "image/png": "[encoded data removed]"
          },
          "metadata": {},
          "execution_count": 75
        }
      ]
    },
    {
      "cell_type": "markdown",
      "source": [
        ""
      ],
      "metadata": {
        "id": "Zk71UeOWs1LZ"
      }
    }
  ]
}