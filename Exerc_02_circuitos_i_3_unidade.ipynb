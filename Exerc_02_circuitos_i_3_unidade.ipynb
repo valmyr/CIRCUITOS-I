{
  "nbformat": 4,
  "nbformat_minor": 0,
  "metadata": {
    "colab": {
      "name": "Exerc_02_circuitos_i_3_unidade.ipynb",
      "provenance": [],
      "authorship_tag": "ABX9TyNSWTaFTr1TwACJaBvx6uMo",
      "include_colab_link": true
    },
    "kernelspec": {
      "name": "python3",
      "display_name": "Python 3"
    },
    "language_info": {
      "name": "python"
    }
  },
  "cells": [
    {
      "cell_type": "markdown",
      "metadata": {
        "id": "view-in-github",
        "colab_type": "text"
      },
      "source": [
        "<a href=\"https://colab.research.google.com/github/valmyr/CIRCUITOS-I/blob/main/Exerc_02_circuitos_i_3_unidade.ipynb\" target=\"_parent\"><img src=\"https://colab.research.google.com/assets/colab-badge.svg\" alt=\"Open In Colab\"/></a>"
      ]
    },
    {
      "cell_type": "code",
      "execution_count": 296,
      "metadata": {
        "id": "xPRoov4eKAY9",
        "colab": {
          "base_uri": "https://localhost:8080/"
        },
        "outputId": "3df65f29-5ccc-4dc2-a7ad-340c201616b1"
      },
      "outputs": [
        {
          "output_type": "stream",
          "name": "stdout",
          "text": [
            "fatal: destination path 'ElectricCircuits' already exists and is not an empty directory.\n"
          ]
        }
      ],
      "source": [
        "#\n",
        "import sys\n",
        "!git clone https://github.com/edsonportosilva/ElectricCircuits.git\n",
        "sys.path.insert(0, '/content/ElectricCircuits/Jupyter notebooks/')"
      ]
    },
    {
      "cell_type": "code",
      "source": [
        "import sympy as sp\n",
        "import numpy as np\n",
        "from matplotlib.pyplot import plot as plt\n",
        "from utils import round_expr, symdisp, symplot\n",
        "from sympy.polys.partfrac import apart\n",
        "bt = np.arange(-0.1,1,(10**-3)/10)"
      ],
      "metadata": {
        "id": "aMDv6Q7D8giR"
      },
      "execution_count": 297,
      "outputs": []
    },
    {
      "cell_type": "code",
      "source": [
        "sp.init_printing()\n",
        "# transformada de Laplace\n",
        "def L(f,t,s):\n",
        "    return sp.laplace_transform(f, t, s, noconds=True)\n",
        "\n",
        "# transformada inversa de Laplace\n",
        "def invL(F,s,t):\n",
        "    return sp.re(sp.inverse_laplace_transform(F, s, t, noconds=True))\n",
        "\n",
        "# funções para auxílio na expansão em frações parciais\n",
        "def adjustCoeff(expr):    \n",
        "    coeff = expr.as_numer_denom()\n",
        "    c0 = sp.poly(coeff[1].cancel()).coeffs()[0]\n",
        "    \n",
        "    return (coeff[0].cancel()/c0)/(coeff[1].cancel()/c0)\n",
        "\n",
        "def partFrac(expr, Ndigits):\n",
        "    expr = expr.cancel()\n",
        "    expr = apart(adjustCoeff(expr), s, full=True).doit()\n",
        "    \n",
        "    return sp.N(expr, Ndigits)\n"
      ],
      "metadata": {
        "id": "j75wRfvpnpxH"
      },
      "execution_count": 298,
      "outputs": []
    },
    {
      "cell_type": "code",
      "source": [
        "matricula = [1,1,0]\n",
        "R1 = (matricula[0]+1)"
      ],
      "metadata": {
        "id": "UHdHNDcMLQYS"
      },
      "execution_count": 299,
      "outputs": []
    },
    {
      "cell_type": "code",
      "source": [
        "matricula[0]"
      ],
      "metadata": {
        "colab": {
          "base_uri": "https://localhost:8080/",
          "height": 37
        },
        "id": "gDUp6B31xYZp",
        "outputId": "01e19ee2-1722-45df-af91-ee6fb0349f75"
      },
      "execution_count": 300,
      "outputs": [
        {
          "output_type": "execute_result",
          "data": {
            "text/plain": [
              "1"
            ],
            "image/png": "[encoded data removed]",
            "text/latex": "$\\displaystyle 1$"
          },
          "metadata": {},
          "execution_count": 300
        }
      ]
    },
    {
      "cell_type": "code",
      "source": [
        "I1,IL,IC,Vx,Vx_,Vx__,Vc_,Vc__,V1,V2,s,t = sp.symbols('I_1,I_L,I_C,V_x,Vx_,V_x_,V_c_,V__c_,V_1,V_2,s,t')\n",
        "\n",
        "I1 = (V1 - s*Vx)/(0.5*(s**2))\n",
        "IL = Vx/(2*R1+0.5*s)\n",
        "IC = (s*Vx-V2)/4000"
      ],
      "metadata": {
        "id": "b8L01wHIKRxp"
      },
      "execution_count": 301,
      "outputs": []
    },
    {
      "cell_type": "code",
      "source": [
        "Eq = sp.Eq(I1,IL+IC)"
      ],
      "metadata": {
        "id": "O5x3o6m7j7AL"
      },
      "execution_count": 302,
      "outputs": []
    },
    {
      "cell_type": "code",
      "source": [
        ""
      ],
      "metadata": {
        "id": "Pa4_MauhuMGL"
      },
      "execution_count": 302,
      "outputs": []
    },
    {
      "cell_type": "code",
      "source": [
        "#Contribuição de V1\n",
        "sol = sp.solve(Eq.subs({V1:20,V2:0}),Vx,dict=True)[0]\n",
        "Vx_ = sol[Vx]\n",
        "IL_ = IL.subs({Vx:Vx_})\n",
        "Vc_ = (IC*(4000/s)).subs({Vx:Vx_,V1:20,V2:0}).simplify()"
      ],
      "metadata": {
        "id": "R7eNJbXakIes"
      },
      "execution_count": 303,
      "outputs": []
    },
    {
      "cell_type": "code",
      "source": [
        "Vc_"
      ],
      "metadata": {
        "colab": {
          "base_uri": "https://localhost:8080/",
          "height": 55
        },
        "id": "_fSNIwyUlcfm",
        "outputId": "a552fc95-0cf9-4092-9106-74e1a30fec33"
      },
      "execution_count": 304,
      "outputs": [
        {
          "output_type": "execute_result",
          "data": {
            "text/plain": [
              "        160000.0⋅s + 1280000.0       \n",
              "─────────────────────────────────────\n",
              "  ⎛ 3        2                      ⎞\n",
              "s⋅⎝s  + 8.0⋅s  + 16000.0⋅s + 64000.0⎠"
            ],
            "image/png": "[encoded data removed]",
            "text/latex": "$\\displaystyle \\frac{160000.0 s + 1280000.0}{s \\left(s^{3} + 8.0 s^{2} + 16000.0 s + 64000.0\\right)}$"
          },
          "metadata": {},
          "execution_count": 304
        }
      ]
    },
    {
      "cell_type": "code",
      "source": [
        "IL_.simplify()"
      ],
      "metadata": {
        "colab": {
          "base_uri": "https://localhost:8080/",
          "height": 55
        },
        "id": "KxAOv4nXVgRh",
        "outputId": "efa67eff-7ae9-419c-c01b-76e31c6c14a8"
      },
      "execution_count": 305,
      "outputs": [
        {
          "output_type": "execute_result",
          "data": {
            "text/plain": [
              "                160000.0                \n",
              "────────────────────────────────────────\n",
              "  ⎛     3        2                     ⎞\n",
              "s⋅⎝0.5⋅s  + 4.0⋅s  + 8000.0⋅s + 32000.0⎠"
            ],
            "image/png": "[encoded data removed]",
            "text/latex": "$\\displaystyle \\frac{160000.0}{s \\left(0.5 s^{3} + 4.0 s^{2} + 8000.0 s + 32000.0\\right)}$"
          },
          "metadata": {},
          "execution_count": 305
        }
      ]
    },
    {
      "cell_type": "code",
      "source": [
        "#Contribuição de V2\n",
        "sol = sp.solve(Eq.subs({V1:0,V2:10}),Vx,dict=True)[0]\n",
        "Vx__ = sol[Vx]\n",
        "IL__ = IL.subs({Vx:Vx__,V1:0,V2:10}).simplify()\n",
        "Vc__ = (IC*(4000/s)).subs({Vx:Vx__,V1:0,V2:10}).simplify()"
      ],
      "metadata": {
        "id": "MUiqmhI8TPJN"
      },
      "execution_count": 306,
      "outputs": []
    },
    {
      "cell_type": "code",
      "source": [
        "symdisp(\"Vx_{'}(s) = \",Vx_,'Vs')\n",
        "symdisp(\"Vx_{''}(s) = \",Vx__,'Vs')\n",
        "symdisp('Vx(s) = ',(Vx__+Vx_).expand().simplify(),'Vs')"
      ],
      "metadata": {
        "colab": {
          "base_uri": "https://localhost:8080/",
          "height": 135
        },
        "id": "rnI5Kucy8JFD",
        "outputId": "d7a76912-1c61-40b2-a0d7-5652bf5914e3"
      },
      "execution_count": 307,
      "outputs": [
        {
          "output_type": "display_data",
          "data": {
            "text/plain": [
              "<IPython.core.display.Math object>"
            ],
            "text/latex": "$\\displaystyle Vx_{'}(s) = \\frac{160000.0 \\left(s + 8.0\\right)}{s \\left(s^{3} + 8.0 s^{2} + 16000.0 s + 64000.0\\right)}\\;Vs$"
          },
          "metadata": {}
        },
        {
          "output_type": "display_data",
          "data": {
            "text/plain": [
              "<IPython.core.display.Math object>"
            ],
            "text/latex": "$\\displaystyle Vx_{''}(s) = \\frac{10.0 s \\left(s + 8.0\\right)}{s^{3} + 8.0 s^{2} + 16000.0 s + 64000.0}\\;Vs$"
          },
          "metadata": {}
        },
        {
          "output_type": "display_data",
          "data": {
            "text/plain": [
              "<IPython.core.display.Math object>"
            ],
            "text/latex": "$\\displaystyle Vx(s) = \\frac{s^{2} \\left(10.0 s + 80.0\\right) + 160000.0 s + 1280000.0}{s \\left(s^{3} + 8.0 s^{2} + 16000.0 s + 64000.0\\right)}\\;Vs$"
          },
          "metadata": {}
        }
      ]
    },
    {
      "cell_type": "code",
      "source": [
        "IL__\n"
      ],
      "metadata": {
        "colab": {
          "base_uri": "https://localhost:8080/",
          "height": 52
        },
        "id": "SigZAohwToIe",
        "outputId": "80c08191-3ed0-4f5b-a491-e9867d326268"
      },
      "execution_count": 308,
      "outputs": [
        {
          "output_type": "execute_result",
          "data": {
            "text/plain": [
              "               10.0⋅s               \n",
              "────────────────────────────────────\n",
              "     3        2                     \n",
              "0.5⋅s  + 4.0⋅s  + 8000.0⋅s + 32000.0"
            ],
            "image/png": "[encoded data removed]",
            "text/latex": "$\\displaystyle \\frac{10.0 s}{0.5 s^{3} + 4.0 s^{2} + 8000.0 s + 32000.0}$"
          },
          "metadata": {},
          "execution_count": 308
        }
      ]
    },
    {
      "cell_type": "code",
      "source": [
        "Vc__"
      ],
      "metadata": {
        "colab": {
          "base_uri": "https://localhost:8080/",
          "height": 55
        },
        "id": "tintPn3CTs2m",
        "outputId": "e6a92147-30e9-4706-e44e-01e43ab5aada"
      },
      "execution_count": 309,
      "outputs": [
        {
          "output_type": "execute_result",
          "data": {
            "text/plain": [
              "        -(160000.0⋅s + 640000.0)         \n",
              "─────────────────────────────────────────\n",
              "  ⎛     3        2                      ⎞\n",
              "s⋅⎝1.0⋅s  + 8.0⋅s  + 16000.0⋅s + 64000.0⎠"
            ],
            "image/png": "[encoded data removed]",
            "text/latex": "$\\displaystyle - \\frac{160000.0 s + 640000.0}{s \\left(1.0 s^{3} + 8.0 s^{2} + 16000.0 s + 64000.0\\right)}$"
          },
          "metadata": {},
          "execution_count": 309
        }
      ]
    },
    {
      "cell_type": "code",
      "source": [
        "#Assim Vc = Vc_+Vc__ é IL = IL_+IL__\n",
        "VC = (Vc_ + Vc__).simplify()\n",
        "IL = (IL_+IL__).simplify()"
      ],
      "metadata": {
        "id": "j2OvXjzPXDuk"
      },
      "execution_count": 310,
      "outputs": []
    },
    {
      "cell_type": "code",
      "source": [
        "VC.cancel()"
      ],
      "metadata": {
        "colab": {
          "base_uri": "https://localhost:8080/",
          "height": 52
        },
        "id": "8kOSYD7fXVZv",
        "outputId": "04c405b2-aeef-40a8-c777-01d5ee856d2d"
      },
      "execution_count": 311,
      "outputs": [
        {
          "output_type": "execute_result",
          "data": {
            "text/plain": [
              "                640000.0                \n",
              "────────────────────────────────────────\n",
              "     4        3            2            \n",
              "1.0⋅s  + 8.0⋅s  + 16000.0⋅s  + 64000.0⋅s"
            ],
            "image/png": "[encoded data removed]",
            "text/latex": "$\\displaystyle \\frac{640000.0}{1.0 s^{4} + 8.0 s^{3} + 16000.0 s^{2} + 64000.0 s}$"
          },
          "metadata": {},
          "execution_count": 311
        }
      ]
    },
    {
      "cell_type": "code",
      "source": [
        "IL"
      ],
      "metadata": {
        "colab": {
          "base_uri": "https://localhost:8080/",
          "height": 58
        },
        "id": "rpA0IpYWXWvN",
        "outputId": "ed881a5b-df2a-43ab-8e6a-cca5cc322950"
      },
      "execution_count": 312,
      "outputs": [
        {
          "output_type": "execute_result",
          "data": {
            "text/plain": [
              "                  2                      \n",
              "             5.0⋅s  + 80000.0            \n",
              "─────────────────────────────────────────\n",
              "  ⎛      3        2                     ⎞\n",
              "s⋅⎝0.25⋅s  + 2.0⋅s  + 4000.0⋅s + 16000.0⎠"
            ],
            "image/png": "[encoded data removed]",
            "text/latex": "$\\displaystyle \\frac{5.0 s^{2} + 80000.0}{s \\left(0.25 s^{3} + 2.0 s^{2} + 4000.0 s + 16000.0\\right)}$"
          },
          "metadata": {},
          "execution_count": 312
        }
      ]
    },
    {
      "cell_type": "code",
      "source": [
        "VC_frac = partFrac(VC,10).as_ordered_terms()\n",
        "VC_frac"
      ],
      "metadata": {
        "id": "Fjn9z34qnhdY",
        "colab": {
          "base_uri": "https://localhost:8080/",
          "height": 58
        },
        "outputId": "ca4716ea-edb6-417e-b592-f3034839be12"
      },
      "execution_count": 313,
      "outputs": [
        {
          "output_type": "execute_result",
          "data": {
            "text/plain": [
              "⎡-1.002964564e-5 - 0.1583709686⋅ⅈ  -1.002964564e-5 + 0.1583709686⋅ⅈ  -9.999979\n",
              "⎢────────────────────────────────, ────────────────────────────────, ─────────\n",
              "⎣  s + 1.997998 + 126.4120565⋅ⅈ      s + 1.997998 - 126.4120565⋅ⅈ    s + 4.004\n",
              "\n",
              "94   10.0⎤\n",
              "───, ────⎥\n",
              "004   s  ⎦"
            ],
            "image/png": "[encoded data removed]",
            "text/latex": "$\\displaystyle \\left[ \\frac{-1.002964564 \\cdot 10^{-5} - 0.1583709686 i}{s + 1.997998 + 126.4120565 i}, \\  \\frac{-1.002964564 \\cdot 10^{-5} + 0.1583709686 i}{s + 1.997998 - 126.4120565 i}, \\  - \\frac{9.99997994}{s + 4.004004}, \\  \\frac{10.0}{s}\\right]$"
          },
          "metadata": {},
          "execution_count": 313
        }
      ]
    },
    {
      "cell_type": "code",
      "source": [
        "vc = 0\n",
        "for i in range(len(VC_frac)):\n",
        "    vc += invL(VC_frac[i],s,t)\n",
        "vc = vc.simplify()\n",
        "symplot(t,vc,bt,'VC(t)')"
      ],
      "metadata": {
        "id": "IxAfBmRjMmA4",
        "colab": {
          "base_uri": "https://localhost:8080/",
          "height": 279
        },
        "outputId": "3195278c-fd82-4fe9-d081-39012a010d66"
      },
      "execution_count": 314,
      "outputs": [
        {
          "output_type": "execute_result",
          "data": {
            "text/plain": [
              "<Figure size 432x288 with 1 Axes>"
            ],
            "image/png": "[encoded data removed]"
          },
          "metadata": {},
          "execution_count": 314
        }
      ]
    },
    {
      "cell_type": "markdown",
      "source": [
        ""
      ],
      "metadata": {
        "id": "ksr4_HObPxx-"
      }
    },
    {
      "cell_type": "code",
      "source": [
        "#Código relacionado as frações parciais \n",
        "#raizes \n",
        "def poli(p):\n",
        "    n = 1\n",
        "    for i in range(len(p)):\n",
        "        n *= (s - p[i])\n",
        "    return n\n",
        "def coef(F):\n",
        "    pNumerador = []\n",
        "    pDenominador = []\n",
        "    K = []\n",
        "    numeradorCoef = sp.polys.polytools.Poly(F.as_numer_denom()[0]).all_coeffs()\n",
        "    denominadorCoef = sp.polys.polytools.Poly(F.as_numer_denom()[1]).all_coeffs()\n",
        "    sRaizesD = np.roots(denominadorCoef)\n",
        "    sRaizesN = np.roots(numeradorCoef)\n",
        "    numer = poli(sRaizesN)*numeradorCoef[0]\n",
        "    denom = poli(sRaizesD)*denominadorCoef[0]\n",
        "    for i in range(len(sRaizesD)):\n",
        "        K.append(((numer*(s - sRaizesD[i])/denom).subs(s,sRaizesD[i]).simplify()))\n",
        "    return sRaizesD,K\n",
        "raizes, Ks = coef(IL)\n",
        "for i in range(len(raizes)):\n",
        "    print('S',i+1,' = ',raizes[len(raizes) - 1 - i])\n",
        "print()\n",
        "for i in range(len(Ks)):\n",
        "    print('K',i+1,' = ',Ks[len(raizes)- 1 - i])"
      ],
      "metadata": {
        "id": "xI5uo7vjPyp3",
        "colab": {
          "base_uri": "https://localhost:8080/"
        },
        "outputId": "ee156e1e-ab64-4b59-a356-ea158913a192"
      },
      "execution_count": 315,
      "outputs": [
        {
          "output_type": "stream",
          "name": "stdout",
          "text": [
            "S 1  =  0j\n",
            "S 2  =  (-4.004003999987972+0j)\n",
            "S 3  =  (-1.997998000006021-126.41205646624056j)\n",
            "S 4  =  (-1.997998000006021+126.41205646624056j)\n",
            "\n",
            "K 1  =  5.00000000000000\n",
            "K 2  =  -5.00499997492996\n",
            "K 3  =  0.00249998746497767 - 0.00011885725337098*I\n",
            "K 4  =  0.00249998746497767 + 0.00011885725337098*I\n"
          ]
        }
      ]
    },
    {
      "cell_type": "code",
      "source": [
        "Ks[0]*2"
      ],
      "metadata": {
        "colab": {
          "base_uri": "https://localhost:8080/",
          "height": 38
        },
        "id": "blvnsgcM_vRl",
        "outputId": "70fa9aaa-a8e4-4da9-853a-902dd929ae30"
      },
      "execution_count": 316,
      "outputs": [
        {
          "output_type": "execute_result",
          "data": {
            "text/plain": [
              "0.00499997492995535 + 0.000237714506741961⋅ⅈ"
            ],
            "image/png": "[encoded data removed]",
            "text/latex": "$\\displaystyle 0.00499997492995535 + 0.000237714506741961 i$"
          },
          "metadata": {},
          "execution_count": 316
        }
      ]
    },
    {
      "cell_type": "code",
      "source": [
        "IL_frac = partFrac(IL,10).as_ordered_terms()\n",
        "IL_frac"
      ],
      "metadata": {
        "id": "pcVRcqJDmoxz",
        "colab": {
          "base_uri": "https://localhost:8080/",
          "height": 58
        },
        "outputId": "e27dfaa8-aaf7-4a02-e6c1-a7d8fbc39c5e"
      },
      "execution_count": 317,
      "outputs": [
        {
          "output_type": "execute_result",
          "data": {
            "text/plain": [
              "⎡0.002499987604 - 0.0001188530332⋅ⅈ  0.002499987604 + 0.0001188530332⋅ⅈ  -5.00\n",
              "⎢──────────────────────────────────, ──────────────────────────────────, ─────\n",
              "⎣   s + 1.997998 + 126.4120565⋅ⅈ        s + 1.997998 - 126.4120565⋅ⅈ      s + \n",
              "\n",
              "4999975   5.0⎤\n",
              "────────, ───⎥\n",
              "4.004004   s ⎦"
            ],
            "image/png": "[encoded data removed]",
            "text/latex": "$\\displaystyle \\left[ \\frac{0.002499987604 - 0.0001188530332 i}{s + 1.997998 + 126.4120565 i}, \\  \\frac{0.002499987604 + 0.0001188530332 i}{s + 1.997998 - 126.4120565 i}, \\  - \\frac{5.004999975}{s + 4.004004}, \\  \\frac{5.0}{s}\\right]$"
          },
          "metadata": {},
          "execution_count": 317
        }
      ]
    },
    {
      "cell_type": "code",
      "source": [
        "iL = (5 -5*sp.exp(-4*t) + sp.exp(-2*t)*(0.004999*sp.cos(126.41*t) - 0.00023771*sp.sin(126.41*t)))*sp.Heaviside(t)\n",
        "iL"
      ],
      "metadata": {
        "colab": {
          "base_uri": "https://localhost:8080/",
          "height": 39
        },
        "id": "X1m7eVztFIAG",
        "outputId": "9fd6b4d7-6820-4fd7-d8a3-15650211f13d"
      },
      "execution_count": 318,
      "outputs": [
        {
          "output_type": "execute_result",
          "data": {
            "text/plain": [
              "⎛                                                      -2⋅t          -4⋅t⎞    \n",
              "⎝(-0.00023771⋅sin(126.41⋅t) + 0.004999⋅cos(126.41⋅t))⋅ℯ     + 5 - 5⋅ℯ    ⎠⋅θ(t\n",
              "\n",
              " \n",
              ")"
            ],
            "image/png": "[encoded data removed]",
            "text/latex": "$\\displaystyle \\left(\\left(- 0.00023771 \\sin{\\left(126.41 t \\right)} + 0.004999 \\cos{\\left(126.41 t \\right)}\\right) e^{- 2 t} + 5 - 5 e^{- 4 t}\\right) \\theta\\left(t\\right)$"
          },
          "metadata": {},
          "execution_count": 318
        }
      ]
    },
    {
      "cell_type": "code",
      "source": [
        "iL_py = 0\n",
        "for i in range(len(IL_frac)):\n",
        "    iL_py += invL(IL_frac[i],s,t)\n",
        "iL_py = iL_py.simplify()\n",
        "symplot(t,iL_py,bt,'iL(t)')"
      ],
      "metadata": {
        "id": "Tp0mbJS0r6JB",
        "colab": {
          "base_uri": "https://localhost:8080/",
          "height": 279
        },
        "outputId": "5d02b2a0-8e5e-47ff-c8a1-0e8a81968077"
      },
      "execution_count": 293,
      "outputs": [
        {
          "output_type": "execute_result",
          "data": {
            "text/plain": [
              "<Figure size 432x288 with 1 Axes>"
            ],
            "image/png": "[encoded data removed]"
          },
          "metadata": {},
          "execution_count": 293
        }
      ]
    },
    {
      "cell_type": "code",
      "source": [
        "symplot(t,iL,bt,'iL(t)')"
      ],
      "metadata": {
        "colab": {
          "base_uri": "https://localhost:8080/",
          "height": 279
        },
        "id": "J_lKJ23QGBfP",
        "outputId": "ea1b2264-e0a8-4fdd-bf25-07ea795a52d7"
      },
      "execution_count": 294,
      "outputs": [
        {
          "output_type": "execute_result",
          "data": {
            "text/plain": [
              "<Figure size 432x288 with 1 Axes>"
            ],
            "image/png": "[encoded data removed]"
          },
          "metadata": {},
          "execution_count": 294
        }
      ]
    },
    {
      "cell_type": "markdown",
      "source": [
        ""
      ],
      "metadata": {
        "id": "Zk71UeOWs1LZ"
      }
    },
    {
      "cell_type": "code",
      "source": [
        "iL"
      ],
      "metadata": {
        "id": "6xKfGV2JPz08",
        "colab": {
          "base_uri": "https://localhost:8080/",
          "height": 39
        },
        "outputId": "f41c4f77-dbf6-4abf-d23c-617efa6fc72e"
      },
      "execution_count": 295,
      "outputs": [
        {
          "output_type": "execute_result",
          "data": {
            "text/plain": [
              "⎛                                                      -2⋅t          -4⋅t⎞    \n",
              "⎝(-0.00023771⋅sin(126.41⋅t) + 0.004999⋅cos(126.41⋅t))⋅ℯ     + 5 - 5⋅ℯ    ⎠⋅θ(t\n",
              "\n",
              " \n",
              ")"
            ],
            "image/png": "[encoded data removed]",
            "text/latex": "$\\displaystyle \\left(\\left(- 0.00023771 \\sin{\\left(126.41 t \\right)} + 0.004999 \\cos{\\left(126.41 t \\right)}\\right) e^{- 2 t} + 5 - 5 e^{- 4 t}\\right) \\theta\\left(t\\right)$"
          },
          "metadata": {},
          "execution_count": 295
        }
      ]
    }
  ]
}