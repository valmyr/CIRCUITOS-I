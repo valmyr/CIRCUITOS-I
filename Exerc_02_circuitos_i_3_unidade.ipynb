{
  "nbformat": 4,
  "nbformat_minor": 0,
  "metadata": {
    "colab": {
      "name": "Exerc_02_circuitos_i_3_unidade.ipynb",
      "provenance": [],
      "authorship_tag": "ABX9TyPghlhFf9/cM4isPyPDkUr4",
      "include_colab_link": true
    },
    "kernelspec": {
      "name": "python3",
      "display_name": "Python 3"
    },
    "language_info": {
      "name": "python"
    }
  },
  "cells": [
    {
      "cell_type": "markdown",
      "metadata": {
        "id": "view-in-github",
        "colab_type": "text"
      },
      "source": [
        "<a href=\"https://colab.research.google.com/github/valmyr/CIRCUITOS-I/blob/main/Exerc_02_circuitos_i_3_unidade.ipynb\" target=\"_parent\"><img src=\"https://colab.research.google.com/assets/colab-badge.svg\" alt=\"Open In Colab\"/></a>"
      ]
    },
    {
      "cell_type": "code",
      "execution_count": null,
      "metadata": {
        "id": "xPRoov4eKAY9",
        "colab": {
          "base_uri": "https://localhost:8080/"
        },
        "outputId": "e2353a9f-3b2e-44f2-d0e2-84b7fc7e6596"
      },
      "outputs": [
        {
          "output_type": "stream",
          "name": "stdout",
          "text": [
            "fatal: destination path 'ElectricCircuits' already exists and is not an empty directory.\n"
          ]
        }
      ],
      "source": [
        "#\n",
        "import sys\n",
        "!git clone https://github.com/edsonportosilva/ElectricCircuits.git\n",
        "sys.path.insert(0, '/content/ElectricCircuits/Jupyter notebooks/')"
      ]
    },
    {
      "cell_type": "code",
      "source": [
        "import sympy as sp\n",
        "import numpy as np\n",
        "from matplotlib.pyplot import plot as plt\n",
        "from utils import round_expr, symdisp, symplot\n",
        "from sympy.polys.partfrac import apart"
      ],
      "metadata": {
        "id": "aMDv6Q7D8giR"
      },
      "execution_count": null,
      "outputs": []
    },
    {
      "cell_type": "code",
      "source": [
        "sp.init_printing()\n",
        "# transformada de Laplace\n",
        "def L(f,t,s):\n",
        "    return sp.laplace_transform(f, t, s, noconds=True)\n",
        "\n",
        "# transformada inversa de Laplace\n",
        "def invL(F,s,t):\n",
        "    return sp.re(sp.inverse_laplace_transform(F, s, t, noconds=True))\n",
        "\n",
        "# funções para auxílio na expansão em frações parciais\n",
        "def adjustCoeff(expr):    \n",
        "    coeff = expr.as_numer_denom()\n",
        "    c0 = sp.poly(coeff[1].cancel()).coeffs()[0]\n",
        "    \n",
        "    return (coeff[0].cancel()/c0)/(coeff[1].cancel()/c0)\n",
        "\n",
        "def partFrac(expr, Ndigits):\n",
        "    expr = expr.cancel()\n",
        "    expr = apart(adjustCoeff(expr), s, full=True).doit()\n",
        "    \n",
        "    return sp.N(expr, Ndigits)\n"
      ],
      "metadata": {
        "id": "j75wRfvpnpxH"
      },
      "execution_count": null,
      "outputs": []
    },
    {
      "cell_type": "code",
      "source": [
        "matricula = [1,1,0]\n",
        "\n",
        "R1 = 2*(matricula[0]+1)\n",
        "R1"
      ],
      "metadata": {
        "colab": {
          "base_uri": "https://localhost:8080/",
          "height": 37
        },
        "id": "UHdHNDcMLQYS",
        "outputId": "86ccabd5-0a71-473d-d15e-7887b3ed2fe0"
      },
      "execution_count": null,
      "outputs": [
        {
          "output_type": "execute_result",
          "data": {
            "text/plain": [
              "2"
            ],
            "image/png": "[encoded data removed]",
            "text/latex": "$\\displaystyle 2$"
          },
          "metadata": {},
          "execution_count": 201
        }
      ]
    },
    {
      "cell_type": "code",
      "source": [
        "matricula[0]"
      ],
      "metadata": {
        "colab": {
          "base_uri": "https://localhost:8080/",
          "height": 37
        },
        "id": "gDUp6B31xYZp",
        "outputId": "7881380e-d916-4858-aced-49e196c00a0b"
      },
      "execution_count": null,
      "outputs": [
        {
          "output_type": "execute_result",
          "data": {
            "text/plain": [
              "1"
            ],
            "image/png": "[encoded data removed]",
            "text/latex": "$\\displaystyle 1$"
          },
          "metadata": {},
          "execution_count": 202
        }
      ]
    },
    {
      "cell_type": "code",
      "source": [
        "I1,IL,IC,Vx,Vx_,Vx__,Vc_,Vc__,V1,V2,s,t = sp.symbols('I_1,I_L,I_C,V_x,Vx_,V_x_,V_c_,V__c_,V_1,V_2,s,t')\n",
        "\n",
        "I1 = (V1 - s*Vx)/(0.5*(s**2))\n",
        "IL = Vx/(2*R1+0.5*s)\n",
        "IC = (s*Vx-V2)/4000"
      ],
      "metadata": {
        "id": "b8L01wHIKRxp"
      },
      "execution_count": null,
      "outputs": []
    },
    {
      "cell_type": "code",
      "source": [
        "Eq = sp.Eq(I1,IL+IC)"
      ],
      "metadata": {
        "id": "O5x3o6m7j7AL"
      },
      "execution_count": null,
      "outputs": []
    },
    {
      "cell_type": "code",
      "source": [
        ""
      ],
      "metadata": {
        "id": "Pa4_MauhuMGL"
      },
      "execution_count": null,
      "outputs": []
    },
    {
      "cell_type": "code",
      "source": [
        "#Contribuição de V1\n",
        "sol = sp.solve(Eq.subs({V1:20,V2:0}),Vx,dict=True)[0]\n",
        "Vx_ = sol[Vx]\n",
        "IL_ = IL.subs({Vx:Vx_})\n",
        "Vc_ = (IC*(4000/s)).subs({Vx:Vx_,V1:20,V2:0}).simplify()"
      ],
      "metadata": {
        "id": "R7eNJbXakIes"
      },
      "execution_count": null,
      "outputs": []
    },
    {
      "cell_type": "code",
      "source": [
        "Vc_"
      ],
      "metadata": {
        "colab": {
          "base_uri": "https://localhost:8080/",
          "height": 55
        },
        "id": "_fSNIwyUlcfm",
        "outputId": "8bbf8151-639c-496f-9ca0-72ce6b7925b6"
      },
      "execution_count": null,
      "outputs": [
        {
          "output_type": "execute_result",
          "data": {
            "text/plain": [
              "        160000.0⋅s + 1280000.0       \n",
              "─────────────────────────────────────\n",
              "  ⎛ 3        2                      ⎞\n",
              "s⋅⎝s  + 8.0⋅s  + 16000.0⋅s + 64000.0⎠"
            ],
            "image/png": "[encoded data removed]",
            "text/latex": "$\\displaystyle \\frac{160000.0 s + 1280000.0}{s \\left(s^{3} + 8.0 s^{2} + 16000.0 s + 64000.0\\right)}$"
          },
          "metadata": {},
          "execution_count": 206
        }
      ]
    },
    {
      "cell_type": "code",
      "source": [
        "#Contribuição de V2\n",
        "sol = sp.solve(Eq.subs({V1:0,V2:10}),Vx,dict=True)[0]\n",
        "Vx__ = sol[Vx]\n",
        "IL__ = IL.subs({Vx:Vx__,V1:0,V2:10}).simplify()\n",
        "Vc__ = (IC*(4000/s)).subs({Vx:Vx__,V1:0,V2:10}).simplify()"
      ],
      "metadata": {
        "id": "MUiqmhI8TPJN"
      },
      "execution_count": null,
      "outputs": []
    },
    {
      "cell_type": "code",
      "source": [
        "symdisp(\"Vx_{'}(s) = \",Vx_,'Vs')\n",
        "symdisp(\"Vx_{''}(s) = \",Vx__,'Vs')\n",
        "symdisp('Vx(s) = ',(Vx__+Vx_).simplify(),'Vs')"
      ],
      "metadata": {
        "colab": {
          "base_uri": "https://localhost:8080/",
          "height": 99
        },
        "id": "rnI5Kucy8JFD",
        "outputId": "08d5db82-1ba9-4881-80f5-22e298fb7f1c"
      },
      "execution_count": null,
      "outputs": [
        {
          "output_type": "display_data",
          "data": {
            "text/plain": [
              "<IPython.core.display.Math object>"
            ],
            "text/latex": "$$Vx_{'}(s) = \\frac{160000.0 \\left(s + 8.0\\right)}{s \\left(s^{3} + 8.0 s^{2} + 16000.0 s + 64000.0\\right)}\\;Vs$$"
          },
          "metadata": {}
        },
        {
          "output_type": "display_data",
          "data": {
            "text/plain": [
              "<IPython.core.display.Math object>"
            ],
            "text/latex": "$$Vx_{''}(s) = \\frac{10.0 s \\left(s + 8.0\\right)}{s^{3} + 8.0 s^{2} + 16000.0 s + 64000.0}\\;Vs$$"
          },
          "metadata": {}
        },
        {
          "output_type": "display_data",
          "data": {
            "text/plain": [
              "<IPython.core.display.Math object>"
            ],
            "text/latex": "$$Vx(s) = \\frac{\\left(2.44140625 \\cdot 10^{-9} s^{2} \\left(s + 8.0\\right) + 3.90625 \\cdot 10^{-5} s + 0.0003125\\right) \\left(s^{3} + 8.0 s^{2} + 16000.0 s + 64000.0\\right)}{s \\left(1.5625 \\cdot 10^{-5} s^{3} + 0.000125 s^{2} + 0.25 s + 1\\right)^{2}}\\;Vs$$"
          },
          "metadata": {}
        }
      ]
    },
    {
      "cell_type": "code",
      "source": [
        "IL__\n"
      ],
      "metadata": {
        "colab": {
          "base_uri": "https://localhost:8080/",
          "height": 52
        },
        "id": "SigZAohwToIe",
        "outputId": "dde0eec1-5ddf-4130-fed3-e336ae5c56a0"
      },
      "execution_count": null,
      "outputs": [
        {
          "output_type": "execute_result",
          "data": {
            "text/plain": [
              "               10.0⋅s               \n",
              "────────────────────────────────────\n",
              "     3        2                     \n",
              "0.5⋅s  + 4.0⋅s  + 8000.0⋅s + 32000.0"
            ],
            "image/png": "[encoded data removed]",
            "text/latex": "$\\displaystyle \\frac{10.0 s}{0.5 s^{3} + 4.0 s^{2} + 8000.0 s + 32000.0}$"
          },
          "metadata": {},
          "execution_count": 209
        }
      ]
    },
    {
      "cell_type": "code",
      "source": [
        "Vc__"
      ],
      "metadata": {
        "colab": {
          "base_uri": "https://localhost:8080/",
          "height": 55
        },
        "id": "tintPn3CTs2m",
        "outputId": "a2aebcd4-5eed-4573-a012-65e2b9d4d0e1"
      },
      "execution_count": null,
      "outputs": [
        {
          "output_type": "execute_result",
          "data": {
            "text/plain": [
              "        -(160000.0⋅s + 640000.0)         \n",
              "─────────────────────────────────────────\n",
              "  ⎛     3        2                      ⎞\n",
              "s⋅⎝1.0⋅s  + 8.0⋅s  + 16000.0⋅s + 64000.0⎠"
            ],
            "image/png": "[encoded data removed]",
            "text/latex": "$\\displaystyle - \\frac{160000.0 s + 640000.0}{s \\left(1.0 s^{3} + 8.0 s^{2} + 16000.0 s + 64000.0\\right)}$"
          },
          "metadata": {},
          "execution_count": 210
        }
      ]
    },
    {
      "cell_type": "code",
      "source": [
        "#Assim Vc = Vc_+Vc__ é IL = IL_+IL__\n",
        "VC = (Vc_ + Vc__).simplify()\n",
        "IL = (IL_+IL__).simplify()"
      ],
      "metadata": {
        "id": "j2OvXjzPXDuk"
      },
      "execution_count": null,
      "outputs": []
    },
    {
      "cell_type": "code",
      "source": [
        "VC.cancel()"
      ],
      "metadata": {
        "colab": {
          "base_uri": "https://localhost:8080/",
          "height": 52
        },
        "id": "8kOSYD7fXVZv",
        "outputId": "736ca388-af02-445a-e5ce-0d290a9494b2"
      },
      "execution_count": null,
      "outputs": [
        {
          "output_type": "execute_result",
          "data": {
            "text/plain": [
              "                640000.0                \n",
              "────────────────────────────────────────\n",
              "     4        3            2            \n",
              "1.0⋅s  + 8.0⋅s  + 16000.0⋅s  + 64000.0⋅s"
            ],
            "image/png": "[encoded data removed]",
            "text/latex": "$\\displaystyle \\frac{640000.0}{1.0 s^{4} + 8.0 s^{3} + 16000.0 s^{2} + 64000.0 s}$"
          },
          "metadata": {},
          "execution_count": 212
        }
      ]
    },
    {
      "cell_type": "code",
      "source": [
        "IL"
      ],
      "metadata": {
        "colab": {
          "base_uri": "https://localhost:8080/",
          "height": 58
        },
        "id": "rpA0IpYWXWvN",
        "outputId": "859d999f-87b7-4793-b42d-02bc54c7f5ad"
      },
      "execution_count": null,
      "outputs": [
        {
          "output_type": "execute_result",
          "data": {
            "text/plain": [
              "                  2                      \n",
              "             5.0⋅s  + 80000.0            \n",
              "─────────────────────────────────────────\n",
              "  ⎛      3        2                     ⎞\n",
              "s⋅⎝0.25⋅s  + 2.0⋅s  + 4000.0⋅s + 16000.0⎠"
            ],
            "image/png": "[encoded data removed]",
            "text/latex": "$\\displaystyle \\frac{5.0 s^{2} + 80000.0}{s \\left(0.25 s^{3} + 2.0 s^{2} + 4000.0 s + 16000.0\\right)}$"
          },
          "metadata": {},
          "execution_count": 213
        }
      ]
    },
    {
      "cell_type": "code",
      "source": [
        "VC_frac = partFrac(VC,10).as_ordered_terms()\n",
        "VC_frac"
      ],
      "metadata": {
        "colab": {
          "base_uri": "https://localhost:8080/",
          "height": 58
        },
        "id": "Fjn9z34qnhdY",
        "outputId": "ea0dbc21-d09c-444c-dee7-e999b20f4420"
      },
      "execution_count": null,
      "outputs": [
        {
          "output_type": "execute_result",
          "data": {
            "text/plain": [
              "⎡-1.002964564e-5 - 0.1583709686⋅ⅈ  -1.002964564e-5 + 0.1583709686⋅ⅈ  -9.999979\n",
              "⎢────────────────────────────────, ────────────────────────────────, ─────────\n",
              "⎣  s + 1.997998 + 126.4120565⋅ⅈ      s + 1.997998 - 126.4120565⋅ⅈ    s + 4.004\n",
              "\n",
              "94   10.0⎤\n",
              "───, ────⎥\n",
              "004   s  ⎦"
            ],
            "image/png": "[encoded data removed]",
            "text/latex": "$\\displaystyle \\left[ \\frac{-1.002964564 \\cdot 10^{-5} - 0.1583709686 i}{s + 1.997998 + 126.4120565 i}, \\  \\frac{-1.002964564 \\cdot 10^{-5} + 0.1583709686 i}{s + 1.997998 - 126.4120565 i}, \\  - \\frac{9.99997994}{s + 4.004004}, \\  \\frac{10.0}{s}\\right]$"
          },
          "metadata": {},
          "execution_count": 229
        }
      ]
    },
    {
      "cell_type": "code",
      "source": [
        "vc = 0\n",
        "for i in range(len(VC_frac)):\n",
        "    vc += invL(VC_frac[i],s,t)\n",
        "vc = vc.simplify()\n",
        "symplot(t,vc,np.arange(0,1.5,.0001),'VC(t)')"
      ],
      "metadata": {
        "colab": {
          "base_uri": "https://localhost:8080/",
          "height": 279
        },
        "id": "IxAfBmRjMmA4",
        "outputId": "860e2cfc-436a-47c4-8e7e-308c01488fd9"
      },
      "execution_count": null,
      "outputs": [
        {
          "output_type": "execute_result",
          "data": {
            "text/plain": [
              "<Figure size 432x288 with 1 Axes>"
            ],
            "image/png": "[encoded data removed]"
          },
          "metadata": {},
          "execution_count": 233
        }
      ]
    },
    {
      "cell_type": "markdown",
      "source": [
        ""
      ],
      "metadata": {
        "id": "ksr4_HObPxx-"
      }
    },
    {
      "cell_type": "code",
      "source": [
        ""
      ],
      "metadata": {
        "id": "xI5uo7vjPyp3"
      },
      "execution_count": null,
      "outputs": []
    },
    {
      "cell_type": "code",
      "source": [
        "IL_frac = partFrac(IL,10).as_ordered_terms()\n",
        "IL_frac"
      ],
      "metadata": {
        "colab": {
          "base_uri": "https://localhost:8080/",
          "height": 58
        },
        "id": "pcVRcqJDmoxz",
        "outputId": "d95d181c-809c-4fe2-8e86-db8fbd922281"
      },
      "execution_count": null,
      "outputs": [
        {
          "output_type": "execute_result",
          "data": {
            "text/plain": [
              "⎡0.002499987604 - 0.0001188530332⋅ⅈ  0.002499987604 + 0.0001188530332⋅ⅈ  -5.00\n",
              "⎢──────────────────────────────────, ──────────────────────────────────, ─────\n",
              "⎣   s + 1.997998 + 126.4120565⋅ⅈ        s + 1.997998 - 126.4120565⋅ⅈ      s + \n",
              "\n",
              "4999975   5.0⎤\n",
              "────────, ───⎥\n",
              "4.004004   s ⎦"
            ],
            "image/png": "[encoded data removed]",
            "text/latex": "$\\displaystyle \\left[ \\frac{0.002499987604 - 0.0001188530332 i}{s + 1.997998 + 126.4120565 i}, \\  \\frac{0.002499987604 + 0.0001188530332 i}{s + 1.997998 - 126.4120565 i}, \\  - \\frac{5.004999975}{s + 4.004004}, \\  \\frac{5.0}{s}\\right]$"
          },
          "metadata": {},
          "execution_count": 217
        }
      ]
    },
    {
      "cell_type": "code",
      "source": [
        "iL = 0\n",
        "for i in range(len(IL_frac)):\n",
        "    iL += invL(IL_frac[i],s,t)\n",
        "iL = iL.simplify()\n",
        "symplot(t,iL,np.arange(0,1.5,.0001),'VC(t)')"
      ],
      "metadata": {
        "colab": {
          "base_uri": "https://localhost:8080/",
          "height": 279
        },
        "id": "Tp0mbJS0r6JB",
        "outputId": "73adf032-9d0d-4612-e110-b1d863558e29"
      },
      "execution_count": null,
      "outputs": [
        {
          "output_type": "execute_result",
          "data": {
            "text/plain": [
              "<Figure size 432x288 with 1 Axes>"
            ],
            "image/png": "[encoded data removed]"
          },
          "metadata": {},
          "execution_count": 234
        }
      ]
    },
    {
      "cell_type": "markdown",
      "source": [
        ""
      ],
      "metadata": {
        "id": "Zk71UeOWs1LZ"
      }
    },
    {
      "cell_type": "code",
      "source": [
        "iL"
      ],
      "metadata": {
        "id": "6xKfGV2JPz08",
        "outputId": "a77e19ae-6047-4457-b6d8-3e6e46505591",
        "colab": {
          "base_uri": "https://localhost:8080/",
          "height": 67
        }
      },
      "execution_count": null,
      "outputs": [
        {
          "output_type": "execute_result",
          "data": {
            "text/plain": [
              "⎛⎛                   -1.997998⋅re(t) - 126.4120565⋅im(t)                      \n",
              "⎝⎝- 0.0001188530332⋅ℯ                                   ⋅sin(126.4120565⋅re(t)\n",
              "\n",
              "                                     -1.997998⋅re(t) - 126.4120565⋅im(t)      \n",
              " - 1.997998⋅im(t)) + 0.002499987604⋅ℯ                                   ⋅cos(1\n",
              "\n",
              "                                                      -1.997998⋅re(t) + 126.41\n",
              "26.4120565⋅re(t) - 1.997998⋅im(t)) - 0.0001188530332⋅ℯ                        \n",
              "\n",
              "20565⋅im(t)                                                           -1.99799\n",
              "           ⋅sin(126.4120565⋅re(t) + 1.997998⋅im(t)) + 0.002499987604⋅ℯ        \n",
              "\n",
              "8⋅re(t) + 126.4120565⋅im(t)                                              ⎞  4.\n",
              "                           ⋅cos(126.4120565⋅re(t) + 1.997998⋅im(t)) + 5.0⎠⋅ℯ  \n",
              "\n",
              "004004⋅re(t)                                  ⎞  -4.004004⋅re(t)     \n",
              "             - 5.004999975⋅cos(4.004004⋅im(t))⎠⋅ℯ               ⋅θ(t)"
            ],
            "image/png": "[encoded data removed]",
            "text/latex": "$\\displaystyle \\left(\\left(- 0.0001188530332 e^{- 1.997998 \\operatorname{re}{\\left(t\\right)} - 126.4120565 \\operatorname{im}{\\left(t\\right)}} \\sin{\\left(126.4120565 \\operatorname{re}{\\left(t\\right)} - 1.997998 \\operatorname{im}{\\left(t\\right)} \\right)} + 0.002499987604 e^{- 1.997998 \\operatorname{re}{\\left(t\\right)} - 126.4120565 \\operatorname{im}{\\left(t\\right)}} \\cos{\\left(126.4120565 \\operatorname{re}{\\left(t\\right)} - 1.997998 \\operatorname{im}{\\left(t\\right)} \\right)} - 0.0001188530332 e^{- 1.997998 \\operatorname{re}{\\left(t\\right)} + 126.4120565 \\operatorname{im}{\\left(t\\right)}} \\sin{\\left(126.4120565 \\operatorname{re}{\\left(t\\right)} + 1.997998 \\operatorname{im}{\\left(t\\right)} \\right)} + 0.002499987604 e^{- 1.997998 \\operatorname{re}{\\left(t\\right)} + 126.4120565 \\operatorname{im}{\\left(t\\right)}} \\cos{\\left(126.4120565 \\operatorname{re}{\\left(t\\right)} + 1.997998 \\operatorname{im}{\\left(t\\right)} \\right)} + 5.0\\right) e^{4.004004 \\operatorname{re}{\\left(t\\right)}} - 5.004999975 \\cos{\\left(4.004004 \\operatorname{im}{\\left(t\\right)} \\right)}\\right) e^{- 4.004004 \\operatorname{re}{\\left(t\\right)}} \\theta\\left(t\\right)$"
          },
          "metadata": {},
          "execution_count": 235
        }
      ]
    }
  ]
}