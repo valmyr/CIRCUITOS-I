{
  "nbformat": 4,
  "nbformat_minor": 0,
  "metadata": {
    "colab": {
      "name": "Exerc_02_circuitos_i_3_unidade.ipynb",
      "provenance": [],
      "authorship_tag": "ABX9TyO/0J0s94GGdJkGL/yfO3TW",
      "include_colab_link": true
    },
    "kernelspec": {
      "name": "python3",
      "display_name": "Python 3"
    },
    "language_info": {
      "name": "python"
    }
  },
  "cells": [
    {
      "cell_type": "markdown",
      "metadata": {
        "id": "view-in-github",
        "colab_type": "text"
      },
      "source": [
        "<a href=\"https://colab.research.google.com/github/valmyr/CIRCUITOS-I/blob/main/Exerc_02_circuitos_i_3_unidade.ipynb\" target=\"_parent\"><img src=\"https://colab.research.google.com/assets/colab-badge.svg\" alt=\"Open In Colab\"/></a>"
      ]
    },
    {
      "cell_type": "code",
      "execution_count": 22,
      "metadata": {
        "id": "xPRoov4eKAY9",
        "colab": {
          "base_uri": "https://localhost:8080/"
        },
        "outputId": "4b883617-81d9-42d2-a9f3-df153f6155b8"
      },
      "outputs": [
        {
          "output_type": "stream",
          "name": "stdout",
          "text": [
            "fatal: destination path 'ElectricCircuits' already exists and is not an empty directory.\n"
          ]
        }
      ],
      "source": [
        "#\n",
        "import sys\n",
        "!git clone https://github.com/edsonportosilva/ElectricCircuits.git\n",
        "sys.path.insert(0, '/content/ElectricCircuits/Jupyter notebooks/')"
      ]
    },
    {
      "cell_type": "code",
      "source": [
        "import sympy as sp\n",
        "import numpy as np\n",
        "from matplotlib.pyplot import plot as plt\n",
        "from utils import round_expr, symdisp, symplot\n",
        "from sympy.polys.partfrac import apart"
      ],
      "metadata": {
        "id": "aMDv6Q7D8giR"
      },
      "execution_count": 23,
      "outputs": []
    },
    {
      "cell_type": "code",
      "source": [
        "sp.init_printing()\n",
        "# transformada de Laplace\n",
        "def L(f,t,s):\n",
        "    return sp.laplace_transform(f, t, s, noconds=True)\n",
        "\n",
        "# transformada inversa de Laplace\n",
        "def invL(F,s,t):\n",
        "    return sp.re(sp.inverse_laplace_transform(F, s, t, noconds=True))\n",
        "\n",
        "# funções para auxílio na expansão em frações parciais\n",
        "def adjustCoeff(expr):    \n",
        "    coeff = expr.as_numer_denom()\n",
        "    c0 = sp.poly(coeff[1].cancel()).coeffs()[0]\n",
        "    \n",
        "    return (coeff[0].cancel()/c0)/(coeff[1].cancel()/c0)\n",
        "\n",
        "def partFrac(expr, Ndigits):\n",
        "    expr = expr.cancel()\n",
        "    expr = apart(adjustCoeff(expr), s, full=True).doit()\n",
        "    \n",
        "    return sp.N(expr, Ndigits)\n"
      ],
      "metadata": {
        "id": "j75wRfvpnpxH"
      },
      "execution_count": 24,
      "outputs": []
    },
    {
      "cell_type": "code",
      "source": [
        "matricula = [4,2,0]\n",
        "R1 = (matricula[0]+1)"
      ],
      "metadata": {
        "id": "UHdHNDcMLQYS"
      },
      "execution_count": 25,
      "outputs": []
    },
    {
      "cell_type": "code",
      "source": [
        "matricula[0]"
      ],
      "metadata": {
        "colab": {
          "base_uri": "https://localhost:8080/",
          "height": 37
        },
        "id": "gDUp6B31xYZp",
        "outputId": "33a0dc88-1921-43bb-d3f2-c7229e090f73"
      },
      "execution_count": 26,
      "outputs": [
        {
          "output_type": "execute_result",
          "data": {
            "text/plain": [
              "4"
            ],
            "image/png": "[encoded data removed]",
            "text/latex": "$\\displaystyle 4$"
          },
          "metadata": {},
          "execution_count": 26
        }
      ]
    },
    {
      "cell_type": "code",
      "source": [
        "I1,IL,IC,Vx,Vx_,Vx__,Vc_,Vc__,V1,V2,s,t = sp.symbols('I_1,I_L,I_C,V_x,Vx_,V_x_,V_c_,V__c_,V_1,V_2,s,t')\n",
        "\n",
        "I1 = (V1 - s*Vx)/(0.5*(s**2))\n",
        "IL = Vx/(2*R1+0.5*s)\n",
        "IC = (s*Vx-V2)/4000"
      ],
      "metadata": {
        "id": "b8L01wHIKRxp"
      },
      "execution_count": 27,
      "outputs": []
    },
    {
      "cell_type": "code",
      "source": [
        "Eq = sp.Eq(I1,IL+IC)"
      ],
      "metadata": {
        "id": "O5x3o6m7j7AL"
      },
      "execution_count": 28,
      "outputs": []
    },
    {
      "cell_type": "code",
      "source": [
        ""
      ],
      "metadata": {
        "id": "Pa4_MauhuMGL"
      },
      "execution_count": 28,
      "outputs": []
    },
    {
      "cell_type": "code",
      "source": [
        "#Contribuição de V1\n",
        "sol = sp.solve(Eq.subs({V1:20,V2:0}),Vx,dict=True)[0]\n",
        "Vx_ = sol[Vx]\n",
        "IL_ = IL.subs({Vx:Vx_})\n",
        "Vc_ = (IC*(4000/s)).subs({Vx:Vx_,V1:20,V2:0}).simplify()"
      ],
      "metadata": {
        "id": "R7eNJbXakIes"
      },
      "execution_count": 29,
      "outputs": []
    },
    {
      "cell_type": "code",
      "source": [
        "Vc_"
      ],
      "metadata": {
        "colab": {
          "base_uri": "https://localhost:8080/",
          "height": 55
        },
        "id": "_fSNIwyUlcfm",
        "outputId": "fbfd51ca-bfd5-4664-8f24-ed16c8bd4257"
      },
      "execution_count": 30,
      "outputs": [
        {
          "output_type": "execute_result",
          "data": {
            "text/plain": [
              "         160000.0⋅s + 3200000.0        \n",
              "───────────────────────────────────────\n",
              "  ⎛ 3         2                       ⎞\n",
              "s⋅⎝s  + 20.0⋅s  + 16000.0⋅s + 160000.0⎠"
            ],
            "image/png": "[encoded data removed]",
            "text/latex": "$\\displaystyle \\frac{160000.0 s + 3200000.0}{s \\left(s^{3} + 20.0 s^{2} + 16000.0 s + 160000.0\\right)}$"
          },
          "metadata": {},
          "execution_count": 30
        }
      ]
    },
    {
      "cell_type": "code",
      "source": [
        "#Contribuição de V2\n",
        "sol = sp.solve(Eq.subs({V1:0,V2:10}),Vx,dict=True)[0]\n",
        "Vx__ = sol[Vx]\n",
        "IL__ = IL.subs({Vx:Vx__,V1:0,V2:10}).simplify()\n",
        "Vc__ = (IC*(4000/s)).subs({Vx:Vx__,V1:0,V2:10}).simplify()"
      ],
      "metadata": {
        "id": "MUiqmhI8TPJN"
      },
      "execution_count": 31,
      "outputs": []
    },
    {
      "cell_type": "code",
      "source": [
        "symdisp(\"Vx_{'}(s) = \",Vx_,'Vs')\n",
        "symdisp(\"Vx_{''}(s) = \",Vx__,'Vs')\n",
        "symdisp('Vx(s) = ',(Vx__+Vx_).simplify(),'Vs')"
      ],
      "metadata": {
        "colab": {
          "base_uri": "https://localhost:8080/"
        },
        "id": "rnI5Kucy8JFD",
        "outputId": "6343f70e-135a-4b2f-ab7f-f813c23acc9b"
      },
      "execution_count": 32,
      "outputs": [
        {
          "output_type": "display_data",
          "data": {
            "text/plain": [
              "<IPython.core.display.Math object>"
            ],
            "text/latex": "$\\displaystyle Vx_{'}(s) = \\frac{160000.0 \\left(s + 20.0\\right)}{s \\left(s^{3} + 20.0 s^{2} + 16000.0 s + 160000.0\\right)}\\;Vs$"
          },
          "metadata": {}
        },
        {
          "output_type": "display_data",
          "data": {
            "text/plain": [
              "<IPython.core.display.Math object>"
            ],
            "text/latex": "$\\displaystyle Vx_{''}(s) = \\frac{10.0 s \\left(s + 20.0\\right)}{s^{3} + 20.0 s^{2} + 16000.0 s + 160000.0}\\;Vs$"
          },
          "metadata": {}
        },
        {
          "output_type": "display_data",
          "data": {
            "text/plain": [
              "<IPython.core.display.Math object>"
            ],
            "text/latex": "$\\displaystyle Vx(s) = \\frac{3.90625 \\cdot 10^{-10} s^{3} + 7.8125 \\cdot 10^{-9} s^{2} + 6.25 \\cdot 10^{-6} s + 0.000125}{s \\left(3.90625 \\cdot 10^{-11} s^{3} + 7.8125 \\cdot 10^{-10} s^{2} + 6.25 \\cdot 10^{-7} s + 6.25 \\cdot 10^{-6}\\right)}\\;Vs$"
          },
          "metadata": {}
        }
      ]
    },
    {
      "cell_type": "code",
      "source": [
        "IL__\n"
      ],
      "metadata": {
        "colab": {
          "base_uri": "https://localhost:8080/"
        },
        "id": "SigZAohwToIe",
        "outputId": "1793e8df-c939-430f-d4a8-5a5f287c1454"
      },
      "execution_count": 33,
      "outputs": [
        {
          "output_type": "execute_result",
          "data": {
            "text/plain": [
              "                10.0⋅s               \n",
              "─────────────────────────────────────\n",
              "     3         2                     \n",
              "0.5⋅s  + 10.0⋅s  + 8000.0⋅s + 80000.0"
            ],
            "image/png": "[encoded data removed]",
            "text/latex": "$\\displaystyle \\frac{10.0 s}{0.5 s^{3} + 10.0 s^{2} + 8000.0 s + 80000.0}$"
          },
          "metadata": {},
          "execution_count": 33
        }
      ]
    },
    {
      "cell_type": "code",
      "source": [
        "Vc__"
      ],
      "metadata": {
        "colab": {
          "base_uri": "https://localhost:8080/"
        },
        "id": "tintPn3CTs2m",
        "outputId": "6ec3fb0b-0c6a-46d3-f9b0-42ed83a83617"
      },
      "execution_count": 34,
      "outputs": [
        {
          "output_type": "execute_result",
          "data": {
            "text/plain": [
              "         -(160000.0⋅s + 1600000.0)         \n",
              "───────────────────────────────────────────\n",
              "  ⎛     3         2                       ⎞\n",
              "s⋅⎝1.0⋅s  + 20.0⋅s  + 16000.0⋅s + 160000.0⎠"
            ],
            "image/png": "[encoded data removed]",
            "text/latex": "$\\displaystyle - \\frac{160000.0 s + 1600000.0}{s \\left(1.0 s^{3} + 20.0 s^{2} + 16000.0 s + 160000.0\\right)}$"
          },
          "metadata": {},
          "execution_count": 34
        }
      ]
    },
    {
      "cell_type": "code",
      "source": [
        "#Assim Vc = Vc_+Vc__ é IL = IL_+IL__\n",
        "VC = (Vc_ + Vc__).simplify()\n",
        "IL = (IL_+IL__).simplify()"
      ],
      "metadata": {
        "id": "j2OvXjzPXDuk"
      },
      "execution_count": 35,
      "outputs": []
    },
    {
      "cell_type": "code",
      "source": [
        "VC.cancel()"
      ],
      "metadata": {
        "colab": {
          "base_uri": "https://localhost:8080/"
        },
        "id": "8kOSYD7fXVZv",
        "outputId": "51ba4fdc-ba79-4dff-e570-91c4307efa2f"
      },
      "execution_count": 36,
      "outputs": [
        {
          "output_type": "execute_result",
          "data": {
            "text/plain": [
              "                1600000.0                 \n",
              "──────────────────────────────────────────\n",
              "     4         3            2             \n",
              "1.0⋅s  + 20.0⋅s  + 16000.0⋅s  + 160000.0⋅s"
            ],
            "image/png": "[encoded data removed]",
            "text/latex": "$\\displaystyle \\frac{1600000.0}{1.0 s^{4} + 20.0 s^{3} + 16000.0 s^{2} + 160000.0 s}$"
          },
          "metadata": {},
          "execution_count": 36
        }
      ]
    },
    {
      "cell_type": "code",
      "source": [
        "IL"
      ],
      "metadata": {
        "colab": {
          "base_uri": "https://localhost:8080/"
        },
        "id": "rpA0IpYWXWvN",
        "outputId": "48dbc8f2-1f49-444c-cf40-46c9f55feec0"
      },
      "execution_count": 37,
      "outputs": [
        {
          "output_type": "execute_result",
          "data": {
            "text/plain": [
              "                  2                      \n",
              "             5.0⋅s  + 80000.0            \n",
              "─────────────────────────────────────────\n",
              "  ⎛      3        2                     ⎞\n",
              "s⋅⎝0.25⋅s  + 5.0⋅s  + 4000.0⋅s + 40000.0⎠"
            ],
            "image/png": "[encoded data removed]",
            "text/latex": "$\\displaystyle \\frac{5.0 s^{2} + 80000.0}{s \\left(0.25 s^{3} + 5.0 s^{2} + 4000.0 s + 40000.0\\right)}$"
          },
          "metadata": {},
          "execution_count": 37
        }
      ]
    },
    {
      "cell_type": "code",
      "source": [
        "VC_frac = partFrac(VC,10).as_ordered_terms()\n",
        "VC_frac"
      ],
      "metadata": {
        "id": "Fjn9z34qnhdY"
      },
      "execution_count": null,
      "outputs": []
    },
    {
      "cell_type": "code",
      "source": [
        "vc = 0\n",
        "for i in range(len(VC_frac)):\n",
        "    vc += invL(VC_frac[i],s,t)\n",
        "vc = vc.simplify()\n",
        "symplot(t,vc,np.arange(0,1.5,.0001),'VC(t)')"
      ],
      "metadata": {
        "id": "IxAfBmRjMmA4"
      },
      "execution_count": null,
      "outputs": []
    },
    {
      "cell_type": "markdown",
      "source": [
        ""
      ],
      "metadata": {
        "id": "ksr4_HObPxx-"
      }
    },
    {
      "cell_type": "code",
      "source": [
        ""
      ],
      "metadata": {
        "id": "xI5uo7vjPyp3"
      },
      "execution_count": null,
      "outputs": []
    },
    {
      "cell_type": "code",
      "source": [
        "IL_frac = partFrac(IL,10).as_ordered_terms()\n",
        "IL_frac"
      ],
      "metadata": {
        "id": "pcVRcqJDmoxz"
      },
      "execution_count": null,
      "outputs": []
    },
    {
      "cell_type": "code",
      "source": [
        "iL = 0\n",
        "for i in range(len(IL_frac)):\n",
        "    iL += invL(IL_frac[i],s,t)\n",
        "iL = iL.simplify()\n",
        "symplot(t,iL,np.arange(0,1.5,.0001),'VC(t)')"
      ],
      "metadata": {
        "id": "Tp0mbJS0r6JB"
      },
      "execution_count": null,
      "outputs": []
    },
    {
      "cell_type": "markdown",
      "source": [
        ""
      ],
      "metadata": {
        "id": "Zk71UeOWs1LZ"
      }
    },
    {
      "cell_type": "code",
      "source": [
        "iL"
      ],
      "metadata": {
        "id": "6xKfGV2JPz08"
      },
      "execution_count": null,
      "outputs": []
    }
  ]
}