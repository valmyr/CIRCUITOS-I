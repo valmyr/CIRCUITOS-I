{
  "nbformat": 4,
  "nbformat_minor": 0,
  "metadata": {
    "colab": {
      "name": "Exerc_02_circuitos_i_3_unidade.ipynb",
      "provenance": [],
      "include_colab_link": true
    },
    "kernelspec": {
      "name": "python3",
      "display_name": "Python 3"
    },
    "language_info": {
      "name": "python"
    }
  },
  "cells": [
    {
      "cell_type": "markdown",
      "metadata": {
        "id": "view-in-github",
        "colab_type": "text"
      },
      "source": [
        "<a href=\"https://colab.research.google.com/github/valmyr/CIRCUITOS-I/blob/main/Exerc_02_circuitos_i_3_unidade.ipynb\" target=\"_parent\"><img src=\"https://colab.research.google.com/assets/colab-badge.svg\" alt=\"Open In Colab\"/></a>"
      ]
    },
    {
      "cell_type": "code",
      "execution_count": 86,
      "metadata": {
        "id": "xPRoov4eKAY9"
      },
      "outputs": [],
      "source": [
        "#https://tinyurl.com/2fx7kztl\n",
        "import sys\n",
        "import os\n",
        "if(os.path.isdir(r'/content/ElectricCircuits/Jupyter notebooks/') == False):\n",
        "    sys.path.insert(0, '/content/ElectricCircuits/Jupyter notebooks/')\n",
        "    !git clone https://github.com/edsonportosilva/ElectricCircuits.git"
      ]
    },
    {
      "cell_type": "code",
      "source": [
        "import sympy as sp\n",
        "import numpy as np\n",
        "from matplotlib.pyplot import plot as plt\n",
        "from utils import round_expr, symdisp, symplot\n",
        "from sympy.polys.partfrac import apart\n",
        "bt = np.arange(-0.1,1,(10**-6)/10)"
      ],
      "metadata": {
        "id": "aMDv6Q7D8giR"
      },
      "execution_count": 87,
      "outputs": []
    },
    {
      "cell_type": "code",
      "source": [
        "sp.init_printing()\n",
        "# transformada de Laplace\n",
        "def L(f,t,s):\n",
        "    return sp.laplace_transform(f, t, s, noconds=True)\n",
        "\n",
        "# transformada inversa de Laplace\n",
        "def invL(F,s,t):\n",
        "    return sp.re(sp.inverse_laplace_transform(F, s, t, noconds=True))\n",
        "\n",
        "# funções para auxílio na expansão em frações parciais\n",
        "def adjustCoeff(expr):    \n",
        "    coeff = expr.as_numer_denom()\n",
        "    c0 = sp.poly(coeff[1].cancel()).coeffs()[0]\n",
        "    \n",
        "    return (coeff[0].cancel()/c0)/(coeff[1].cancel()/c0)\n",
        "\n",
        "def partFrac(expr, Ndigits):\n",
        "    expr = expr.cancel()\n",
        "    expr = apart(adjustCoeff(expr), s, full=True).doit()\n",
        "    \n",
        "    return sp.N(expr, Ndigits)\n"
      ],
      "metadata": {
        "id": "j75wRfvpnpxH"
      },
      "execution_count": 88,
      "outputs": []
    },
    {
      "cell_type": "code",
      "source": [
        "matricula = [1,1,0]\n",
        "R1 = matricula[0]+1\n",
        "R2 = matricula[1]+1\n",
        "R3 = matricula[2]+1\n",
        "print(f'R1 = {R1} ohms.')\n",
        "print(f'R2 = {R2} ohms.')\n",
        "print(f'R3 = {R3} ohms.')"
      ],
      "metadata": {
        "id": "UHdHNDcMLQYS",
        "colab": {
          "base_uri": "https://localhost:8080/"
        },
        "outputId": "cf3f5d43-860c-4191-abf2-7aa6dde58600"
      },
      "execution_count": 89,
      "outputs": [
        {
          "output_type": "stream",
          "name": "stdout",
          "text": [
            "R1 = 2 ohms.\n",
            "R2 = 2 ohms.\n",
            "R3 = 1 ohms.\n"
          ]
        }
      ]
    },
    {
      "cell_type": "code",
      "source": [
        "I1,IL,IC,Vx,Vx_,Vx__,Vc_,Vc__,V1,V2,s,t = sp.symbols('I_1,I_L,I_C,V_x,Vx_,V_x_,V_c_,V__c_,V_1,V_2,s,t')\n",
        "I1 = (V1 - s*Vx)/(0.5*(s**2))\n",
        "IL = Vx/(2*R1+0.5*s).simplify()\n",
        "IC = (s*Vx-V2)/4000"
      ],
      "metadata": {
        "id": "b8L01wHIKRxp"
      },
      "execution_count": 90,
      "outputs": []
    },
    {
      "cell_type": "code",
      "source": [
        "Eq = sp.Eq(I1,IL+IC)"
      ],
      "metadata": {
        "id": "O5x3o6m7j7AL"
      },
      "execution_count": 91,
      "outputs": []
    },
    {
      "cell_type": "code",
      "source": [
        "#Contribuição de V1\n",
        "sol = sp.solve(Eq.subs({V1:20,V2:0}),Vx,dict=True)[0]\n",
        "Vx_ = sol[Vx]\n",
        "IL_ = IL.subs({Vx:Vx_})\n",
        "Vc_ = (IC*(4000/s)).subs({Vx:Vx_,V1:20,V2:0}).simplify()"
      ],
      "metadata": {
        "id": "R7eNJbXakIes"
      },
      "execution_count": 92,
      "outputs": []
    },
    {
      "cell_type": "code",
      "source": [
        "Vc_"
      ],
      "metadata": {
        "colab": {
          "base_uri": "https://localhost:8080/",
          "height": 55
        },
        "id": "_fSNIwyUlcfm",
        "outputId": "b8f9e9e6-8d93-4ada-ffd4-3e17aec0d392"
      },
      "execution_count": 93,
      "outputs": [
        {
          "output_type": "execute_result",
          "data": {
            "text/plain": [
              "        160000.0⋅s + 1280000.0       \n",
              "─────────────────────────────────────\n",
              "  ⎛ 3        2                      ⎞\n",
              "s⋅⎝s  + 8.0⋅s  + 16000.0⋅s + 64000.0⎠"
            ],
            "image/png": "[encoded data removed]",
            "text/latex": "$\\displaystyle \\frac{160000.0 s + 1280000.0}{s \\left(s^{3} + 8.0 s^{2} + 16000.0 s + 64000.0\\right)}$"
          },
          "metadata": {},
          "execution_count": 93
        }
      ]
    },
    {
      "cell_type": "code",
      "source": [
        "IL_"
      ],
      "metadata": {
        "colab": {
          "base_uri": "https://localhost:8080/",
          "height": 57
        },
        "id": "KxAOv4nXVgRh",
        "outputId": "e033ae0d-d664-4962-9a17-5621c2a7ee3a"
      },
      "execution_count": 94,
      "outputs": [
        {
          "output_type": "execute_result",
          "data": {
            "text/plain": [
              "                160000.0⋅(s + 8.0)               \n",
              "─────────────────────────────────────────────────\n",
              "              ⎛ 3        2                      ⎞\n",
              "s⋅(0.5⋅s + 4)⋅⎝s  + 8.0⋅s  + 16000.0⋅s + 64000.0⎠"
            ],
            "image/png": "[encoded data removed]",
            "text/latex": "$\\displaystyle \\frac{160000.0 \\left(s + 8.0\\right)}{s \\left(0.5 s + 4\\right) \\left(s^{3} + 8.0 s^{2} + 16000.0 s + 64000.0\\right)}$"
          },
          "metadata": {},
          "execution_count": 94
        }
      ]
    },
    {
      "cell_type": "code",
      "source": [
        "#Contribuição de V2\n",
        "sol = sp.solve(Eq.subs({V1:0,V2:10}),Vx,dict=True)[0]\n",
        "Vx__ = sol[Vx]\n",
        "IL__ = IL.subs({Vx:Vx__,V1:0,V2:10}).simplify()\n",
        "Vc__ = (IC*(4000/s)).subs({Vx:Vx__,V1:0,V2:10}).simplify()"
      ],
      "metadata": {
        "id": "MUiqmhI8TPJN"
      },
      "execution_count": 95,
      "outputs": []
    },
    {
      "cell_type": "code",
      "source": [
        "IL__\n"
      ],
      "metadata": {
        "colab": {
          "base_uri": "https://localhost:8080/",
          "height": 52
        },
        "id": "SigZAohwToIe",
        "outputId": "010bd71f-e479-477a-9560-e5935a5b6f76"
      },
      "execution_count": 96,
      "outputs": [
        {
          "output_type": "execute_result",
          "data": {
            "text/plain": [
              "               10.0⋅s               \n",
              "────────────────────────────────────\n",
              "     3        2                     \n",
              "0.5⋅s  + 4.0⋅s  + 8000.0⋅s + 32000.0"
            ],
            "image/png": "[encoded data removed]",
            "text/latex": "$\\displaystyle \\frac{10.0 s}{0.5 s^{3} + 4.0 s^{2} + 8000.0 s + 32000.0}$"
          },
          "metadata": {},
          "execution_count": 96
        }
      ]
    },
    {
      "cell_type": "code",
      "source": [
        "Vc__"
      ],
      "metadata": {
        "colab": {
          "base_uri": "https://localhost:8080/",
          "height": 55
        },
        "id": "tintPn3CTs2m",
        "outputId": "e03a9d85-2d11-42c8-b1fe-a58d212dd2ce"
      },
      "execution_count": 97,
      "outputs": [
        {
          "output_type": "execute_result",
          "data": {
            "text/plain": [
              "        -(160000.0⋅s + 640000.0)         \n",
              "─────────────────────────────────────────\n",
              "  ⎛     3        2                      ⎞\n",
              "s⋅⎝1.0⋅s  + 8.0⋅s  + 16000.0⋅s + 64000.0⎠"
            ],
            "image/png": "[encoded data removed]",
            "text/latex": "$\\displaystyle - \\frac{160000.0 s + 640000.0}{s \\left(1.0 s^{3} + 8.0 s^{2} + 16000.0 s + 64000.0\\right)}$"
          },
          "metadata": {},
          "execution_count": 97
        }
      ]
    },
    {
      "cell_type": "code",
      "source": [
        "symdisp(\"Vx_{'}(s) = \",Vx_,'Vs')\n",
        "symdisp(\"Vx_{''}(s) = \",Vx__,'Vs')\n",
        "symdisp('Vx(s) = ',(Vx__+Vx_).expand().simplify(),'Vs')"
      ],
      "metadata": {
        "colab": {
          "base_uri": "https://localhost:8080/",
          "height": 135
        },
        "id": "EYrlk6eY7FCd",
        "outputId": "096aa83b-f5ec-4eba-e63f-75b6f895a392"
      },
      "execution_count": 98,
      "outputs": [
        {
          "output_type": "display_data",
          "data": {
            "text/plain": [
              "<IPython.core.display.Math object>"
            ],
            "text/latex": "$\\displaystyle Vx_{'}(s) = \\frac{160000.0 \\left(s + 8.0\\right)}{s \\left(s^{3} + 8.0 s^{2} + 16000.0 s + 64000.0\\right)}\\;Vs$"
          },
          "metadata": {}
        },
        {
          "output_type": "display_data",
          "data": {
            "text/plain": [
              "<IPython.core.display.Math object>"
            ],
            "text/latex": "$\\displaystyle Vx_{''}(s) = \\frac{10.0 s \\left(s + 8.0\\right)}{s^{3} + 8.0 s^{2} + 16000.0 s + 64000.0}\\;Vs$"
          },
          "metadata": {}
        },
        {
          "output_type": "display_data",
          "data": {
            "text/plain": [
              "<IPython.core.display.Math object>"
            ],
            "text/latex": "$\\displaystyle Vx(s) = \\frac{s^{2} \\left(10.0 s + 80.0\\right) + 160000.0 s + 1280000.0}{s \\left(s^{3} + 8.0 s^{2} + 16000.0 s + 64000.0\\right)}\\;Vs$"
          },
          "metadata": {}
        }
      ]
    },
    {
      "cell_type": "code",
      "source": [
        "#Assim, Vc = Vc_+Vc__ e IL = IL_+IL__.\n",
        "VC = (Vc_ + Vc__).simplify()\n",
        "IL = (IL_+IL__).simplify()"
      ],
      "metadata": {
        "id": "j2OvXjzPXDuk"
      },
      "execution_count": 99,
      "outputs": []
    },
    {
      "cell_type": "code",
      "source": [
        "symdisp('VC(s) = ',VC,'Vs')"
      ],
      "metadata": {
        "colab": {
          "base_uri": "https://localhost:8080/",
          "height": 55
        },
        "id": "8kOSYD7fXVZv",
        "outputId": "6ad9b8d6-55d8-4352-e885-c12970c7593e"
      },
      "execution_count": 100,
      "outputs": [
        {
          "output_type": "display_data",
          "data": {
            "text/plain": [
              "<IPython.core.display.Math object>"
            ],
            "text/latex": "$\\displaystyle VC(s) = \\frac{640000.0}{s \\left(1.0 s^{3} + 8.0 s^{2} + 16000.0 s + 64000.0\\right)}\\;Vs$"
          },
          "metadata": {}
        }
      ]
    },
    {
      "cell_type": "code",
      "source": [
        "symdisp('IL(s) = ',IL,'As')"
      ],
      "metadata": {
        "colab": {
          "base_uri": "https://localhost:8080/",
          "height": 58
        },
        "id": "rpA0IpYWXWvN",
        "outputId": "836b4ad6-344d-4537-d237-61289dc1bb24"
      },
      "execution_count": 101,
      "outputs": [
        {
          "output_type": "display_data",
          "data": {
            "text/plain": [
              "<IPython.core.display.Math object>"
            ],
            "text/latex": "$\\displaystyle IL(s) = \\frac{5.0 s^{2} + 80000.0}{s \\left(0.25 s^{3} + 2.0 s^{2} + 4000.0 s + 16000.0\\right)}\\;As$"
          },
          "metadata": {}
        }
      ]
    },
    {
      "cell_type": "markdown",
      "source": [
        ""
      ],
      "metadata": {
        "id": "ksr4_HObPxx-"
      }
    },
    {
      "cell_type": "code",
      "source": [
        "vC = (10 - 10*sp.exp(-4*t) + sp.exp(-2*t)*(-2.006*10**-5*sp.cos(126.41*t) -.316*sp.sin(126.41*t)))*sp.Heaviside(t) \n",
        "iL = (5 -5*sp.exp(-4*t) + sp.exp(-2*t)*(0.004999*sp.cos(126.41*t) - 0.00023771*sp.sin(126.41*t)))*sp.Heaviside(t)"
      ],
      "metadata": {
        "id": "X1m7eVztFIAG"
      },
      "execution_count": 102,
      "outputs": []
    },
    {
      "cell_type": "code",
      "source": [
        "iL\n",
        "symdisp('iL = ',iL,'As')"
      ],
      "metadata": {
        "colab": {
          "base_uri": "https://localhost:8080/",
          "height": 39
        },
        "id": "irBOctFd2vji",
        "outputId": "bc28de01-eb0b-4f21-da5c-591bce39dcb4"
      },
      "execution_count": 103,
      "outputs": [
        {
          "output_type": "display_data",
          "data": {
            "text/plain": [
              "<IPython.core.display.Math object>"
            ],
            "text/latex": "$\\displaystyle iL = \\left(\\left(- 0.00023771 \\sin{\\left(126.41 t \\right)} + 0.004999 \\cos{\\left(126.41 t \\right)}\\right) e^{- 2 t} + 5 - 5 e^{- 4 t}\\right) \\theta\\left(t\\right)\\;As$"
          },
          "metadata": {}
        }
      ]
    },
    {
      "cell_type": "code",
      "source": [
        "symdisp('vC = ',vC,'Vs')\n",
        "symplot(t,vC,bt,'iL(t)')"
      ],
      "metadata": {
        "colab": {
          "base_uri": "https://localhost:8080/",
          "height": 301
        },
        "id": "g3-qxEAB257n",
        "outputId": "f2fca955-42a3-46c6-db81-4bf4da5bc96c"
      },
      "execution_count": 104,
      "outputs": [
        {
          "output_type": "display_data",
          "data": {
            "text/plain": [
              "<IPython.core.display.Math object>"
            ],
            "text/latex": "$\\displaystyle vC = \\left(\\left(- 0.316 \\sin{\\left(126.41 t \\right)} - 2.006 \\cdot 10^{-5} \\cos{\\left(126.41 t \\right)}\\right) e^{- 2 t} + 10 - 10 e^{- 4 t}\\right) \\theta\\left(t\\right)\\;Vs$"
          },
          "metadata": {}
        },
        {
          "output_type": "execute_result",
          "data": {
            "text/plain": [
              "<Figure size 432x288 with 1 Axes>"
            ],
            "image/png": "[encoded data removed]"
          },
          "metadata": {},
          "execution_count": 104
        }
      ]
    },
    {
      "cell_type": "code",
      "source": [
        "symdisp('iL(t) = ',iL,'As')\n",
        "symplot(t,iL,bt,'iL(t)')"
      ],
      "metadata": {
        "colab": {
          "base_uri": "https://localhost:8080/",
          "height": 301
        },
        "id": "J_lKJ23QGBfP",
        "outputId": "2fc75d98-c1fe-4327-89c6-7e1a5db0ae0f"
      },
      "execution_count": 105,
      "outputs": [
        {
          "output_type": "display_data",
          "data": {
            "text/plain": [
              "<IPython.core.display.Math object>"
            ],
            "text/latex": "$\\displaystyle iL(t) = \\left(\\left(- 0.00023771 \\sin{\\left(126.41 t \\right)} + 0.004999 \\cos{\\left(126.41 t \\right)}\\right) e^{- 2 t} + 5 - 5 e^{- 4 t}\\right) \\theta\\left(t\\right)\\;As$"
          },
          "metadata": {}
        },
        {
          "output_type": "execute_result",
          "data": {
            "text/plain": [
              "<Figure size 432x288 with 1 Axes>"
            ],
            "image/png": "[encoded data removed]"
          },
          "metadata": {},
          "execution_count": 105
        }
      ]
    },
    {
      "cell_type": "markdown",
      "source": [
        ""
      ],
      "metadata": {
        "id": "Zk71UeOWs1LZ"
      }
    }
  ]
}